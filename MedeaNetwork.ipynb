{
 "cells": [
  {
   "cell_type": "markdown",
   "metadata": {},
   "source": [
    "# NETWORK ANALYSIS OF EURIPIDES' MEDEA"
   ]
  },
  {
   "cell_type": "code",
   "execution_count": 1,
   "metadata": {
    "collapsed": true
   },
   "outputs": [],
   "source": [
    "%matplotlib inline \n",
    "%load_ext autoreload\n",
    "import networkx as nx\n",
    "import matplotlib.pyplot as plt\n",
    "import numpy as np\n",
    "import pickle\n",
    "# import csv\n",
    "# import itertools\n",
    "from prettytable import PrettyTable #sudo pip install prettytable\n",
    "from utils import *"
   ]
  },
  {
   "cell_type": "code",
   "execution_count": 2,
   "metadata": {
    "collapsed": true
   },
   "outputs": [],
   "source": [
    "fileName = 'corpora/Medea_m.txt'\n",
    "f=open(fileName,'r')\n",
    "# attributes_filename='corpora/Character Atrributes - Macbeth - 1.csv'"
   ]
  },
  {
   "cell_type": "code",
   "execution_count": 4,
   "metadata": {
    "collapsed": false
   },
   "outputs": [
    {
     "ename": "UnboundLocalError",
     "evalue": "local variable 'pscen' referenced before assignment",
     "output_type": "error",
     "traceback": [
      "\u001b[1;31m---------------------------------------------------------------------------\u001b[0m",
      "\u001b[1;31mUnboundLocalError\u001b[0m                         Traceback (most recent call last)",
      "\u001b[1;32m<ipython-input-4-9a544fb9b2d6>\u001b[0m in \u001b[0;36m<module>\u001b[1;34m()\u001b[0m\n\u001b[0;32m      3\u001b[0m \u001b[1;32mfrom\u001b[0m \u001b[0msyntheticThreeLayerGraph_time\u001b[0m \u001b[1;32mimport\u001b[0m \u001b[0msynthetic_multi_level_dict\u001b[0m\u001b[1;33m,\u001b[0m\u001b[0mplot_graph_dict\u001b[0m\u001b[1;33m,\u001b[0m\u001b[0mplot_graph_k_n\u001b[0m\u001b[1;33m,\u001b[0m \u001b[0mplot_total_graph_with_weights\u001b[0m\u001b[1;33m\u001b[0m\u001b[0m\n\u001b[0;32m      4\u001b[0m \u001b[1;33m\u001b[0m\u001b[0m\n\u001b[1;32m----> 5\u001b[1;33m \u001b[0mact_dict\u001b[0m\u001b[1;33m,\u001b[0m\u001b[0mu\u001b[0m\u001b[1;33m,\u001b[0m\u001b[0mpers_l\u001b[0m\u001b[1;33m,\u001b[0m\u001b[0mpers_dict\u001b[0m\u001b[1;33m,\u001b[0m\u001b[0mpact\u001b[0m\u001b[1;33m,\u001b[0m\u001b[0mlact\u001b[0m\u001b[1;33m,\u001b[0m\u001b[0mscen_dict\u001b[0m\u001b[1;33m,\u001b[0m\u001b[0mlscen\u001b[0m\u001b[1;33m,\u001b[0m\u001b[0mpscen\u001b[0m\u001b[1;33m=\u001b[0m\u001b[0mcreate_dict_of_acts\u001b[0m\u001b[1;33m(\u001b[0m\u001b[0mfileName\u001b[0m\u001b[1;33m)\u001b[0m\u001b[1;33m\u001b[0m\u001b[0m\n\u001b[0m\u001b[0;32m      6\u001b[0m \u001b[1;33m\u001b[0m\u001b[0m\n\u001b[0;32m      7\u001b[0m \u001b[1;32mprint\u001b[0m \u001b[1;34m'Characters (actors) appearing in Medea:'\u001b[0m\u001b[1;33m\u001b[0m\u001b[0m\n",
      "\u001b[1;32m/home/mab/Dropbox/Python Projects/LiteratureNetworks/testy2.pyc\u001b[0m in \u001b[0;36mcreate_dict_of_acts\u001b[1;34m(path)\u001b[0m\n\u001b[0;32m    136\u001b[0m     \u001b[0mfifi\u001b[0m\u001b[1;33m.\u001b[0m\u001b[0mclose\u001b[0m\u001b[1;33m(\u001b[0m\u001b[1;33m)\u001b[0m\u001b[1;33m\u001b[0m\u001b[0m\n\u001b[0;32m    137\u001b[0m \u001b[1;33m\u001b[0m\u001b[0m\n\u001b[1;32m--> 138\u001b[1;33m     \u001b[1;32mreturn\u001b[0m \u001b[0mact_dict\u001b[0m\u001b[1;33m,\u001b[0m\u001b[0mu\u001b[0m\u001b[1;33m,\u001b[0m\u001b[0mpers_l\u001b[0m\u001b[1;33m,\u001b[0m\u001b[0mpers_dict\u001b[0m\u001b[1;33m,\u001b[0m\u001b[0mpact\u001b[0m\u001b[1;33m,\u001b[0m\u001b[0mlact\u001b[0m\u001b[1;33m,\u001b[0m\u001b[0mscen_dict\u001b[0m\u001b[1;33m,\u001b[0m\u001b[0mlscen\u001b[0m\u001b[1;33m,\u001b[0m\u001b[0mpscen\u001b[0m\u001b[1;33m\u001b[0m\u001b[0m\n\u001b[0m\u001b[0;32m    139\u001b[0m \u001b[1;31m# print act_dict\u001b[0m\u001b[1;33m\u001b[0m\u001b[1;33m\u001b[0m\u001b[0m\n\u001b[0;32m    140\u001b[0m \u001b[1;31m# print pact\u001b[0m\u001b[1;33m\u001b[0m\u001b[1;33m\u001b[0m\u001b[0m\n",
      "\u001b[1;31mUnboundLocalError\u001b[0m: local variable 'pscen' referenced before assignment"
     ]
    }
   ],
   "source": [
    "%autoreload 2\n",
    "from testy2 import *\n",
    "from syntheticThreeLayerGraph_time import synthetic_multi_level_dict,plot_graph_dict,plot_graph_k_n, plot_total_graph_with_weights\n",
    "\n",
    "act_dict,u,pers_l,pers_dict,pact,lact,scen_dict,lscen,pscen=create_dict_of_acts(fileName)\n",
    "\n",
    "print 'Characters (actors) appearing in Medea:'\n",
    "print\n",
    "for actor in pers_l:\n",
    "    print actor\n",
    "print\n",
    "print 'The number of characters (actors) in Medea is', len(pers_l)\n",
    "print \n",
    "print 'ATTRIBUTES of characters (actors) appearing in Medea:'\n",
    "print\n",
    "\n",
    "\n",
    "# attribute_dict={}\n",
    "# af=open(attributes_filename,'r')\n",
    "\n",
    "# x=PrettyTable(['Name','Gender','Social Status','Alliance','Drive'])\n",
    "# x.padding_width=1\n",
    "# print\n",
    "# print 'Names not associated in attributes file'\n",
    "# for lin in af:\n",
    "#     ll=lin.strip().split(',')\n",
    "#     if ll[0]=='Name':\n",
    "#         continue\n",
    "#     x.add_row(ll)\n",
    "# #     print ll\n",
    "    \n",
    "#     if ll[0].strip() in pers_l:\n",
    "#         attribute_dict[ll[0].strip()]=(ll[1].strip(),ll[2].strip(),ll[3].strip(),ll[4].strip())\n",
    "#     else:\n",
    "#         print ll,'no'\n",
    "# print\n",
    "# print 'Atributes'\n",
    "# print x"
   ]
  },
  {
   "cell_type": "code",
   "execution_count": null,
   "metadata": {
    "collapsed": true
   },
   "outputs": [],
   "source": []
  }
 ],
 "metadata": {
  "kernelspec": {
   "display_name": "Python 2",
   "language": "python",
   "name": "python2"
  },
  "language_info": {
   "codemirror_mode": {
    "name": "ipython",
    "version": 2
   },
   "file_extension": ".py",
   "mimetype": "text/x-python",
   "name": "python",
   "nbconvert_exporter": "python",
   "pygments_lexer": "ipython2",
   "version": "2.7.6"
  }
 },
 "nbformat": 4,
 "nbformat_minor": 0
}
