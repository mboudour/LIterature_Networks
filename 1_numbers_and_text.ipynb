{
 "metadata": {
  "name": "",
  "signature": "sha256:66b1eeb4f75f821fb2cdd26dc231b86a6dfa0f6d85c8fe2db5fb96f7807a28cf"
 },
 "nbformat": 3,
 "nbformat_minor": 0,
 "worksheets": [
  {
   "cells": [
    {
     "cell_type": "heading",
     "level": 1,
     "metadata": {},
     "source": [
      "1. \u03a7\u0395\u0399\u03a1\u0399\u03a3\u039c\u039f\u0399 \u0391\u03a1\u0399\u0398\u039c\u03a9\u039d \u039a\u0391\u0399 \u039a\u0395\u0399\u039c\u0395\u039d\u039f\u03a5"
     ]
    },
    {
     "cell_type": "heading",
     "level": 3,
     "metadata": {},
     "source": [
      "* \u039c\u03b5\u03c4\u03b1\u03c4\u03c1\u03bf\u03c0\u03ae \u03b4\u03b5\u03ba\u03b1\u03b4\u03b9\u03ba\u03ce\u03bd \u03c3\u03b5 \u03b4\u03c5\u03b1\u03b4\u03b9\u03ba\u03bf\u03cd\u03c2 \u03b1\u03ba\u03ad\u03c1\u03b1\u03b9\u03bf\u03c5\u03c2 "
     ]
    },
    {
     "cell_type": "code",
     "collapsed": false,
     "input": [
      "# Conversion from decimal to binary through built-in function bin()\n",
      "\n",
      "decimal = input(\"Enter a decimal integer: \")\n",
      "print \"The binary representation is\",  int(bin(decimal)[2:])"
     ],
     "language": "python",
     "metadata": {},
     "outputs": [
      {
       "name": "stdout",
       "output_type": "stream",
       "stream": "stdout",
       "text": [
        "Enter a decimal integer: 376872\n"
       ]
      },
      {
       "output_type": "stream",
       "stream": "stdout",
       "text": [
        "The binary representation is 1011100000000101000\n"
       ]
      }
     ],
     "prompt_number": 1
    },
    {
     "cell_type": "code",
     "collapsed": false,
     "input": [
      "# Conversion from decimal to binary (indirectly with remainders)\n",
      "\n",
      "decimal = input(\"Enter a decimal integer: \")\n",
      "if decimal == 0: \n",
      "    print 0\n",
      "else:\n",
      "    print \"Quotient Remainder Binary\"\n",
      "    bstring = \"\"\n",
      "    while decimal > 0:\n",
      "        remainder = decimal % 2\n",
      "        decimal = decimal / 2\n",
      "        bstring = str(remainder) + bstring\n",
      "        print \"%5d%8d%12s\" % (decimal, remainder, bstring)\n",
      "    print \"The binary representation is\", bstring  "
     ],
     "language": "python",
     "metadata": {},
     "outputs": [
      {
       "name": "stdout",
       "output_type": "stream",
       "stream": "stdout",
       "text": [
        "Enter a decimal integer: 10\n"
       ]
      },
      {
       "output_type": "stream",
       "stream": "stdout",
       "text": [
        " Quotient Remainder Binary\n",
        "    5       0           0\n",
        "    2       1          10\n",
        "    1       0         010\n",
        "    0       1        1010\n",
        "The binary representation is 1010\n"
       ]
      }
     ],
     "prompt_number": 5
    },
    {
     "cell_type": "heading",
     "level": 3,
     "metadata": {},
     "source": [
      "* \u039c\u03b5\u03c4\u03b1\u03c4\u03c1\u03bf\u03c0\u03ae \u03b4\u03c5\u03b1\u03b4\u03b9\u03ba\u03ce\u03bd \u03c3\u03b5 \u03b4\u03b5\u03ba\u03b1\u03b4\u03b9\u03ba\u03bf\u03cd\u03c2 \u03b1\u03ba\u03ad\u03c1\u03b1\u03b9\u03bf\u03c5\u03c2 "
     ]
    },
    {
     "cell_type": "code",
     "collapsed": false,
     "input": [
      "# Conversion from binary to decimal through built-in function int()\n",
      "\n",
      "binary = input(\"Enter a string of bits: \") \n",
      "# (in the form \"0b...\")\n",
      "print \"The decimal value is\",  int(str(binary), 2) "
     ],
     "language": "python",
     "metadata": {},
     "outputs": [
      {
       "name": "stdout",
       "output_type": "stream",
       "stream": "stdout",
       "text": [
        "Enter a string of bits: 100111\n"
       ]
      },
      {
       "output_type": "stream",
       "stream": "stdout",
       "text": [
        "The decimal value is 39\n"
       ]
      }
     ],
     "prompt_number": 79
    },
    {
     "cell_type": "code",
     "collapsed": false,
     "input": [
      "# Conversion from binary to decimal\n",
      "\n",
      "bstring = raw_input(\"Enter a string of bits: \")\n",
      "decimal = 0\n",
      "exponent = len(bstring) - 1\n",
      "for digit in bstring:\n",
      "    decimal = decimal + int(digit) * 2 ** exponent\n",
      "    exponent = exponent - 1\n",
      "print \"The decimal value is\", decimal"
     ],
     "language": "python",
     "metadata": {},
     "outputs": [
      {
       "name": "stdout",
       "output_type": "stream",
       "stream": "stdout",
       "text": [
        "Enter a string of bits: 11001100111\n"
       ]
      },
      {
       "output_type": "stream",
       "stream": "stdout",
       "text": [
        "The decimal value is 1639\n"
       ]
      }
     ],
     "prompt_number": 7
    },
    {
     "cell_type": "code",
     "collapsed": false,
     "input": [
      "# Conversion from binary to decimal that works for floats too!\n",
      "# SCRIPT STAMATH KARLOY\n",
      "\n",
      "binary = (raw_input(\"Enter a binary float \"))\n",
      "\n",
      "d = binary.split('.')\n",
      "l1 = len(d[0])\n",
      "l2 = len(d[1])\n",
      "dd1 = list(d[0])\n",
      "dd2 = list(d[1])\n",
      "#print d;print d[0];print d[1];print l1;print l2;print dd1;print dd2\n",
      "\n",
      "int_part = 0\n",
      "for i in range(0,l1):\n",
      "    int_part = int_part + int(dd1[i])*2**(l1-1-i)\n",
      "\n",
      "fl_part = 0\n",
      "for i in range(0,l2):\n",
      "    fl_part = fl_part + int(dd2[i])*2**(-l2-i+1)\n",
      "\n",
      "print int_part + fl_part"
     ],
     "language": "python",
     "metadata": {},
     "outputs": [
      {
       "name": "stdout",
       "output_type": "stream",
       "stream": "stdout",
       "text": [
        "Enter a binary float 1000011.101\n"
       ]
      },
      {
       "output_type": "stream",
       "stream": "stdout",
       "text": [
        "67.3125\n"
       ]
      }
     ],
     "prompt_number": 1
    },
    {
     "cell_type": "heading",
     "level": 3,
     "metadata": {},
     "source": [
      "* \u039c\u03b5\u03c4\u03b1\u03c4\u03c1\u03bf\u03c0\u03ae \u03b4\u03b5\u03ba\u03b1\u03b4\u03b9\u03ba\u03ce\u03bd \u03c3\u03b5 \u03bf\u03ba\u03c4\u03b1\u03b4\u03b9\u03ba\u03bf\u03cd\u03c2 \u03b1\u03ba\u03ad\u03c1\u03b1\u03b9\u03bf\u03c5\u03c2 "
     ]
    },
    {
     "cell_type": "code",
     "collapsed": false,
     "input": [
      "# Conversion from decimal to octal through built-in function oct()\n",
      "\n",
      "decimal = input(\"Enter a decimal integer: \")\n",
      "print \"The octal representation is\",  int(oct(decimal))"
     ],
     "language": "python",
     "metadata": {},
     "outputs": [
      {
       "name": "stdout",
       "output_type": "stream",
       "stream": "stdout",
       "text": [
        "Enter a decimal integer: 8476\n"
       ]
      },
      {
       "output_type": "stream",
       "stream": "stdout",
       "text": [
        "The octal representation is 20434\n"
       ]
      }
     ],
     "prompt_number": 11
    },
    {
     "cell_type": "code",
     "collapsed": false,
     "input": [
      "# Conversion from decimal to octal\n",
      "\n",
      "decimal = input(\"Enter a decimal integer: \")\n",
      "if decimal == 0: \n",
      "    print 0\n",
      "else:\n",
      "    print \"Quotient Remainder Octal\"\n",
      "    bstring = \"\"\n",
      "    while decimal > 0:\n",
      "        remainder = decimal % 8\n",
      "        decimal = decimal / 8\n",
      "        bstring = str(remainder) + bstring\n",
      "        print \"%5d%8d%11s\" % (decimal, remainder, bstring)\n",
      "    print \"The octal representation is\", bstring  "
     ],
     "language": "python",
     "metadata": {},
     "outputs": [
      {
       "name": "stdout",
       "output_type": "stream",
       "stream": "stdout",
       "text": [
        "Enter a decimal integer: 785\n"
       ]
      },
      {
       "output_type": "stream",
       "stream": "stdout",
       "text": [
        "Quotient Remainder Octal\n",
        "   98       1          1\n",
        "   12       2         21\n",
        "    1       4        421\n",
        "    0       1       1421\n",
        "The octal representation is 1421\n"
       ]
      }
     ],
     "prompt_number": 34
    },
    {
     "cell_type": "code",
     "collapsed": false,
     "input": [
      "# Conversion from octal to decimal through built-in function int()\n",
      "\n",
      "octal = input(\"Enter an octal integer: \")\n",
      "print \"The decimal value is\",  int(str(octal), 8)"
     ],
     "language": "python",
     "metadata": {},
     "outputs": [
      {
       "name": "stdout",
       "output_type": "stream",
       "stream": "stdout",
       "text": [
        "Enter an octal integer: 5277\n"
       ]
      },
      {
       "output_type": "stream",
       "stream": "stdout",
       "text": [
        "The decimal value is 2751\n"
       ]
      }
     ],
     "prompt_number": 12
    },
    {
     "cell_type": "code",
     "collapsed": false,
     "input": [
      "# Conversion from octal to decimal\n",
      "\n",
      "bstring = raw_input(\"Enter an octal integer: \")\n",
      "octal = 0\n",
      "exponent = len(bstring) - 1\n",
      "for digit in bstring:\n",
      "    octal = octal + int(digit) * 8 ** exponent\n",
      "    exponent = exponent - 1\n",
      "print \"The decimal value is\", octal"
     ],
     "language": "python",
     "metadata": {},
     "outputs": [
      {
       "name": "stdout",
       "output_type": "stream",
       "stream": "stdout",
       "text": [
        "Enter an octal integer: 1421\n"
       ]
      },
      {
       "output_type": "stream",
       "stream": "stdout",
       "text": [
        "The decimal value is 785\n"
       ]
      }
     ],
     "prompt_number": 32
    },
    {
     "cell_type": "heading",
     "level": 3,
     "metadata": {},
     "source": [
      "* \u039c\u03b5\u03c4\u03b1\u03c4\u03c1\u03bf\u03c0\u03ae \u03b4\u03b5\u03ba\u03b1\u03b4\u03b9\u03ba\u03ce\u03bd \u03c3\u03b5 \u03b4\u03b5\u03ba\u03b1\u03b5\u03be\u03b1\u03b4\u03b9\u03ba\u03bf\u03cd\u03c2 \u03b1\u03ba\u03ad\u03c1\u03b1\u03b9\u03bf\u03c5\u03c2 "
     ]
    },
    {
     "cell_type": "code",
     "collapsed": false,
     "input": [
      "# Conversion from decimal to hexadecimal through built-in function hex() \n",
      "# \u0394\u03bf\u03c5\u03bb\u03b5\u03cd\u03b5\u03b9 \u03b3\u03b9\u03b1 \u03b1\u03ba\u03ad\u03c1\u03b1\u03b9\u03bf\u03c5\u03c2 \u03ae floats!\n",
      "\n",
      "decimal = input(\"Enter a decimal integer: \")\n",
      "print \"The hexadecimal representation is\",  float.hex(decimal)[2:]"
     ],
     "language": "python",
     "metadata": {},
     "outputs": [
      {
       "name": "stdout",
       "output_type": "stream",
       "stream": "stdout",
       "text": [
        "Enter a decimal integer: 20.119\n"
       ]
      },
      {
       "output_type": "stream",
       "stream": "stdout",
       "text": [
        "The hexadecimal representation is 1.41e76c8b43958p+4\n"
       ]
      }
     ],
     "prompt_number": 53
    },
    {
     "cell_type": "code",
     "collapsed": false,
     "input": [
      "# Conversion from hexadecimal to decimal through built-in function int()\n",
      "# \u0394\u03bf\u03c5\u03bb\u03b5\u03cd\u03b5\u03b9 \u03b3\u03b9\u03b1 \u03b1\u03ba\u03ad\u03c1\u03b1\u03b9\u03bf\u03c5\u03c2 \u03ae floats!\n",
      "\n",
      "hexal = input(\"Enter an hexadecimal integer: \") # (in the form \"0x...\")\n",
      "print \"The decimal value is\", float.fromhex(hexal) \n",
      "# int(str(hexal), 16)"
     ],
     "language": "python",
     "metadata": {},
     "outputs": [
      {
       "name": "stdout",
       "output_type": "stream",
       "stream": "stdout",
       "text": [
        "Enter an hexadecimal integer: \"0x1.41e76c8b43958p+4\"\n"
       ]
      },
      {
       "output_type": "stream",
       "stream": "stdout",
       "text": [
        "The decimal value is 20.119\n"
       ]
      }
     ],
     "prompt_number": 54
    },
    {
     "cell_type": "heading",
     "level": 3,
     "metadata": {},
     "source": [
      "* \u039a\u03c9\u03b4\u03b9\u03ba\u03bf\u03c0\u03bf\u03af\u03b7\u03c3\u03b7 - \u0391\u03c0\u03bf\u03ba\u03c9\u03b4\u03b9\u03ba\u03bf\u03c0\u03bf\u03af\u03b7\u03c3\u03b7 \u03b1\u03b3\u03b3\u03bb\u03b9\u03ba\u03bf\u03cd \u03ba\u03b5\u03b9\u03bc\u03ad\u03bd\u03bf\u03c5 \u03bc\u03b5 \u03c4\u03b7\u03bd \u03ba\u03c1\u03c5\u03c0\u03c4\u03bf\u03b3\u03c1\u03ac\u03c6\u03b7\u03c3\u03b7 \u03c4\u03bf\u03c5 \u039a\u03b1\u03af\u03c3\u03b1\u03c1\u03b1"
     ]
    },
    {
     "cell_type": "code",
     "collapsed": false,
     "input": [
      "plainText = raw_input(\"Enter a one-word, lowercase message: \")\n",
      "distance = input(\"Enter the distance value: \")\n",
      "code = ''\n",
      "for ch in plainText:\n",
      "    ordValue = ord(ch)\n",
      "    cipherValue = ordValue + distance\n",
      "    if cipherValue > ord('z'):\n",
      "        cipherValue = ord('a') + distance - (ord('z') - ordValue + 1)\n",
      "    code +=  chr(cipherValue)\n",
      "print code"
     ],
     "language": "python",
     "metadata": {},
     "outputs": [
      {
       "name": "stdout",
       "output_type": "stream",
       "stream": "stdout",
       "text": [
        "Enter a one-word, lowercase message: tomorrow\n"
       ]
      },
      {
       "name": "stdout",
       "output_type": "stream",
       "stream": "stdout",
       "text": [
        "Enter the distance value: 5\n"
       ]
      },
      {
       "output_type": "stream",
       "stream": "stdout",
       "text": [
        "ytrtwwtb\n"
       ]
      }
     ],
     "prompt_number": 43
    },
    {
     "cell_type": "code",
     "collapsed": false,
     "input": [
      "code = raw_input(\"Enter the coded text: \")\n",
      "distance = input(\"Enter the distance value: \")\n",
      "plainText = ''\n",
      "for ch in code:\n",
      "    ordValue = ord(ch)\n",
      "    cipherValue = ordValue - distance\n",
      "    if cipherValue < ord('a'):\n",
      "        cipherValue = ord('z') - distance - (ord('a') - ordValue - 1)\n",
      "    plainText +=  chr(cipherValue)\n",
      "print plainText"
     ],
     "language": "python",
     "metadata": {},
     "outputs": [
      {
       "name": "stdout",
       "output_type": "stream",
       "stream": "stdout",
       "text": [
        "Enter the coded text: ytrtwwtb\n"
       ]
      },
      {
       "name": "stdout",
       "output_type": "stream",
       "stream": "stdout",
       "text": [
        "Enter the distance value: 5\n"
       ]
      },
      {
       "output_type": "stream",
       "stream": "stdout",
       "text": [
        "tomorrow\n"
       ]
      }
     ],
     "prompt_number": 44
    },
    {
     "cell_type": "heading",
     "level": 3,
     "metadata": {},
     "source": [
      "* \u039a\u03c9\u03b4\u03b9\u03ba\u03bf\u03c0\u03bf\u03af\u03b7\u03c3\u03b7 - \u0391\u03c0\u03bf\u03ba\u03c9\u03b4\u03b9\u03ba\u03bf\u03c0\u03bf\u03af\u03b7\u03c3\u03b7 \u03b5\u03bb\u03bb\u03b7\u03bd\u03b9\u03ba\u03bf\u03cd \u03ba\u03b5\u03b9\u03bc\u03ad\u03bd\u03bf\u03c5 \u03bc\u03b5 \u03c4\u03b7\u03bd \u03ba\u03c1\u03c5\u03c0\u03c4\u03bf\u03b3\u03c1\u03ac\u03c6\u03b7\u03c3\u03b7 \u03c4\u03bf\u03c5 \u039a\u03b1\u03af\u03c3\u03b1\u03c1\u03b1"
     ]
    },
    {
     "cell_type": "code",
     "collapsed": false,
     "input": [
      "# -*- coding: utf-8 -*-\n",
      "\n",
      "plainText = unicode(raw_input(\"Enter a one-word, lowercase message (Ellinika xwris tonous): \"),'utf-8')\n",
      "distance = input(\"Enter the distance value: \")\n",
      "\n",
      "code = u''\n",
      "for ch in plainText:\n",
      "    ordValue = ord(ch)\n",
      "    cipherValue = ordValue + distance\n",
      "    # print ord(ch),ord(u'\u03c9'),ord(u'\u03b1'),ch\n",
      "    if cipherValue > ord(u'\u03c9'):\n",
      "        cipherValue = ord(u'\u03b1') + distance - (ord(u'\u03c9') - ordValue + 1)\n",
      "    code +=  unichr(cipherValue)\n",
      "print code"
     ],
     "language": "python",
     "metadata": {},
     "outputs": [
      {
       "name": "stdout",
       "output_type": "stream",
       "stream": "stdout",
       "text": [
        "Enter a one-word, lowercase message (Ellinika xwris tonous): \u03c0\u03b1\u03bd\u03b5\u03c0\u03b9\u03c3\u03c4\u03b7\u03bc\u03b9\u03bf\n"
       ]
      },
      {
       "name": "stdout",
       "output_type": "stream",
       "stream": "stdout",
       "text": [
        "Enter the distance value: 3\n"
       ]
      },
      {
       "output_type": "stream",
       "stream": "stdout",
       "text": [
        "\u03c3\u03b4\u03c0\u03b8\u03c3\u03bc\u03c6\u03c7\u03ba\u03bf\u03bc\u03c2\n"
       ]
      }
     ],
     "prompt_number": 4
    },
    {
     "cell_type": "code",
     "collapsed": false,
     "input": [
      "code = unicode(raw_input(\"Enter the coded text: \"),'utf-8')\n",
      "distance = input(\"Enter the distance value: \")\n",
      "\n",
      "plainTextn = u''\n",
      "for ch in code:\n",
      "    ordValue = ord(ch)\n",
      "    cipherValue = ordValue - distance\n",
      "    if cipherValue < ord(u'\u03b1'):\n",
      "        cipherValue = ord(u'\u03c9') - distance - (ord(u'\u03b1') - ordValue - 1)\n",
      "    plainTextn +=  unichr(cipherValue)\n",
      "print plainTextn"
     ],
     "language": "python",
     "metadata": {},
     "outputs": [
      {
       "name": "stdout",
       "output_type": "stream",
       "stream": "stdout",
       "text": [
        "Enter the coded text: \u03c3\u03b4\u03c0\u03b8\u03c3\u03bc\u03c6\u03c7\u03ba\u03bf\u03bc\u03c2\n"
       ]
      },
      {
       "name": "stdout",
       "output_type": "stream",
       "stream": "stdout",
       "text": [
        "Enter the distance value: 3\n"
       ]
      },
      {
       "output_type": "stream",
       "stream": "stdout",
       "text": [
        "\u03c0\u03b1\u03bd\u03b5\u03c0\u03b9\u03c3\u03c4\u03b7\u03bc\u03b9\u03bf\n"
       ]
      }
     ],
     "prompt_number": 5
    },
    {
     "cell_type": "heading",
     "level": 2,
     "metadata": {},
     "source": [
      "\u03a3\u03c5\u03bc\u03b2\u03bf\u03bb\u03bf\u03c3\u03b5\u03b9\u03c1\u03ad\u03c2 (strings)"
     ]
    },
    {
     "cell_type": "code",
     "collapsed": false,
     "input": [
      "salut = \"Pws se lene?\"\n",
      "print '\u0397 \u03c3\u03c5\u03bc\u03b2\u03bf\u03bb\u03bf\u03c3\u03b5\u03b9\u03c1\u03ac salut \u03b5\u03af\u03bd\u03b1\u03b9 \u03b7 \u03c0\u03b1\u03c1\u03b1\u03ba\u03ac\u03c4\u03c9 \u03c6\u03c1\u03ac\u03c3\u03b7:'\n",
      "print salut\n",
      "print '\u03a4\u03bf \u03bc\u03ae\u03ba\u03bf\u03c2 \u03c4\u03b7\u03c2 \u03c3\u03c5\u03bc\u03b2\u03bf\u03bb\u03bf\u03c3\u03b5\u03b9\u03c1\u03ac\u03c2 salut \u03b5\u03af\u03bd\u03b1\u03b9', len(salut)\n",
      "null1 = \"\"\n",
      "print '\u0397 \u03c3\u03c5\u03bc\u03b2\u03bf\u03bb\u03bf\u03c3\u03b5\u03b9\u03c1\u03ac null1 \u03b5\u03af\u03bd\u03b1\u03b9 \u03b7 \u03c0\u03b1\u03c1\u03b1\u03ba\u03ac\u03c4\u03c9 \u03ba\u03b5\u03bd\u03ae \u03c6\u03c1\u03ac\u03c3\u03b7:'\n",
      "print null1\n",
      "print '\u03a4\u03bf \u03bc\u03ae\u03ba\u03bf\u03c2 \u03c4\u03b7\u03c2 \u03c3\u03c5\u03bc\u03b2\u03bf\u03bb\u03bf\u03c3\u03b5\u03b9\u03c1\u03ac\u03c2 null1 \u03b5\u03af\u03bd\u03b1\u03b9', len(null1)"
     ],
     "language": "python",
     "metadata": {},
     "outputs": [
      {
       "output_type": "stream",
       "stream": "stdout",
       "text": [
        "\u0397 \u03c3\u03c5\u03bc\u03b2\u03bf\u03bb\u03bf\u03c3\u03b5\u03b9\u03c1\u03ac salut \u03b5\u03af\u03bd\u03b1\u03b9 \u03b7 \u03c0\u03b1\u03c1\u03b1\u03ba\u03ac\u03c4\u03c9 \u03c6\u03c1\u03ac\u03c3\u03b7:\n",
        "Pws se lene?\n",
        "\u03a4\u03bf \u03bc\u03ae\u03ba\u03bf\u03c2 \u03c4\u03b7\u03c2 \u03c3\u03c5\u03bc\u03b2\u03bf\u03bb\u03bf\u03c3\u03b5\u03b9\u03c1\u03ac\u03c2 salut \u03b5\u03af\u03bd\u03b1\u03b9 12\n",
        "\u0397 \u03c3\u03c5\u03bc\u03b2\u03bf\u03bb\u03bf\u03c3\u03b5\u03b9\u03c1\u03ac null1 \u03b5\u03af\u03bd\u03b1\u03b9 \u03b7 \u03c0\u03b1\u03c1\u03b1\u03ba\u03ac\u03c4\u03c9 \u03ba\u03b5\u03bd\u03ae \u03c6\u03c1\u03ac\u03c3\u03b7:\n",
        "\n",
        "\u03a4\u03bf \u03bc\u03ae\u03ba\u03bf\u03c2 \u03c4\u03b7\u03c2 \u03c3\u03c5\u03bc\u03b2\u03bf\u03bb\u03bf\u03c3\u03b5\u03b9\u03c1\u03ac\u03c2 null1 \u03b5\u03af\u03bd\u03b1\u03b9 0\n"
       ]
      }
     ],
     "prompt_number": 20
    },
    {
     "cell_type": "heading",
     "level": 3,
     "metadata": {},
     "source": [
      "\u0395\u03ba\u03c4\u03cd\u03c0\u03c9\u03c3\u03b7 \u03c3\u03c4\u03bf\u03b9\u03c7\u03b5\u03af\u03c9\u03bd \u03c3\u03c5\u03bc\u03b2\u03bf\u03bb\u03bf\u03c3\u03b5\u03b9\u03c1\u03ac\u03c2 (\u03ad\u03bd\u03b1 \u03c3\u03b5 \u03ba\u03ac\u03b8\u03b5 \u03b3\u03c1\u03b1\u03bc\u03bc\u03ae)"
     ]
    },
    {
     "cell_type": "code",
     "collapsed": false,
     "input": [
      "print '\u0397 \u03c3\u03c5\u03bc\u03b2\u03bf\u03bb\u03bf\u03c3\u03b5\u03b9\u03c1\u03ac salut \u03b5\u03af\u03bd\u03b1\u03b9 \u03b7 \u03c0\u03b1\u03c1\u03b1\u03ba\u03ac\u03c4\u03c9 \u03c6\u03c1\u03ac\u03c3\u03b7:'\n",
      "print salut\n",
      "\n",
      "print '\u03a4\u03b1 \u03c3\u03c4\u03bf\u03b9\u03c7\u03b5\u03af\u03b1 \u03c4\u03b7\u03c2 \u03c3\u03c5\u03bc\u03b2\u03bf\u03bb\u03bf\u03c3\u03b5\u03b9\u03c1\u03ac\u03c2 \u03b5\u03af\u03bd\u03b1\u03b9 \u03c4\u03b1 \u03b5\u03be\u03ae\u03c2 \u03b3\u03b9\u03b1 \u03b1\u03c1\u03af\u03b8\u03bc\u03b7\u03c3\u03b7 \u03b1\u03c0\u03cc 0 (\u03ba\u03b1\u03b9 \u03b1\u03c0\u03cc 1 \u03c3\u03b5 \u03c0\u03b1\u03c1\u03ad\u03bd\u03b8\u03b5\u03c3\u03b7):'\n",
      "\n",
      "for i in xrange(len(salut)):\n",
      "    print i, '(' + str(i+1) + ') ' + salut[i]"
     ],
     "language": "python",
     "metadata": {},
     "outputs": [
      {
       "output_type": "stream",
       "stream": "stdout",
       "text": [
        "\u0397 \u03c3\u03c5\u03bc\u03b2\u03bf\u03bb\u03bf\u03c3\u03b5\u03b9\u03c1\u03ac salut \u03b5\u03af\u03bd\u03b1\u03b9 \u03b7 \u03c0\u03b1\u03c1\u03b1\u03ba\u03ac\u03c4\u03c9 \u03c6\u03c1\u03ac\u03c3\u03b7:\n",
        "Pws se lene?\n",
        "\u03a4\u03b1 \u03c3\u03c4\u03bf\u03b9\u03c7\u03b5\u03af\u03b1 \u03c4\u03b7\u03c2 \u03c3\u03c5\u03bc\u03b2\u03bf\u03bb\u03bf\u03c3\u03b5\u03b9\u03c1\u03ac\u03c2 \u03b5\u03af\u03bd\u03b1\u03b9 \u03c4\u03b1 \u03b5\u03be\u03ae\u03c2 \u03b3\u03b9\u03b1 \u03b1\u03c1\u03af\u03b8\u03bc\u03b7\u03c3\u03b7 \u03b1\u03c0\u03cc 0 (\u03ba\u03b1\u03b9 \u03b1\u03c0\u03cc 1 \u03c3\u03b5 \u03c0\u03b1\u03c1\u03ad\u03bd\u03b8\u03b5\u03c3\u03b7):\n",
        "0 (1) P\n",
        "1 (2) w\n",
        "2 (3) s\n",
        "3 (4)  \n",
        "4 (5) s\n",
        "5 (6) e\n",
        "6 (7)  \n",
        "7 (8) l\n",
        "8 (9) e\n",
        "9 (10) n\n",
        "10 (11) e\n",
        "11 (12) ?\n"
       ]
      }
     ],
     "prompt_number": 42
    },
    {
     "cell_type": "heading",
     "level": 3,
     "metadata": {},
     "source": [
      "\u039c\u03ae\u03ba\u03bf\u03c2 \u03c3\u03c5\u03bc\u03b2\u03bf\u03bb\u03bf\u03c3\u03b5\u03b9\u03c1\u03ac\u03c2 \u03ba\u03b1\u03b9 \u03c0\u03c1\u03cc\u03c3\u03b2\u03b1\u03c3\u03b7 \u03c3\u03c4\u03b1 \u03c3\u03c4\u03bf\u03b9\u03c7\u03b5\u03af\u03b1 \u03c4\u03b7\u03c2"
     ]
    },
    {
     "cell_type": "code",
     "collapsed": false,
     "input": [
      "print '\u0397 \u03c3\u03c5\u03bc\u03b2\u03bf\u03bb\u03bf\u03c3\u03b5\u03b9\u03c1\u03ac salut \u03b5\u03af\u03bd\u03b1\u03b9 \u03b7 \u03c0\u03b1\u03c1\u03b1\u03ba\u03ac\u03c4\u03c9 \u03c6\u03c1\u03ac\u03c3\u03b7:'\n",
      "salut = \"Pws se lene?\"\n",
      "print salut\n",
      "print '\u03a4\u03bf \u03bc\u03ae\u03ba\u03bf\u03c2 \u03c4\u03b7\u03c2 \u03c3\u03c5\u03bc\u03b2\u03bf\u03bb\u03bf\u03c3\u03b5\u03b9\u03c1\u03ac\u03c2 salut \u03b5\u03af\u03bd\u03b1\u03b9', len(salut)\n",
      "print '\u03a4\u03bf \u03c0\u03c1\u03ce\u03c4\u03bf \u03c3\u03c4\u03bf\u03b9\u03c7\u03b5\u03af\u03bf \u03c4\u03b7\u03c2 \u03c3\u03c5\u03bc\u03b2\u03bf\u03bb\u03bf\u03c3\u03b5\u03b9\u03c1\u03ac\u03c2 salut \u03b5\u03af\u03bd\u03b1\u03b9', salut[0]\n",
      "print '\u03a4\u03bf \u03c0\u03ad\u03bc\u03c0\u03c4\u03bf \u03c3\u03c4\u03bf\u03b9\u03c7\u03b5\u03af\u03bf \u03c4\u03b7\u03c2 \u03c3\u03c5\u03bc\u03b2\u03bf\u03bb\u03bf\u03c3\u03b5\u03b9\u03c1\u03ac\u03c2 salut \u03b5\u03af\u03bd\u03b1\u03b9', salut[4]\n",
      "print '\u03a4\u03bf \u03ad\u03b2\u03b4\u03bf\u03bc\u03bf \u03c3\u03c4\u03bf\u03b9\u03c7\u03b5\u03af\u03bf \u03c4\u03b7\u03c2 \u03c3\u03c5\u03bc\u03b2\u03bf\u03bb\u03bf\u03c3\u03b5\u03b9\u03c1\u03ac\u03c2 salut \u03b5\u03af\u03bd\u03b1\u03b9 \u03ba\u03b5\u03bd\u03cc', salut[6]\n",
      "print '\u03a4\u03bf \u03c4\u03b5\u03bb\u03b5\u03c5\u03c4\u03b1\u03af\u03bf \u03c3\u03c4\u03bf\u03b9\u03c7\u03b5\u03af\u03bf \u03c4\u03b7\u03c2 \u03c3\u03c5\u03bc\u03b2\u03bf\u03bb\u03bf\u03c3\u03b5\u03b9\u03c1\u03ac\u03c2 salut \u03b5\u03af\u03bd\u03b1\u03b9', salut[-1]\n",
      "print '\u03a4\u03bf \u03b4\u03b5\u03cd\u03c4\u03b5\u03c1\u03bf \u03b1\u03c0\u03cc \u03c4\u03bf \u03c4\u03ad\u03bb\u03bf\u03c2 \u03c3\u03c4\u03bf\u03b9\u03c7\u03b5\u03af\u03bf \u03c4\u03b7\u03c2 \u03c3\u03c5\u03bc\u03b2\u03bf\u03bb\u03bf\u03c3\u03b5\u03b9\u03c1\u03ac\u03c2 salut \u03b5\u03af\u03bd\u03b1\u03b9', salut[-2]\n",
      "print '\u03a4\u03bf \u03c4\u03c1\u03af\u03c4\u03bf \u03b1\u03c0\u03cc \u03c4\u03bf \u03c4\u03ad\u03bb\u03bf\u03c2 \u03c3\u03c4\u03bf\u03b9\u03c7\u03b5\u03af\u03bf \u03c4\u03b7\u03c2 \u03c3\u03c5\u03bc\u03b2\u03bf\u03bb\u03bf\u03c3\u03b5\u03b9\u03c1\u03ac\u03c2 salut \u03b5\u03af\u03bd\u03b1\u03b9', salut[-3]\n",
      "print '\u03a3\u03b5 \u03b4\u03b9\u03b1\u03c6\u03bf\u03c1\u03b5\u03c4\u03b9\u03ba\u03ae \u03c3\u03cd\u03bd\u03c4\u03b1\u03be\u03b7, \u03c4\u03bf \u03c4\u03b5\u03bb\u03b5\u03c5\u03c4\u03b1\u03af\u03bf \u03c3\u03c4\u03bf\u03b9\u03c7\u03b5\u03af\u03bf \u03c4\u03b7\u03c2 \u03c3\u03c5\u03bc\u03b2\u03bf\u03bb\u03bf\u03c3\u03b5\u03b9\u03c1\u03ac\u03c2 salut \u03b5\u03af\u03bd\u03b1\u03b9', salut[len(salut)-1]"
     ],
     "language": "python",
     "metadata": {},
     "outputs": [
      {
       "output_type": "stream",
       "stream": "stdout",
       "text": [
        "\u0397 \u03c3\u03c5\u03bc\u03b2\u03bf\u03bb\u03bf\u03c3\u03b5\u03b9\u03c1\u03ac salut \u03b5\u03af\u03bd\u03b1\u03b9 \u03b7 \u03c0\u03b1\u03c1\u03b1\u03ba\u03ac\u03c4\u03c9 \u03c6\u03c1\u03ac\u03c3\u03b7:\n",
        "Pws se lene?\n",
        "\u03a4\u03bf \u03bc\u03ae\u03ba\u03bf\u03c2 \u03c4\u03b7\u03c2 \u03c3\u03c5\u03bc\u03b2\u03bf\u03bb\u03bf\u03c3\u03b5\u03b9\u03c1\u03ac\u03c2 salut \u03b5\u03af\u03bd\u03b1\u03b9 12\n",
        "\u03a4\u03bf \u03c0\u03c1\u03ce\u03c4\u03bf \u03c3\u03c4\u03bf\u03b9\u03c7\u03b5\u03af\u03bf \u03c4\u03b7\u03c2 \u03c3\u03c5\u03bc\u03b2\u03bf\u03bb\u03bf\u03c3\u03b5\u03b9\u03c1\u03ac\u03c2 salut \u03b5\u03af\u03bd\u03b1\u03b9 P\n",
        "\u03a4\u03bf \u03c0\u03ad\u03bc\u03c0\u03c4\u03bf \u03c3\u03c4\u03bf\u03b9\u03c7\u03b5\u03af\u03bf \u03c4\u03b7\u03c2 \u03c3\u03c5\u03bc\u03b2\u03bf\u03bb\u03bf\u03c3\u03b5\u03b9\u03c1\u03ac\u03c2 salut \u03b5\u03af\u03bd\u03b1\u03b9 s\n",
        "\u03a4\u03bf \u03ad\u03b2\u03b4\u03bf\u03bc\u03bf \u03c3\u03c4\u03bf\u03b9\u03c7\u03b5\u03af\u03bf \u03c4\u03b7\u03c2 \u03c3\u03c5\u03bc\u03b2\u03bf\u03bb\u03bf\u03c3\u03b5\u03b9\u03c1\u03ac\u03c2 salut \u03b5\u03af\u03bd\u03b1\u03b9 \u03ba\u03b5\u03bd\u03cc  \n",
        "\u03a4\u03bf \u03c4\u03b5\u03bb\u03b5\u03c5\u03c4\u03b1\u03af\u03bf \u03c3\u03c4\u03bf\u03b9\u03c7\u03b5\u03af\u03bf \u03c4\u03b7\u03c2 \u03c3\u03c5\u03bc\u03b2\u03bf\u03bb\u03bf\u03c3\u03b5\u03b9\u03c1\u03ac\u03c2 salut \u03b5\u03af\u03bd\u03b1\u03b9 ?\n",
        "\u03a4\u03bf \u03b4\u03b5\u03cd\u03c4\u03b5\u03c1\u03bf \u03b1\u03c0\u03cc \u03c4\u03bf \u03c4\u03ad\u03bb\u03bf\u03c2 \u03c3\u03c4\u03bf\u03b9\u03c7\u03b5\u03af\u03bf \u03c4\u03b7\u03c2 \u03c3\u03c5\u03bc\u03b2\u03bf\u03bb\u03bf\u03c3\u03b5\u03b9\u03c1\u03ac\u03c2 salut \u03b5\u03af\u03bd\u03b1\u03b9 e\n",
        "\u03a4\u03bf \u03c4\u03c1\u03af\u03c4\u03bf \u03b1\u03c0\u03cc \u03c4\u03bf \u03c4\u03ad\u03bb\u03bf\u03c2 \u03c3\u03c4\u03bf\u03b9\u03c7\u03b5\u03af\u03bf \u03c4\u03b7\u03c2 \u03c3\u03c5\u03bc\u03b2\u03bf\u03bb\u03bf\u03c3\u03b5\u03b9\u03c1\u03ac\u03c2 salut \u03b5\u03af\u03bd\u03b1\u03b9 n\n",
        "\u03a3\u03b5 \u03b4\u03b9\u03b1\u03c6\u03bf\u03c1\u03b5\u03c4\u03b9\u03ba\u03ae \u03c3\u03cd\u03bd\u03c4\u03b1\u03be\u03b7, \u03c4\u03bf \u03c4\u03b5\u03bb\u03b5\u03c5\u03c4\u03b1\u03af\u03bf \u03c3\u03c4\u03bf\u03b9\u03c7\u03b5\u03af\u03bf \u03c4\u03b7\u03c2 \u03c3\u03c5\u03bc\u03b2\u03bf\u03bb\u03bf\u03c3\u03b5\u03b9\u03c1\u03ac\u03c2 salut \u03b5\u03af\u03bd\u03b1\u03b9 ?\n"
       ]
      }
     ],
     "prompt_number": 57
    },
    {
     "cell_type": "heading",
     "level": 3,
     "metadata": {},
     "source": [
      "\u03a4\u03cd\u03c0\u03bf\u03c2 \u03c3\u03c5\u03bc\u03b2\u03bf\u03bb\u03bf\u03c3\u03b5\u03b9\u03c1\u03ac\u03c2 \u03ba\u03b1\u03b9 \u03b1\u03bd\u03b1\u03bb\u03bb\u03bf\u03af\u03c9\u03c4\u03bf \u03c4\u03c9\u03bd \u03c3\u03c4\u03bf\u03b9\u03c7\u03b5\u03af\u03c9\u03bd \u03c4\u03b7\u03c2"
     ]
    },
    {
     "cell_type": "code",
     "collapsed": false,
     "input": [
      "salut = 'Pws se lene?'\n",
      "print '\u039f \u03c4\u03cd\u03c0\u03bf\u03c2 \u03bc\u03b9\u03b1\u03c2 \u03c3\u03c5\u03bc\u03b2\u03bf\u03bb\u03bf\u03c3\u03b5\u03b9\u03c1\u03ac\u03c2 \u03b5\u03af\u03bd\u03b1\u03b9 str:'\n",
      "print type(salut)\n",
      "print\n",
      "# \u0391\u03bd\u03c4\u03af\u03b8\u03b5\u03c4\u03b1 \u03bc\u03b5 \u03cc,\u03c4\u03b9 \u03b3\u03af\u03bd\u03b5\u03c4\u03b1\u03b9 \u03bc\u03b5 \u03bb\u03af\u03c3\u03c4\u03b5\u03c2, \u03c4\u03b1 \u03c3\u03c4\u03bf\u03b9\u03c7\u03b5\u03af\u03b1 \u03bc\u03b9\u03b1\u03c2 \u03c3\u03c5\u03bc\u03b2\u03bf\u03bb\u03bf\u03c3\u03b5\u03b9\u03c1\u03ac\u03c2 \u03b5\u03af\u03bd\u03b1\u03b9 \u03b1\u03bd\u03b1\u03bb\u03bb\u03bf\u03af\u03c9\u03c4\u03b1!\n",
      "salut[1] = 'a'\n",
      "# \u038c\u03bc\u03c9\u03c2 \u03bb\u03af\u03b3\u03bf \u03c0\u03b9\u03bf \u03ba\u03ac\u03c4\u03c9 \u03b8\u03b1 \u03b4\u03bf\u03cd\u03bc\u03b5 \u03cc\u03c4\u03b9 \u03bc\u03c0\u03bf\u03c1\u03bf\u03cd\u03bc\u03b5 \u03bd\u03b1 \u03b1\u03bb\u03bb\u03ac\u03b6\u03bf\u03c5\u03bc\u03b5 \u03c4\u03b1 \u03c3\u03c4\u03bf\u03b9\u03c7\u03b5\u03af\u03b1 \u03bc\u03b9\u03b1\u03c2 \u03c3\u03c5\u03bc\u03b2\u03bf\u03bb\u03bf\u03c3\u03b5\u03b9\u03c1\u03ac\u03c2 \u03bc\u03b5 \u03c4\u03bf replace"
     ],
     "language": "python",
     "metadata": {},
     "outputs": [
      {
       "output_type": "stream",
       "stream": "stdout",
       "text": [
        "\u039f \u03c4\u03cd\u03c0\u03bf\u03c2 \u03bc\u03b9\u03b1\u03c2 \u03c3\u03c5\u03bc\u03b2\u03bf\u03bb\u03bf\u03c3\u03b5\u03b9\u03c1\u03ac\u03c2 \u03b5\u03af\u03bd\u03b1\u03b9 str:\n",
        "<type 'str'>\n",
        "\n"
       ]
      },
      {
       "ename": "TypeError",
       "evalue": "'str' object does not support item assignment",
       "output_type": "pyerr",
       "traceback": [
        "\u001b[0;31m---------------------------------------------------------------------------\u001b[0m\n\u001b[0;31mTypeError\u001b[0m                                 Traceback (most recent call last)",
        "\u001b[0;32m<ipython-input-2-5a40a4251618>\u001b[0m in \u001b[0;36m<module>\u001b[0;34m()\u001b[0m\n\u001b[1;32m      4\u001b[0m \u001b[0;32mprint\u001b[0m\u001b[0;34m\u001b[0m\u001b[0m\n\u001b[1;32m      5\u001b[0m \u001b[0;31m# \u0391\u03bd\u03c4\u03af\u03b8\u03b5\u03c4\u03b1 \u03bc\u03b5 \u03cc,\u03c4\u03b9 \u03b3\u03af\u03bd\u03b5\u03c4\u03b1\u03b9 \u03bc\u03b5 \u03bb\u03af\u03c3\u03c4\u03b5\u03c2, \u03c4\u03b1 \u03c3\u03c4\u03bf\u03b9\u03c7\u03b5\u03af\u03b1 \u03bc\u03b9\u03b1\u03c2 \u03c3\u03c5\u03bc\u03b2\u03bf\u03bb\u03bf\u03c3\u03b5\u03b9\u03c1\u03ac\u03c2 \u03b5\u03af\u03bd\u03b1\u03b9 \u03b1\u03bd\u03b1\u03bb\u03bb\u03bf\u03af\u03c9\u03c4\u03b1!\u001b[0m\u001b[0;34m\u001b[0m\u001b[0;34m\u001b[0m\u001b[0m\n\u001b[0;32m----> 6\u001b[0;31m \u001b[0msalut\u001b[0m\u001b[0;34m[\u001b[0m\u001b[0;36m1\u001b[0m\u001b[0;34m]\u001b[0m \u001b[0;34m=\u001b[0m \u001b[0;34m'a'\u001b[0m\u001b[0;34m\u001b[0m\u001b[0m\n\u001b[0m\u001b[1;32m      7\u001b[0m \u001b[0;31m# \u038c\u03bc\u03c9\u03c2 \u03bb\u03af\u03b3\u03bf \u03c0\u03b9\u03bf \u03ba\u03ac\u03c4\u03c9 \u03b8\u03b1 \u03b4\u03bf\u03cd\u03bc\u03b5 \u03cc\u03c4\u03b9 \u03bc\u03c0\u03bf\u03c1\u03bf\u03cd\u03bc\u03b5 \u03bd\u03b1 \u03b1\u03bb\u03bb\u03ac\u03b6\u03bf\u03c5\u03bc\u03b5 \u03c4\u03b1 \u03c3\u03c4\u03bf\u03b9\u03c7\u03b5\u03af\u03b1 \u03bc\u03b9\u03b1\u03c2 \u03c3\u03c5\u03bc\u03b2\u03bf\u03bb\u03bf\u03c3\u03b5\u03b9\u03c1\u03ac\u03c2 \u03bc\u03b5 \u03c4\u03bf replace\u001b[0m\u001b[0;34m\u001b[0m\u001b[0;34m\u001b[0m\u001b[0m\n",
        "\u001b[0;31mTypeError\u001b[0m: 'str' object does not support item assignment"
       ]
      }
     ],
     "prompt_number": 2
    },
    {
     "cell_type": "heading",
     "level": 3,
     "metadata": {},
     "source": [
      "\u039f \u03c4\u03b5\u03bb\u03b5\u03c3\u03c4\u03ae\u03c2 in \u03b3\u03b9\u03b1 \u03c3\u03c5\u03bc\u03b2\u03bf\u03bb\u03bf\u03c3\u03b5\u03b9\u03c1\u03ad\u03c2"
     ]
    },
    {
     "cell_type": "code",
     "collapsed": false,
     "input": [
      "# \u039f \u03c4\u03b5\u03bb\u03b5\u03c3\u03c4\u03ae\u03c2 in \u03b3\u03b9\u03b1 \u03c3\u03c5\u03bc\u03b2\u03bf\u03bb\u03bf\u03c3\u03b5\u03b9\u03c1\u03ad\u03c2 \u03b5\u03bb\u03ad\u03b3\u03c7\u03b5\u03b9 \u03b1\u03bd \u03ba\u03ac\u03c0\u03bf\u03b9\u03bf\u03c2 \u03c7\u03b1\u03c1\u03b1\u03ba\u03c4\u03ae\u03c1\u03b1\u03c2 (\u03ae \u03bc\u03b9\u03b1 \u03c5\u03c0\u03bf\u03c3\u03c5\u03bc\u03b2\u03bf\u03bb\u03bf\u03c3\u03b5\u03b9\u03c1\u03ac) \u03c0\u03b5\u03c1\u03b9\u03ad\u03c7\u03b5\u03c4\u03b1\u03b9\n",
      "# \u03bc\u03ad\u03c3\u03b1 \u03c3\u03b5 \u03bc\u03b9\u03b1 \u03b4\u03bf\u03b8\u03b5\u03af\u03c3\u03b1 \u03c3\u03c5\u03bc\u03b2\u03bf\u03bb\u03bf\u03c3\u03b5\u03b9\u03c1\u03ac. \u0395\u03c0\u03b9\u03c3\u03c4\u03c1\u03ad\u03c6\u03b5\u03b9 True \u03ae False.\n",
      "\n",
      "print '\u0391\u03bd\u03ae\u03ba\u03b5\u03b9 \u03c4\u03bf p \u03c3\u03c4\u03b7 \u03c3\u03c5\u03bc\u03b2\u03bf\u03bb\u03bf\u03c3\u03b5\u03b9\u03c1\u03ac apple; \u0391\u03c0\u03ac\u03bd\u03c4\u03b7\u03c3\u03b7:', 'p' in 'apple'\n",
      "print '\u0391\u03bd\u03ae\u03ba\u03b5\u03b9 \u03c4\u03bf i \u03c3\u03c4\u03b7 \u03c3\u03c5\u03bc\u03b2\u03bf\u03bb\u03bf\u03c3\u03b5\u03b9\u03c1\u03ac apple; \u0391\u03c0\u03ac\u03bd\u03c4\u03b7\u03c3\u03b7:', 'i' in 'apple'\n",
      "print '\u0391\u03bd\u03ae\u03ba\u03b5\u03b9 \u03c4\u03bf ap \u03c3\u03c4\u03b7 \u03c3\u03c5\u03bc\u03b2\u03bf\u03bb\u03bf\u03c3\u03b5\u03b9\u03c1\u03ac apple; \u0391\u03c0\u03ac\u03bd\u03c4\u03b7\u03c3\u03b7:', 'ap' in 'apple'\n",
      "print '\u0391\u03bd\u03ae\u03ba\u03b5\u03b9 \u03c4\u03bf pa \u03c3\u03c4\u03b7 \u03c3\u03c5\u03bc\u03b2\u03bf\u03bb\u03bf\u03c3\u03b5\u03b9\u03c1\u03ac apple; \u0391\u03c0\u03ac\u03bd\u03c4\u03b7\u03c3\u03b7:', 'pa' in 'apple'\n",
      "\n",
      "# \u03a7\u03c1\u03ae\u03c3\u03b7 \u03c4\u03bf\u03c5 \u03c4\u03b5\u03bb\u03b5\u03c3\u03c4\u03bf\u03cd in \u03bc\u03ad\u03c3\u03c9 \u03b2\u03c1\u03cc\u03c7\u03bf\u03c5 \u03b3\u03b9\u03b1 \u03c4\u03b7\u03bd \u03b1\u03c0\u03bf\u03bc\u03ac\u03ba\u03c1\u03c5\u03bd\u03c3\u03b7 (\u03c0.\u03c7.) \u03cc\u03bb\u03c9\u03bd \u03c4\u03c9\u03bd \u03c6\u03c9\u03bd\u03b7\u03ad\u03bd\u03c4\u03c9\u03bd \u03b1\u03c0\u03cc \u03bc\u03b9\u03b1 \u03c3\u03c5\u03bc\u03b2\u03bf\u03bb\u03bf\u03c3\u03b5\u03b9\u03c1\u03ac:\n",
      "\n",
      "vowels = \"aeiouAEIOU\"\n",
      "s = 'Apple'\n",
      "s_without_vowels = \"\"\n",
      "for letter in s:\n",
      "    if letter not in vowels:\n",
      "        s_without_vowels += letter\n",
      "print '\u0391\u03c0\u03bf\u03bc\u03ac\u03ba\u03c1\u03c5\u03bd\u03c3\u03b7 \u03c6\u03c9\u03bd\u03b7\u03ad\u03bd\u03c4\u03c9\u03bd \u03b1\u03c0\u03cc \u03c4\u03b7\u03bd \u03c3\u03c5\u03bc\u03b2\u03bf\u03bb\u03bf\u03c3\u03b5\u03b9\u03c1\u03ac Apple:\\n', s_without_vowels"
     ],
     "language": "python",
     "metadata": {},
     "outputs": [
      {
       "output_type": "stream",
       "stream": "stdout",
       "text": [
        "\u0391\u03bd\u03ae\u03ba\u03b5\u03b9 \u03c4\u03bf p \u03c3\u03c4\u03b7 \u03c3\u03c5\u03bc\u03b2\u03bf\u03bb\u03bf\u03c3\u03b5\u03b9\u03c1\u03ac apple; \u0391\u03c0\u03ac\u03bd\u03c4\u03b7\u03c3\u03b7: True\n",
        "\u0391\u03bd\u03ae\u03ba\u03b5\u03b9 \u03c4\u03bf i \u03c3\u03c4\u03b7 \u03c3\u03c5\u03bc\u03b2\u03bf\u03bb\u03bf\u03c3\u03b5\u03b9\u03c1\u03ac apple; \u0391\u03c0\u03ac\u03bd\u03c4\u03b7\u03c3\u03b7: False\n",
        "\u0391\u03bd\u03ae\u03ba\u03b5\u03b9 \u03c4\u03bf ap \u03c3\u03c4\u03b7 \u03c3\u03c5\u03bc\u03b2\u03bf\u03bb\u03bf\u03c3\u03b5\u03b9\u03c1\u03ac apple; \u0391\u03c0\u03ac\u03bd\u03c4\u03b7\u03c3\u03b7: True\n",
        "\u0391\u03bd\u03ae\u03ba\u03b5\u03b9 \u03c4\u03bf pa \u03c3\u03c4\u03b7 \u03c3\u03c5\u03bc\u03b2\u03bf\u03bb\u03bf\u03c3\u03b5\u03b9\u03c1\u03ac apple; \u0391\u03c0\u03ac\u03bd\u03c4\u03b7\u03c3\u03b7: False\n",
        "\u0391\u03c0\u03bf\u03bc\u03ac\u03ba\u03c1\u03c5\u03bd\u03c3\u03b7 \u03c6\u03c9\u03bd\u03b7\u03ad\u03bd\u03c4\u03c9\u03bd \u03b1\u03c0\u03cc \u03c4\u03b7\u03bd \u03c3\u03c5\u03bc\u03b2\u03bf\u03bb\u03bf\u03c3\u03b5\u03b9\u03c1\u03ac Apple:\n",
        "ppl\n"
       ]
      }
     ],
     "prompt_number": 10
    },
    {
     "cell_type": "heading",
     "level": 3,
     "metadata": {},
     "source": [
      "\u03a4\u03b5\u03bc\u03b1\u03c7\u03b9\u03c3\u03bc\u03cc\u03c2 (slicing) \u03c3\u03c5\u03bc\u03b2\u03bf\u03bb\u03bf\u03c3\u03b5\u03b9\u03c1\u03ac\u03c2 \u03c3\u03b5 \u03b4\u03b9\u03b1\u03c3\u03c4\u03ae\u03bc\u03b1\u03c4\u03b1 \u03c3\u03c4\u03bf\u03b9\u03c7\u03b5\u03af\u03c9\u03bd"
     ]
    },
    {
     "cell_type": "code",
     "collapsed": false,
     "input": [
      "print '\u0397 \u03c3\u03c5\u03bc\u03b2\u03bf\u03bb\u03bf\u03c3\u03b5\u03b9\u03c1\u03ac salut \u03b5\u03af\u03bd\u03b1\u03b9 \u03b7 \u03c0\u03b1\u03c1\u03b1\u03ba\u03ac\u03c4\u03c9 \u03c6\u03c1\u03ac\u03c3\u03b7:'\n",
      "print salut\n",
      "print '\u03a4\u03bf \u03c0\u03ad\u03bc\u03c0\u03c4\u03bf \u03c9\u03c2 \u03c4\u03bf \u03cc\u03b3\u03b4\u03bf\u03bf \u03c3\u03c4\u03bf\u03b9\u03c7\u03b5\u03af\u03bf \u03c4\u03b7\u03c2 \u03c3\u03c5\u03bc\u03b2\u03bf\u03bb\u03bf\u03c3\u03b5\u03b9\u03c1\u03ac\u03c2 salut \u03b5\u03af\u03bd\u03b1\u03b9 \u03c4\u03b1 \u03b5\u03be\u03ae\u03c2:' \n",
      "print salut[4:8]\n",
      "print '\u03a4\u03bf \u03ad\u03ba\u03c4\u03bf \u03c3\u03c4\u03bf\u03b9\u03c7\u03b5\u03af\u03bf \u03c4\u03b7\u03c2 \u03c3\u03c5\u03bc\u03b2\u03bf\u03bb\u03bf\u03c3\u03b5\u03b9\u03c1\u03ac\u03c2 salut \u03b5\u03af\u03bd\u03b1\u03b9 \u03c4\u03bf \u03b5\u03be\u03ae\u03c2:' \n",
      "print salut[5:6]\n",
      "print '\u03a4\u03b1 \u03c3\u03c4\u03bf\u03b9\u03c7\u03b5\u03af\u03b1 \u03c4\u03b7\u03c2 \u03c3\u03c5\u03bc\u03b2\u03bf\u03bb\u03bf\u03c3\u03b5\u03b9\u03c1\u03ac\u03c2 salut \u03bc\u03b5\u03c4\u03ac \u03c4\u03bf \u03c4\u03c1\u03af\u03c4\u03bf \u03b5\u03af\u03bd\u03b1\u03b9 \u03c4\u03b1 \u03b5\u03be\u03ae\u03c2:' \n",
      "print salut[4:]\n",
      "print '\u03a4\u03b1 \u03c3\u03c4\u03bf\u03b9\u03c7\u03b5\u03af\u03b1 \u03c4\u03b7\u03c2 \u03c3\u03c5\u03bc\u03b2\u03bf\u03bb\u03bf\u03c3\u03b5\u03b9\u03c1\u03ac\u03c2 salut \u03bc\u03b5\u03c4\u03ac \u03c4\u03bf \u03c4\u03c1\u03af\u03c4\u03bf \u03b1\u03c0\u03cc \u03c4\u03bf \u03c4\u03ad\u03bb\u03bf\u03c2 \u03b5\u03af\u03bd\u03b1\u03b9 \u03c4\u03b1 \u03b5\u03be\u03ae\u03c2:' \n",
      "print salut[-3:]\n",
      "print '\u038c\u03bb\u03b7 \u03b7 \u03c3\u03c5\u03bc\u03b2\u03bf\u03bb\u03bf\u03c3\u03b5\u03b9\u03c1\u03ac salut \u03b5\u03af\u03bd\u03b1\u03b9 \u03bf \u03b5\u03be\u03ae\u03c2 \u03bc\u03ad\u03b3\u03b9\u03c3\u03c4\u03bf\u03c2 \u03c4\u03b5\u03bc\u03b1\u03c7\u03b9\u03c3\u03bc\u03cc\u03c2:' \n",
      "print salut[:len(salut)]"
     ],
     "language": "python",
     "metadata": {},
     "outputs": [
      {
       "output_type": "stream",
       "stream": "stdout",
       "text": [
        "\u0397 \u03c3\u03c5\u03bc\u03b2\u03bf\u03bb\u03bf\u03c3\u03b5\u03b9\u03c1\u03ac salut \u03b5\u03af\u03bd\u03b1\u03b9 \u03b7 \u03c0\u03b1\u03c1\u03b1\u03ba\u03ac\u03c4\u03c9 \u03c6\u03c1\u03ac\u03c3\u03b7:\n",
        "Pws se lene?\n",
        "\u03a4\u03bf \u03c0\u03ad\u03bc\u03c0\u03c4\u03bf \u03c9\u03c2 \u03c4\u03bf \u03cc\u03b3\u03b4\u03bf\u03bf \u03c3\u03c4\u03bf\u03b9\u03c7\u03b5\u03af\u03bf \u03c4\u03b7\u03c2 \u03c3\u03c5\u03bc\u03b2\u03bf\u03bb\u03bf\u03c3\u03b5\u03b9\u03c1\u03ac\u03c2 salut \u03b5\u03af\u03bd\u03b1\u03b9 \u03c4\u03b1 \u03b5\u03be\u03ae\u03c2:\n",
        "se l\n",
        "\u03a4\u03bf \u03ad\u03ba\u03c4\u03bf \u03c3\u03c4\u03bf\u03b9\u03c7\u03b5\u03af\u03bf \u03c4\u03b7\u03c2 \u03c3\u03c5\u03bc\u03b2\u03bf\u03bb\u03bf\u03c3\u03b5\u03b9\u03c1\u03ac\u03c2 salut \u03b5\u03af\u03bd\u03b1\u03b9 \u03c4\u03bf \u03b5\u03be\u03ae\u03c2:\n",
        "e\n",
        "\u03a4\u03b1 \u03c3\u03c4\u03bf\u03b9\u03c7\u03b5\u03af\u03b1 \u03c4\u03b7\u03c2 \u03c3\u03c5\u03bc\u03b2\u03bf\u03bb\u03bf\u03c3\u03b5\u03b9\u03c1\u03ac\u03c2 salut \u03bc\u03b5\u03c4\u03ac \u03c4\u03bf \u03c4\u03c1\u03af\u03c4\u03bf \u03b5\u03af\u03bd\u03b1\u03b9 \u03c4\u03b1 \u03b5\u03be\u03ae\u03c2:\n",
        "se lene?\n",
        "\u03a4\u03b1 \u03c3\u03c4\u03bf\u03b9\u03c7\u03b5\u03af\u03b1 \u03c4\u03b7\u03c2 \u03c3\u03c5\u03bc\u03b2\u03bf\u03bb\u03bf\u03c3\u03b5\u03b9\u03c1\u03ac\u03c2 salut \u03bc\u03b5\u03c4\u03ac \u03c4\u03bf \u03c4\u03c1\u03af\u03c4\u03bf \u03b1\u03c0\u03cc \u03c4\u03bf \u03c4\u03ad\u03bb\u03bf\u03c2 \u03b5\u03af\u03bd\u03b1\u03b9 \u03c4\u03b1 \u03b5\u03be\u03ae\u03c2:\n",
        "ne?\n",
        "\u038c\u03bb\u03b7 \u03b7 \u03c3\u03c5\u03bc\u03b2\u03bf\u03bb\u03bf\u03c3\u03b5\u03b9\u03c1\u03ac salut \u03b5\u03af\u03bd\u03b1\u03b9 \u03bf \u03b5\u03be\u03ae\u03c2 \u03bc\u03ad\u03b3\u03b9\u03c3\u03c4\u03bf\u03c2 \u03c4\u03b5\u03bc\u03b1\u03c7\u03b9\u03c3\u03bc\u03cc\u03c2:\n",
        "Pws se lene?\n"
       ]
      }
     ],
     "prompt_number": 44
    },
    {
     "cell_type": "heading",
     "level": 3,
     "metadata": {},
     "source": [
      "\u03a7\u03c9\u03c1\u03b9\u03c3\u03bc\u03cc\u03c2 (splitting) \u03c3\u03c5\u03bc\u03b2\u03bf\u03bb\u03bf\u03c3\u03b5\u03b9\u03c1\u03ac\u03c2 \u03c3\u03b5 \u03bc\u03b9\u03ba\u03c1\u03cc\u03c4\u03b5\u03c1\u03b1 \u03ba\u03bf\u03bc\u03bc\u03ac\u03c4\u03b9\u03b1"
     ]
    },
    {
     "cell_type": "code",
     "collapsed": false,
     "input": [
      "print '\u0397 \u03c6\u03c1\u03ac\u03c3\u03b7 salut \u03b5\u03af\u03bd\u03b1\u03b9 \u03b7 \u03b5\u03be\u03ae\u03c2:'\n",
      "print salut\n",
      "list_of_words_in_salut = salut.split()\n",
      "print '\u039f\u03b9 \u03bb\u03ad\u03be\u03b5\u03b9\u03c2 \u03c3\u03c4\u03b7\u03bd \u03c6\u03c1\u03ac\u03c3\u03b7 salut \u03c3\u03c7\u03b7\u03bc\u03b1\u03c4\u03af\u03b6\u03bf\u03bd\u03c4\u03b1\u03b9 \u03b1\u03c0\u03cc \u03c7\u03c9\u03c1\u03b9\u03c3\u03bc\u03cc (splitting) \u03c9\u03c2 \u03c0\u03c1\u03bf\u03c2 \u03c4\u03b1 \u03ba\u03b5\u03bd\u03ac \u03ba\u03b1\u03b9 \u03b1\u03c0\u03bf\u03c4\u03b5\u03bb\u03bf\u03cd\u03bd \u03c4\u03b7\u03bd \u03b5\u03be\u03ae\u03c2 \u03bb\u03af\u03c3\u03c4\u03b1:'\n",
      "print list_of_words_in_salut\n",
      "print \n",
      "print '\u0397 \u03c3\u03c5\u03bc\u03b2\u03bf\u03bb\u03bf\u03c3\u03b5\u03b9\u03c1\u03ac list_of_words_in_salut \u03b4\u03b5\u03bd \u03ad\u03c7\u03b5\u03b9 \u03ba\u03b5\u03bd\u03ac \u03b1\u03bb\u03bb\u03ac \u03bc\u03c0\u03bf\u03c1\u03b5\u03af \u03bd\u03b1 \u03c7\u03c9\u03c1\u03b9\u03c3\u03b8\u03b5\u03af \u03c9\u03c2 \u03c0\u03c1\u03bf\u03c2 \u03c4\u03bf _:'\n",
      "ss = 'list_of_words_in_salut'\n",
      "print ss\n",
      "lss = ss.split('_')\n",
      "print lss\n",
      "print\n",
      "print '\u03a7\u03c9\u03c1\u03b9\u03c3\u03bc\u03cc\u03c2 \u03c4\u03b7\u03c2 \u03c6\u03c1\u03ac\u03c3\u03b7\u03c2 salut \u03c9\u03c2 \u03c0\u03c1\u03bf\u03c2 \u03c4\u03bf \u03b3\u03c1\u03ac\u03bc\u03bc\u03b1 e:'\n",
      "esa = salut.split('e')\n",
      "print esa"
     ],
     "language": "python",
     "metadata": {},
     "outputs": [
      {
       "output_type": "stream",
       "stream": "stdout",
       "text": [
        "\u0397 \u03c6\u03c1\u03ac\u03c3\u03b7 salut \u03b5\u03af\u03bd\u03b1\u03b9 \u03b7 \u03b5\u03be\u03ae\u03c2:\n",
        "Pws se lene?\n",
        "\u039f\u03b9 \u03bb\u03ad\u03be\u03b5\u03b9\u03c2 \u03c3\u03c4\u03b7\u03bd \u03c6\u03c1\u03ac\u03c3\u03b7 salut \u03c3\u03c7\u03b7\u03bc\u03b1\u03c4\u03af\u03b6\u03bf\u03bd\u03c4\u03b1\u03b9 \u03b1\u03c0\u03cc \u03c7\u03c9\u03c1\u03b9\u03c3\u03bc\u03cc (splitting) \u03c9\u03c2 \u03c0\u03c1\u03bf\u03c2 \u03c4\u03b1 \u03ba\u03b5\u03bd\u03ac \u03ba\u03b1\u03b9 \u03b1\u03c0\u03bf\u03c4\u03b5\u03bb\u03bf\u03cd\u03bd \u03c4\u03b7\u03bd \u03b5\u03be\u03ae\u03c2 \u03bb\u03af\u03c3\u03c4\u03b1:\n",
        "['Pws', 'se', 'lene?']\n",
        "\n",
        "\u0397 \u03c3\u03c5\u03bc\u03b2\u03bf\u03bb\u03bf\u03c3\u03b5\u03b9\u03c1\u03ac list_of_words_in_salut \u03b4\u03b5\u03bd \u03ad\u03c7\u03b5\u03b9 \u03ba\u03b5\u03bd\u03ac \u03b1\u03bb\u03bb\u03ac \u03bc\u03c0\u03bf\u03c1\u03b5\u03af \u03bd\u03b1 \u03c7\u03c9\u03c1\u03b9\u03c3\u03b8\u03b5\u03af \u03c9\u03c2 \u03c0\u03c1\u03bf\u03c2 \u03c4\u03bf _:\n",
        "list_of_words_in_salut\n",
        "['list', 'of', 'words', 'in', 'salut']\n",
        "\n",
        "\u03a7\u03c9\u03c1\u03b9\u03c3\u03bc\u03cc\u03c2 \u03c4\u03b7\u03c2 \u03c6\u03c1\u03ac\u03c3\u03b7\u03c2 salut \u03c9\u03c2 \u03c0\u03c1\u03bf\u03c2 \u03c4\u03bf \u03b3\u03c1\u03ac\u03bc\u03bc\u03b1 e:\n",
        "['Pws s', ' l', 'n', '?']\n"
       ]
      }
     ],
     "prompt_number": 53
    },
    {
     "cell_type": "heading",
     "level": 3,
     "metadata": {},
     "source": [
      "\u039b\u03ad\u03be\u03b5\u03b9\u03c2 \u03c3\u03b5 \u03bc\u03b9\u03b1 \u03c6\u03c1\u03ac\u03c3\u03b7"
     ]
    },
    {
     "cell_type": "code",
     "collapsed": false,
     "input": [
      "print '\u0397 \u03c6\u03c1\u03ac\u03c3\u03b7 salut \u03b5\u03af\u03bd\u03b1\u03b9 \u03b7 \u03b5\u03be\u03ae\u03c2:'\n",
      "print salut\n",
      "ws = salut.split()\n",
      "print '\u039f\u03b9 \u03bb\u03ad\u03be\u03b5\u03b9\u03c2 \u03c3\u03c4\u03b7\u03bd \u03c6\u03c1\u03ac\u03c3\u03b7 salut \u03b5\u03af\u03bd\u03b1\u03b9 \u03bf\u03b9 \u03b5\u03be\u03ae\u03c2:'\n",
      "print ws\n",
      "print '\u0397 \u03c6\u03c1\u03ac\u03c3\u03b7 salut \u03c0\u03b5\u03c1\u03b9\u03ad\u03c7\u03b5\u03b9', len(ws), '\u03bb\u03ad\u03be\u03b5\u03b9\u03c2'\n",
      "print\n",
      "print '\u03a4\u03bf \u03bc\u03ae\u03ba\u03bf\u03c2 \u03c4\u03b7\u03c2 \u03b4\u03b5\u03cd\u03c4\u03b5\u03c1\u03b7\u03c2 \u03bb\u03ad\u03be\u03b7\u03c2 \u03c3\u03c4\u03b7\u03bd \u03c6\u03c1\u03ac\u03c3\u03b7 salut \u03b5\u03af\u03bd\u03b1\u03b9', len(ws[1])\n",
      "print\n",
      "sum = 0\n",
      "for i in ws:\n",
      "    sum += len(i)\n",
      "print '\u03a4\u03bf \u03bc\u03ad\u03c3\u03bf \u03bc\u03ae\u03ba\u03bf\u03c2 \u03c4\u03c9\u03bd \u03bb\u03ad\u03be\u03b5\u03c9\u03bd \u03c3\u03c4\u03b7\u03bd \u03c6\u03c1\u03ac\u03c3\u03b7 salut \u03b5\u03af\u03bd\u03b1\u03b9', float(sum)/len(ws)"
     ],
     "language": "python",
     "metadata": {},
     "outputs": [
      {
       "output_type": "stream",
       "stream": "stdout",
       "text": [
        "\u0397 \u03c6\u03c1\u03ac\u03c3\u03b7 salut \u03b5\u03af\u03bd\u03b1\u03b9 \u03b7 \u03b5\u03be\u03ae\u03c2:\n",
        "Pws se lene?\n",
        "\u039f\u03b9 \u03bb\u03ad\u03be\u03b5\u03b9\u03c2 \u03c3\u03c4\u03b7\u03bd \u03c6\u03c1\u03ac\u03c3\u03b7 salut \u03b5\u03af\u03bd\u03b1\u03b9 \u03bf\u03b9 \u03b5\u03be\u03ae\u03c2:\n",
        "['Pws', 'se', 'lene?']\n",
        "\u0397 \u03c6\u03c1\u03ac\u03c3\u03b7 salut \u03c0\u03b5\u03c1\u03b9\u03ad\u03c7\u03b5\u03b9 3 \u03bb\u03ad\u03be\u03b5\u03b9\u03c2\n",
        "\n",
        "\u03a4\u03bf \u03bc\u03ae\u03ba\u03bf\u03c2 \u03c4\u03b7\u03c2 \u03b4\u03b5\u03cd\u03c4\u03b5\u03c1\u03b7\u03c2 \u03bb\u03ad\u03be\u03b7\u03c2 \u03c3\u03c4\u03b7\u03bd \u03c6\u03c1\u03ac\u03c3\u03b7 salut \u03b5\u03af\u03bd\u03b1\u03b9 2\n",
        "\n",
        "\u03a4\u03bf \u03bc\u03ad\u03c3\u03bf \u03bc\u03ae\u03ba\u03bf\u03c2 \u03c4\u03c9\u03bd \u03bb\u03ad\u03be\u03b5\u03c9\u03bd \u03c3\u03c4\u03b7\u03bd \u03c6\u03c1\u03ac\u03c3\u03b7 salut \u03b5\u03af\u03bd\u03b1\u03b9 3.33333333333\n"
       ]
      }
     ],
     "prompt_number": 66
    },
    {
     "cell_type": "heading",
     "level": 3,
     "metadata": {},
     "source": [
      "\u0386\u03bc\u03b5\u03c3\u03b7 \u03b1\u03bd\u03c4\u03b9\u03ba\u03b1\u03c4\u03ac\u03c3\u03c4\u03b1\u03c3\u03b7 \u03b3\u03c1\u03b1\u03bc\u03bc\u03ac\u03c4\u03c9\u03bd \u03c3\u03b5 \u03bb\u03ad\u03be\u03b7"
     ]
    },
    {
     "cell_type": "code",
     "collapsed": false,
     "input": [
      "print '\u0397 \u03c6\u03c1\u03ac\u03c3\u03b7 salut \u03b5\u03af\u03bd\u03b1\u03b9 \u03b7 \u03b5\u03be\u03ae\u03c2:'\n",
      "salut = \"Pws se lene?\"\n",
      "print salut\n",
      "ws = salut.split()\n",
      "print '\u039f\u03b9 \u03bb\u03ad\u03be\u03b5\u03b9\u03c2 \u03c3\u03c4\u03b7\u03bd \u03c6\u03c1\u03ac\u03c3\u03b7 salut \u03b5\u03af\u03bd\u03b1\u03b9 \u03bf\u03b9 \u03b5\u03be\u03ae\u03c2:'\n",
      "print ws\n",
      "print \n",
      "print '\u0391\u03bd\u03c4\u03b9\u03ba\u03b1\u03c4\u03ac\u03c3\u03c4\u03b1\u03c3\u03b7 \u03b3\u03c1\u03b1\u03bc\u03bc\u03ac\u03c4\u03c9\u03bd \u03c3\u03b5 \u03c3\u03c5\u03bc\u03b2\u03bf\u03bb\u03bf\u03c3\u03b5\u03b9\u03c1\u03ac \u03bc\u03ad\u03c3\u03c9 \u03c4\u03b7\u03c2 \u03b5\u03bd\u03c4\u03bf\u03bb\u03ae\u03c2:'\n",
      "print \"salut = salut.replace('?','')\"\n",
      "salut = salut.replace('?','')\n",
      "print\n",
      "print '\u0395\u03c0\u03bf\u03bc\u03ad\u03bd\u03c9\u03c2, \u03bf\u03b9 \u03ba\u03b1\u03b8\u03b1\u03c1\u03ad\u03c2 \u03bb\u03ad\u03be\u03b5\u03b9\u03c2 \u03c4\u03b7\u03c2 \u03c6\u03c1\u03ac\u03c3\u03b7\u03c2 salut \u03b5\u03af\u03bd\u03b1\u03b9:'\n",
      "ws = salut.split()\n",
      "print ws\n",
      "salut1 = salut.replace('e','o')\n",
      "print salut1"
     ],
     "language": "python",
     "metadata": {},
     "outputs": [
      {
       "output_type": "stream",
       "stream": "stdout",
       "text": [
        "\u0397 \u03c6\u03c1\u03ac\u03c3\u03b7 salut \u03b5\u03af\u03bd\u03b1\u03b9 \u03b7 \u03b5\u03be\u03ae\u03c2:\n",
        "Pws se lene?\n",
        "\u039f\u03b9 \u03bb\u03ad\u03be\u03b5\u03b9\u03c2 \u03c3\u03c4\u03b7\u03bd \u03c6\u03c1\u03ac\u03c3\u03b7 salut \u03b5\u03af\u03bd\u03b1\u03b9 \u03bf\u03b9 \u03b5\u03be\u03ae\u03c2:\n",
        "['Pws', 'se', 'lene?']\n",
        "\n",
        "\u0391\u03bd\u03c4\u03b9\u03ba\u03b1\u03c4\u03ac\u03c3\u03c4\u03b1\u03c3\u03b7 \u03b3\u03c1\u03b1\u03bc\u03bc\u03ac\u03c4\u03c9\u03bd \u03c3\u03b5 \u03c3\u03c5\u03bc\u03b2\u03bf\u03bb\u03bf\u03c3\u03b5\u03b9\u03c1\u03ac \u03bc\u03ad\u03c3\u03c9 \u03c4\u03b7\u03c2 \u03b5\u03bd\u03c4\u03bf\u03bb\u03ae\u03c2:\n",
        "salut = salut.replace('?','')\n",
        "\n",
        "\u0395\u03c0\u03bf\u03bc\u03ad\u03bd\u03c9\u03c2, \u03bf\u03b9 \u03ba\u03b1\u03b8\u03b1\u03c1\u03ad\u03c2 \u03bb\u03ad\u03be\u03b5\u03b9\u03c2 \u03c4\u03b7\u03c2 \u03c6\u03c1\u03ac\u03c3\u03b7\u03c2 salut \u03b5\u03af\u03bd\u03b1\u03b9:\n",
        "['Pws', 'se', 'lene']\n",
        "Pws so lono\n"
       ]
      }
     ],
     "prompt_number": 58
    },
    {
     "cell_type": "heading",
     "level": 3,
     "metadata": {},
     "source": [
      "\u0388\u03bc\u03bc\u03b5\u03c3\u03b7 \u03b1\u03bd\u03c4\u03b9\u03ba\u03b1\u03c4\u03ac\u03c3\u03c4\u03b1\u03c3\u03b7 \u03b3\u03c1\u03b1\u03bc\u03bc\u03ac\u03c4\u03c9\u03bd \u03c3\u03b5 \u03bb\u03ad\u03be\u03b7"
     ]
    },
    {
     "cell_type": "code",
     "collapsed": false,
     "input": [
      "print '\u0397 \u03c6\u03c1\u03ac\u03c3\u03b7 salut \u03b5\u03af\u03bd\u03b1\u03b9 \u03b7 \u03b5\u03be\u03ae\u03c2:'\n",
      "salut = \"Pws se lene?\"\n",
      "print salut\n",
      "ws = salut.split()\n",
      "print '\u039f\u03b9 \u03bb\u03ad\u03be\u03b5\u03b9\u03c2 \u03c3\u03c4\u03b7\u03bd \u03c6\u03c1\u03ac\u03c3\u03b7 salut \u03b5\u03af\u03bd\u03b1\u03b9 \u03bf\u03b9 \u03b5\u03be\u03ae\u03c2:'\n",
      "print ws\n",
      "print\n",
      "print '\u0397 \u03c4\u03c1\u03af\u03c4\u03b7 \u03bb\u03ad\u03be\u03b7 \u03c3\u03c4\u03b7\u03bd \u03c6\u03c1\u03ac\u03c3\u03b7 salut \u03b5\u03af\u03bd\u03b1\u03b9 \u03b7 \u03b5\u03be\u03ae\u03c2:'\n",
      "w2 = ws[2]\n",
      "print w2\n",
      "print \n",
      "print '\u03a4\u03bf \u03c4\u03b5\u03bb\u03b5\u03c5\u03c4\u03b1\u03af\u03bf \u03c3\u03cd\u03bc\u03b2\u03bf\u03bb\u03bf (?) \u03bc\u03c0\u03bf\u03c1\u03b5\u03af \u03bd\u03b1 \u03b1\u03c6\u03b1\u03b9\u03c1\u03b5\u03b8\u03b5\u03af \u03c9\u03c2 \u03b5\u03be\u03ae\u03c2:'\n",
      "print '\u03a0\u03c1\u03ce\u03c4\u03b1 \u03bc\u03b5\u03c4\u03b1\u03c4\u03c1\u03ad\u03c0\u03bf\u03c5\u03bc\u03b5 \u03c4\u03b7 \u03bb\u03ad\u03be\u03b7 \u03b1\u03c5\u03c4\u03ae \u03c3\u03b5 \u03bb\u03af\u03c3\u03c4\u03b1 \u03c3\u03c5\u03bc\u03b2\u03cc\u03bb\u03c9\u03bd:'\n",
      "lw2 = list(w2)\n",
      "print lw2\n",
      "print '\u039c\u03b5\u03c4\u03ac \u03b1\u03c6\u03b1\u03b9\u03c1\u03bf\u03cd\u03bc\u03b5 \u03c4\u03bf \u03c4\u03b5\u03bb\u03b5\u03c5\u03c4\u03b1\u03af\u03bf \u03c3\u03cd\u03bc\u03b2\u03bf\u03bb\u03bf:'\n",
      "del lw2[-1]\n",
      "print lw2\n",
      "print '\u03a4\u03ad\u03bb\u03bf\u03c2, \u03c3\u03c5\u03bd\u03b5\u03bd\u03ce\u03bd\u03bf\u03c5\u03bc\u03b5 \u03c4\u03b7\u03bd \u03c4\u03b5\u03bb\u03b5\u03c5\u03c4\u03b1\u03af\u03b1 \u03bb\u03af\u03c3\u03c4\u03b1 \u03c3\u03b5 \u03c3\u03c5\u03bc\u03b2\u03bf\u03bb\u03bf\u03c3\u03b5\u03b9\u03c1\u03ac (\u03c7\u03c9\u03c1\u03af\u03c2 \u03c4\u03bf ?):'\n",
      "lw2 = ''.join(lw2)\n",
      "print lw2\n",
      "lw3 = 'A'.join(lw2)\n",
      "print lw3"
     ],
     "language": "python",
     "metadata": {},
     "outputs": [
      {
       "output_type": "stream",
       "stream": "stdout",
       "text": [
        "\u0397 \u03c6\u03c1\u03ac\u03c3\u03b7 salut \u03b5\u03af\u03bd\u03b1\u03b9 \u03b7 \u03b5\u03be\u03ae\u03c2:\n",
        "Pws se lene?\n",
        "\u039f\u03b9 \u03bb\u03ad\u03be\u03b5\u03b9\u03c2 \u03c3\u03c4\u03b7\u03bd \u03c6\u03c1\u03ac\u03c3\u03b7 salut \u03b5\u03af\u03bd\u03b1\u03b9 \u03bf\u03b9 \u03b5\u03be\u03ae\u03c2:\n",
        "['Pws', 'se', 'lene?']\n",
        "\n",
        "\u0397 \u03c4\u03c1\u03af\u03c4\u03b7 \u03bb\u03ad\u03be\u03b7 \u03c3\u03c4\u03b7\u03bd \u03c6\u03c1\u03ac\u03c3\u03b7 salut \u03b5\u03af\u03bd\u03b1\u03b9 \u03b7 \u03b5\u03be\u03ae\u03c2:\n",
        "lene?\n",
        "\n",
        "\u03a4\u03bf \u03c4\u03b5\u03bb\u03b5\u03c5\u03c4\u03b1\u03af\u03bf \u03c3\u03cd\u03bc\u03b2\u03bf\u03bb\u03bf (?) \u03bc\u03c0\u03bf\u03c1\u03b5\u03af \u03bd\u03b1 \u03b1\u03c6\u03b1\u03b9\u03c1\u03b5\u03b8\u03b5\u03af \u03c9\u03c2 \u03b5\u03be\u03ae\u03c2:\n",
        "\u03a0\u03c1\u03ce\u03c4\u03b1 \u03bc\u03b5\u03c4\u03b1\u03c4\u03c1\u03ad\u03c0\u03bf\u03c5\u03bc\u03b5 \u03c4\u03b7 \u03bb\u03ad\u03be\u03b7 \u03b1\u03c5\u03c4\u03ae \u03c3\u03b5 \u03bb\u03af\u03c3\u03c4\u03b1 \u03c3\u03c5\u03bc\u03b2\u03cc\u03bb\u03c9\u03bd:\n",
        "['l', 'e', 'n', 'e', '?']\n",
        "\u039c\u03b5\u03c4\u03ac \u03b1\u03c6\u03b1\u03b9\u03c1\u03bf\u03cd\u03bc\u03b5 \u03c4\u03bf \u03c4\u03b5\u03bb\u03b5\u03c5\u03c4\u03b1\u03af\u03bf \u03c3\u03cd\u03bc\u03b2\u03bf\u03bb\u03bf:\n",
        "['l', 'e', 'n', 'e']\n",
        "\u03a4\u03ad\u03bb\u03bf\u03c2, \u03c3\u03c5\u03bd\u03b5\u03bd\u03ce\u03bd\u03bf\u03c5\u03bc\u03b5 \u03c4\u03b7\u03bd \u03c4\u03b5\u03bb\u03b5\u03c5\u03c4\u03b1\u03af\u03b1 \u03bb\u03af\u03c3\u03c4\u03b1 \u03c3\u03b5 \u03c3\u03c5\u03bc\u03b2\u03bf\u03bb\u03bf\u03c3\u03b5\u03b9\u03c1\u03ac (\u03c7\u03c9\u03c1\u03af\u03c2 \u03c4\u03bf ?):\n",
        "lene\n",
        "lAeAnAe\n"
       ]
      }
     ],
     "prompt_number": 59
    },
    {
     "cell_type": "heading",
     "level": 2,
     "metadata": {},
     "source": [
      "\u039c\u03bf\u03c1\u03c6\u03bf\u03c0\u03bf\u03af\u03b7\u03c3\u03b7 (formatting) \u03c3\u03c5\u03bc\u03b2\u03bf\u03bb\u03bf\u03c3\u03b5\u03b9\u03c1\u03ce\u03bd"
     ]
    },
    {
     "cell_type": "code",
     "collapsed": false,
     "input": [
      "# \u0397 \u03bc\u03bf\u03c1\u03c6\u03bf\u03c0\u03bf\u03af\u03b7\u03c3\u03b7 \u03c3\u03c4\u03b7\u03bd \u03b5\u03ba\u03c4\u03cd\u03c0\u03c9\u03c3\u03b7 \u03c3\u03c5\u03bc\u03b2\u03bf\u03bb\u03bf\u03c3\u03b5\u03b9\u03c1\u03ce\u03bd (\u03ba\u03b1\u03b9 \u03bc\u03b5\u03c4\u03b1\u03b2\u03bb\u03b7\u03c4\u03ce\u03bd) \u03b3\u03af\u03bd\u03b5\u03c4\u03b1\u03b9 \u03bc\u03ad\u03c3\u03c9 \n",
      "# (1) \u03c4\u03bf\u03c5 \u03c4\u03b5\u03bb\u03b5\u03c3\u03c4\u03bf\u03cd % \u03ba\u03b1\u03b9 \n",
      "# (2) \u03ba\u03ac\u03c0\u03bf\u03b9\u03c9\u03bd \u03c3\u03c5\u03bc\u03b2\u03cc\u03bb\u03c9\u03bd s, d, f, ...\n",
      "# \u03a0\u03b1\u03c1\u03b1\u03b4\u03b5\u03af\u03b3\u03bc\u03b1\u03c4\u03b1:\n",
      "\n",
      "print 'To onoma tou patera mou einai %s' % 'Andreas'\n",
      "name = 'Anna'\n",
      "age = 18\n",
      "print 'H adelfi mou legetai %s kai einai %d etwn' % (name, age)\n",
      "n1 = 4\n",
      "n2 = 5\n",
      "print '2**10 = %d and %d * %d = %f' % (2**10, n1, n2, n1 * n2)"
     ],
     "language": "python",
     "metadata": {},
     "outputs": [
      {
       "output_type": "stream",
       "stream": "stdout",
       "text": [
        "To onoma tou patera mou einai Andreas\n",
        "H adelfi mou legetai Anna kai einai 18 etwn\n",
        "2**10 = 1024 and 4 * 5 = 20.000000\n"
       ]
      }
     ],
     "prompt_number": 1
    },
    {
     "cell_type": "code",
     "collapsed": false,
     "input": [
      "# \u0397 \u03b5\u03b9\u03c3\u03b1\u03b3\u03c9\u03b3\u03ae tab \u03c3\u03b5 \u03bc\u03b9\u03b1 \u03c3\u03c5\u03bc\u03b2\u03bf\u03bb\u03bf\u03c3\u03b5\u03b9\u03c1\u03ac \u03b2\u03ac\u03b6\u03b5\u03b9 \u03c4\u03b1 \u03c4\u03bc\u03ae\u03bc\u03b1\u03c4\u03ac \u03c4\u03b7\u03c2 \u03c3\u03b5 \u03c0\u03c1\u03bf\u03ba\u03b1\u03b8\u03bf\u03c1\u03b9\u03c3\u03bc\u03ad\u03bd\u03b5\u03c2 \u03b8\u03ad\u03c3\u03b5\u03b9\u03c2.\n",
      "# \u0397 \u03b1\u03bb\u03bb\u03b1\u03b3\u03ae \u03b3\u03c1\u03b1\u03bc\u03bc\u03ae\u03c2 \u03b3\u03af\u03bd\u03b5\u03c4\u03b1\u03b9 \u03bc\u03b5 \u03c4\u03bf \\n\n",
      "\n",
      "head = 'Students \\tage \\tgender \\tnationality'\n",
      "line1 = 'John \\t23 \\tmale \\tBritish'\n",
      "line2 = 'Maria \\t25 \\tfemale \\tGreek'\n",
      "print head \n",
      "print line1 \n",
      "print line2"
     ],
     "language": "python",
     "metadata": {},
     "outputs": [
      {
       "output_type": "stream",
       "stream": "stdout",
       "text": [
        "Students \tage \tgender \tnationality\n",
        "John \t23 \tmale \tBritish\n",
        "Maria \t25 \tfemale \tGreek\n"
       ]
      }
     ],
     "prompt_number": 24
    },
    {
     "cell_type": "code",
     "collapsed": false,
     "input": [
      "# \u0397 \u03c0\u03c1\u03bf\u03b7\u03b3\u03bf\u03cd\u03bc\u03b5\u03bd\u03b7 \u03bc\u03bf\u03c1\u03c6\u03bf\u03c0\u03bf\u03af\u03b7\u03c3\u03b7 \u03b5\u03af\u03bd\u03b1\u03b9 \u03bb\u03ac\u03b8\u03bf\u03c2. \u0393\u03b9\u03b1 \u03bd\u03b1 \u03b4\u03b9\u03bf\u03c1\u03b8\u03c9\u03b8\u03b5\u03af, \u03c0\u03c1\u03bf\u03c3\u03b8\u03ad\u03c4\u03bf\u03c5\u03bc\u03b5 \u03ad\u03bd\u03b1 \u03b1\u03ba\u03cc\u03bc\u03b7 tab \u03c3\u03b5 2 \u03b3\u03c1\u03b1\u03bc\u03bc\u03ad\u03c2\n",
      "\n",
      "head = 'Students \\tage \\tgender \\tnationality'\n",
      "line1 = 'John \\t \\t23 \\tmale \\tBritish'\n",
      "line2 = 'Maria \\t \\t25 \\tfemale \\tGreek'\n",
      "print head \n",
      "print line1 \n",
      "print line2"
     ],
     "language": "python",
     "metadata": {},
     "outputs": [
      {
       "output_type": "stream",
       "stream": "stdout",
       "text": [
        "Students \tage \tgender \tnationality\n",
        "John \t \t23 \tmale \tBritish\n",
        "Maria \t \t25 \tfemale \tGreek\n"
       ]
      }
     ],
     "prompt_number": 23
    },
    {
     "cell_type": "code",
     "collapsed": false,
     "input": [
      "# \u0388\u03bd\u03b1 \u03ac\u03bb\u03bb\u03bf \u03c0\u03b1\u03c1\u03ac\u03b4\u03b5\u03b9\u03b3\u03bc\u03b1 \u03bb\u03ac\u03b8\u03bf\u03c5\u03c2 \u03bc\u03bf\u03c1\u03c6\u03bf\u03c0\u03bf\u03af\u03b7\u03c3\u03b7\u03c2 \u03b5\u03af\u03bd\u03b1\u03b9 \u03c4\u03bf \u03b5\u03be\u03ae\u03c2:\n",
      "\n",
      "i = 1\n",
      "print 'i\\ti**2\\ti**3\\ti**5\\ti**10\\ti**20'\n",
      "while i <= 10:\n",
      "    print i, '\\t', i**2, '\\t', i**3, '\\t', i**5, '\\t', i**10, '\\t', i**20\n",
      "    i += 1"
     ],
     "language": "python",
     "metadata": {},
     "outputs": [
      {
       "output_type": "stream",
       "stream": "stdout",
       "text": [
        "i\ti**2\ti**3\ti**5\ti**10\ti**20\n",
        "1 \t1 \t1 \t1 \t1 \t1\n",
        "2 \t4 \t8 \t32 \t1024 \t1048576\n",
        "3 \t9 \t27 \t243 \t59049 \t3486784401\n",
        "4 \t16 \t64 \t1024 \t1048576 \t1099511627776\n",
        "5 \t25 \t125 \t3125 \t9765625 \t95367431640625\n",
        "6 \t36 \t216 \t7776 \t60466176 \t3656158440062976\n",
        "7 \t49 \t343 \t16807 \t282475249 \t79792266297612001\n",
        "8 \t64 \t512 \t32768 \t1073741824 \t1152921504606846976\n",
        "9 \t81 \t729 \t59049 \t3486784401 \t12157665459056928801\n",
        "10 \t100 \t1000 \t100000 \t10000000000 \t100000000000000000000\n"
       ]
      }
     ],
     "prompt_number": 26
    },
    {
     "cell_type": "code",
     "collapsed": false,
     "input": [
      "# \u0397 \u03b4\u03b9\u03cc\u03c1\u03b8\u03c9\u03c3\u03b7 \u03b3\u03af\u03bd\u03b5\u03c4\u03b1\u03b9 \u03c9\u03c2 \u03b5\u03be\u03ae\u03c2:\n",
      "\n",
      "i = 1\n",
      "print '%-4s%-5s%-6s%-8s%-13s%-15s' % \\\n",
      "      ('i', 'i**2', 'i**3', 'i**5', 'i**10', 'i**20')\n",
      "while i <= 10:\n",
      "    print '%-4d%-5d%-6d%-8d%-13d%-15d' % (i, i**2, i**3, i**5, i**10, i**20)\n",
      "    i += 1"
     ],
     "language": "python",
     "metadata": {},
     "outputs": [
      {
       "output_type": "stream",
       "stream": "stdout",
       "text": [
        "i   i**2 i**3  i**5    i**10        i**20          \n",
        "1   1    1     1       1            1              \n",
        "2   4    8     32      1024         1048576        \n",
        "3   9    27    243     59049        3486784401     \n",
        "4   16   64    1024    1048576      1099511627776  \n",
        "5   25   125   3125    9765625      95367431640625 \n",
        "6   36   216   7776    60466176     3656158440062976\n",
        "7   49   343   16807   282475249    79792266297612001\n",
        "8   64   512   32768   1073741824   1152921504606846976\n",
        "9   81   729   59049   3486784401   12157665459056928801\n",
        "10  100  1000  100000  10000000000  100000000000000000000\n"
       ]
      }
     ],
     "prompt_number": 27
    },
    {
     "cell_type": "heading",
     "level": 2,
     "metadata": {},
     "source": [
      "\u03a7\u03b5\u03b9\u03c1\u03b9\u03c3\u03bc\u03bf\u03af \u03c3\u03c5\u03bc\u03b2\u03bf\u03bb\u03bf\u03c3\u03b5\u03b9\u03c1\u03ce\u03bd"
     ]
    },
    {
     "cell_type": "heading",
     "level": 3,
     "metadata": {},
     "source": [
      "\u03a0\u03c1\u03bf\u03c3\u03b8\u03ae\u03ba\u03b7 \u03c3\u03c5\u03bc\u03b2\u03bf\u03bb\u03bf\u03c3\u03b5\u03b9\u03c1\u03ce\u03bd \u03bc\u03b5 \u03c4\u03bf +"
     ]
    },
    {
     "cell_type": "code",
     "collapsed": false,
     "input": [
      "a = 'H Python einai'\n",
      "b = 'mia evkoli glwssa'\n",
      "print a + ' ' + b"
     ],
     "language": "python",
     "metadata": {},
     "outputs": [
      {
       "output_type": "stream",
       "stream": "stdout",
       "text": [
        "H Python einai mia evkoli glwssa\n"
       ]
      }
     ],
     "prompt_number": 14
    },
    {
     "cell_type": "heading",
     "level": 3,
     "metadata": {},
     "source": [
      "\u03a3\u03c5\u03bd\u03ad\u03bd\u03c9\u03c3\u03b7 \u03c3\u03c5\u03bc\u03b2\u03bf\u03bb\u03bf\u03c3\u03b5\u03b9\u03c1\u03ce\u03bd \u03bc\u03b5 \u03c4\u03bf join"
     ]
    },
    {
     "cell_type": "code",
     "collapsed": false,
     "input": [
      "a = 'H Python einai'\n",
      "b = 'mia evkoli glwssa'\n",
      "\n",
      "print ' '.join([a,b])\n",
      "print\n",
      "# '\u0397 \u03c9\u03c2 \u03b5\u03be\u03ae\u03c2:\n",
      "print ''.join([a, ' ', b])\n",
      "print\n",
      "# \u0394\u03b9\u03b1\u03c6\u03bf\u03c1\u03b5\u03c4\u03b9\u03ba\u03ac, \u03b7 \u03c3\u03c5\u03bd\u03ad\u03bd\u03c9\u03c3\u03b7 \u03bc\u03c0\u03bf\u03c1\u03b5\u03af \u03bd\u03b1 \u03b3\u03af\u03bd\u03b5\u03b9 \u03c3\u03c4\u03b1 \u03c3\u03c4\u03bf\u03b9\u03c7\u03b5\u03af\u03b1 \u03bc\u03b9\u03b1\u03c2 \u03bb\u03af\u03c3\u03c4\u03b1\u03c2:\n",
      "words = ['H', 'Python', 'einai', 'mia', 'evkoli', 'glwssa']\n",
      "print ' '.join(words)\n",
      "print\n",
      "\n",
      "# \u0395\u03c0\u03b9\u03c0\u03bb\u03ad\u03bf\u03bd, \u03bc\u03b5 \u03c4\u03b7\u03bd \u03b2\u03b9\u03b2\u03bb\u03b9\u03bf\u03b8\u03ae\u03ba\u03b7 string, \u03b7 \u03c3\u03c5\u03bd\u03ad\u03bd\u03c9\u03c3\u03b7 \u03bc\u03c0\u03bf\u03c1\u03b5\u03af \u03bd\u03b1 \u03b3\u03af\u03bd\u03b5\u03b9 \u03c3\u03b5 \u03c0\u03bb\u03b5\u03b9\u03ac\u03b4\u03b5\u03c2 (tuples):\n",
      "import string\n",
      "print string.join((a, b))\n",
      "print\n",
      "# \u03a3\u03c4\u03b7\u03bd \u03c0\u03b5\u03c1\u03af\u03c0\u03c4\u03c9\u03c3\u03b7 \u03b1\u03c5\u03c4\u03ae \u03bc\u03c0\u03bf\u03c1\u03b5\u03af \u03bd\u03b1 \u03c4\u03bf\u03c0\u03bf\u03b8\u03b5\u03c4\u03b7\u03b8\u03b5\u03af \u03ba\u03ac\u03c0\u03bf\u03b9\u03bf \u03c3\u03cd\u03bc\u03b2\u03bf\u03bb\u03bf \u03b4\u03b9\u03b1\u03c7\u03c9\u03c1\u03b9\u03c3\u03bc\u03bf\u03cd \u03c9\u03c2 \u03c0\u03b1\u03c1\u03ac\u03bc\u03b5\u03c4\u03c1\u03bf\u03c2:\n",
      "print string.join((a, b), ':')"
     ],
     "language": "python",
     "metadata": {},
     "outputs": [
      {
       "output_type": "stream",
       "stream": "stdout",
       "text": [
        "H Python einai mia evkoli glwssa\n",
        "\n",
        "H Python einai mia evkoli glwssa\n",
        "\n",
        "H Python einai mia evkoli glwssa\n",
        "\n",
        "H Python einai mia evkoli glwssa\n",
        "\n",
        "H Python einai:mia evkoli glwssa\n"
       ]
      }
     ],
     "prompt_number": 23
    },
    {
     "cell_type": "heading",
     "level": 3,
     "metadata": {},
     "source": [
      "\u03a7\u03c9\u03c1\u03b9\u03c3\u03bc\u03cc\u03c2 \u03c3\u03c5\u03bc\u03b2\u03bf\u03bb\u03bf\u03c3\u03b5\u03b9\u03c1\u03ce\u03bd \u03bc\u03b5 \u03c4\u03bf split"
     ]
    },
    {
     "cell_type": "code",
     "collapsed": false,
     "input": [
      "s = 'H Python einai mia evkoli glwssa'\n",
      "print\n",
      "\n",
      "# \u038c\u03c0\u03c9\u03c2 \u03b5\u03af\u03b4\u03b1\u03bc\u03b5 \u03c4\u03bf s.split(' ') \u03c0\u03b1\u03c1\u03ac\u03b3\u03b5\u03b9 \u03c4\u03b7 \u03bb\u03af\u03c3\u03c4\u03b1 \u03c4\u03c9\u03bd \u03bb\u03ad\u03be\u03b5\u03c9\u03bd:\n",
      "print s.split(' ')\n",
      "print\n",
      "# \u0391\u03bd \u03c0\u03c1\u03bf\u03c3\u03c4\u03b5\u03b8\u03b5\u03af \u03ba\u03b1\u03b9 \u03bc\u03b9\u03b1 \u03c4\u03c1\u03af\u03c4\u03b7 \u03b1\u03c1\u03b9\u03b8\u03bc\u03b7\u03c4\u03b9\u03ba\u03ae \u03c0\u03b1\u03c1\u03ac\u03bc\u03b5\u03c4\u03c1\u03bf\u03c2 k, \u03c4\u03cc\u03c4\u03b5 \u03bf \u03b4\u03b9\u03b1\u03c7\u03c9\u03c1\u03b9\u03c3\u03bc\u03cc\u03c2 \u03b3\u03af\u03bd\u03b5\u03c4\u03b1\u03b9 \u03b3\u03b9\u03b1 k \u03bb\u03ad\u03be\u03b5\u03b9\u03c2 \u03b1\u03c0\u03cc \u03b1\u03c1\u03b9\u03c3\u03c4\u03b5\u03c1\u03ac:\n",
      "print s.split(' ', 4)\n",
      "print\n",
      "# \u0395\u03bd\u03ce \u03bc\u03b5 \u03c4\u03b7\u03bd rsplit \u03bf \u03b4\u03b9\u03b1\u03c7\u03c9\u03c1\u03b9\u03c3\u03bc\u03cc\u03c2 \u03b3\u03af\u03bd\u03b5\u03c4\u03b1\u03b9 \u03b1\u03c0\u03cc \u03b4\u03b5\u03be\u03b9\u03ac:\n",
      "print s.rsplit(' ', 3)"
     ],
     "language": "python",
     "metadata": {},
     "outputs": [
      {
       "output_type": "stream",
       "stream": "stdout",
       "text": [
        "\n",
        "['H', 'Python', 'einai', 'mia', 'evkoli', 'glwssa']\n",
        "\n",
        "['H', 'Python', 'einai', 'mia', 'evkoli glwssa']\n",
        "\n",
        "['H Python einai', 'mia', 'evkoli', 'glwssa']\n"
       ]
      }
     ],
     "prompt_number": 25
    },
    {
     "cell_type": "heading",
     "level": 3,
     "metadata": {},
     "source": [
      "\u0391\u03c0\u03bf\u03bc\u03ac\u03ba\u03c1\u03c5\u03bd\u03c3\u03b7 \u03b1\u03c1\u03c7\u03b9\u03ba\u03ce\u03bd \u03ae \u03c4\u03b5\u03bb\u03b9\u03ba\u03ce\u03bd \u03ba\u03b5\u03bd\u03ce\u03bd \u03bc\u03b5 \u03c4\u03bf strip"
     ]
    },
    {
     "cell_type": "code",
     "collapsed": false,
     "input": [
      "s = '      H Python einai mia evkoli glwssa   '\n",
      "print s\n",
      "print\n",
      "print s.strip()\n",
      "print\n",
      "s = s.strip()\n",
      "# \u03a0\u03b1\u03c1\u03cc\u03bc\u03bf\u03b9\u03b1, \u03bc\u03c0\u03bf\u03c1\u03bf\u03cd\u03bd \u03bd\u03b1 \u03b1\u03c0\u03bf\u03bc\u03b1\u03ba\u03c1\u03c5\u03bd\u03b8\u03bf\u03cd\u03bd \u03ba\u03b9 \u03ac\u03bb\u03bb\u03b1 \u03b3\u03c1\u03ac\u03bc\u03bc\u03b1\u03c4\u03b1 \u03b1\u03c0\u03cc \u03b1\u03c1\u03b9\u03c3\u03c4\u03b5\u03c1\u03ac\n",
      "print s.strip('H ')\n",
      "print\n",
      "# '\u0397 \u03b1\u03c0\u03cc \u03b4\u03b5\u03be\u03b9\u03ac \u03bc\u03ad\u03c3\u03c9 \u03c4\u03b7\u03c2 rstrip\n",
      "print s.rstrip('glwssa')"
     ],
     "language": "python",
     "metadata": {},
     "outputs": [
      {
       "output_type": "stream",
       "stream": "stdout",
       "text": [
        "      H Python einai mia evkoli glwssa   \n",
        "\n",
        "H Python einai mia evkoli glwssa\n",
        "\n",
        "Python einai mia evkoli glwssa\n",
        "\n",
        "H Python einai mia evkoli \n"
       ]
      }
     ],
     "prompt_number": 34
    },
    {
     "cell_type": "heading",
     "level": 3,
     "metadata": {},
     "source": [
      "\u0395\u03cd\u03c1\u03b5\u03c3\u03b7 \u03b4\u03b5\u03b9\u03ba\u03c4\u03ce\u03bd \u03c3\u03c5\u03bc\u03b2\u03bf\u03bb\u03bf\u03c3\u03b5\u03b9\u03c1\u03ac\u03c2 \u03bc\u03b5 \u03c4\u03bf find"
     ]
    },
    {
     "cell_type": "code",
     "collapsed": false,
     "input": [
      "s = 'H Python einai mia evkoli glwssa'\n",
      "print\n",
      "\n",
      "# \u03a4\u03bf find \u03b2\u03c1\u03af\u03c3\u03ba\u03b5\u03b9 \u03c4\u03bf\u03bd \u03b4\u03b5\u03af\u03ba\u03c4\u03b7 \u03c4\u03bf\u03c5 \u03c3\u03c5\u03bc\u03b2\u03cc\u03bb\u03bf\u03c5, \u03cc\u03c0\u03bf\u03c5 \u03b5\u03bc\u03c6\u03b1\u03bd\u03af\u03b6\u03b5\u03c4\u03b1\u03b9 \u03b3\u03b9\u03b1 \u03c0\u03c1\u03ce\u03c4\u03b7 \u03c6\u03bf\u03c1\u03ac \u03c4\u03bf \u03c3\u03cd\u03bc\u03b2\u03bf\u03bb\u03bf \u03b1\u03c5\u03c4\u03cc:\n",
      "print s.find('i')\n",
      "print\n",
      "# \u0391\u03bd \u03c4\u03bf \u03c3\u03cd\u03bc\u03b2\u03bf\u03bb\u03bf \u03b4\u03b5\u03bd \u03c5\u03c0\u03ac\u03c1\u03c7\u03b5\u03b9, \u03c4\u03bf find \u03b5\u03c0\u03b9\u03c3\u03c4\u03c1\u03ad\u03c6\u03b5\u03b9 -1:\n",
      "print s.find('z')\n",
      "print\n",
      "# \u03a4\u03bf rfind \u03ba\u03ac\u03bd\u03b5\u03b9 \u03c4\u03bf \u03af\u03b4\u03b9\u03bf \u03c0\u03c1\u03ac\u03b3\u03bc\u03b1 \u03b1\u03bb\u03bb\u03ac \u03b1\u03c0\u03cc \u03b4\u03b5\u03be\u03b9\u03ac:\n",
      "print s.rfind('i')\n",
      "print\n",
      "\n",
      "# \u03a3\u03c5\u03c7\u03bd\u03ac \u03c4\u03bf find \u03c7\u03c1\u03b7\u03c3\u03b9\u03bc\u03bf\u03c0\u03bf\u03b9\u03b5\u03af\u03c4\u03b1\u03b9 \u03c3\u03b5 \u03b2\u03c1\u03cc\u03c7\u03bf\u03c5\u03c2 \u03c9\u03c2 \u03b5\u03be\u03ae\u03c2:\n",
      "fruits = ['banana', 'apple', 'cherry', 'orange']\n",
      "afruits = []\n",
      "for fruit in fruits:\n",
      "    if fruit.find('a') >= 0:\n",
      "        afruits.append(fruit)\n",
      "print afruits"
     ],
     "language": "python",
     "metadata": {},
     "outputs": [
      {
       "output_type": "stream",
       "stream": "stdout",
       "text": [
        "\n",
        "10\n",
        "\n",
        "-1\n",
        "\n",
        "24\n",
        "\n",
        "['banana', 'apple', 'orange']\n"
       ]
      }
     ],
     "prompt_number": 39
    },
    {
     "cell_type": "heading",
     "level": 3,
     "metadata": {},
     "source": [
      "\u0391\u03c0\u03b1\u03c1\u03af\u03b8\u03bc\u03b7\u03c3\u03b7 \u03bc\u03b5 \u03c4\u03bf count"
     ]
    },
    {
     "cell_type": "code",
     "collapsed": false,
     "input": [
      "s = 'H Python einai mia evkoli glwssa'\n",
      "print\n",
      "\n",
      "# \u03a4\u03bf count \u03b1\u03c0\u03b1\u03c1\u03b9\u03b8\u03bc\u03b5\u03af \u03c0\u03cc\u03c3\u03b5\u03c2 \u03c6\u03bf\u03c1\u03ad\u03c2 \u03b5\u03bc\u03c0\u03b1\u03bd\u03af\u03b6\u03b5\u03c4\u03b1\u03b9 \u03bc\u03b9\u03b1 \u03c5\u03c0\u03bf\u03c3\u03c5\u03bc\u03b2\u03bf\u03bb\u03bf\u03c3\u03b5\u03b9\u03c1\u03ac \u03c3\u03b5 \u03bc\u03b9\u03b1 \u03c3\u03c5\u03bc\u03b2\u03bf\u03bb\u03bf\u03c3\u03b5\u03b9\u03c1\u03ac:\n",
      "print s.count('i')\n",
      "print s.count('z')\n",
      "print\n",
      "# \u0397 \u03b1\u03c0\u03b1\u03c1\u03af\u03b8\u03bc\u03b7\u03c3\u03b7 \u03bc\u03c0\u03bf\u03c1\u03b5\u03af \u03bd\u03b1 \u03c0\u03b5\u03c1\u03b9\u03bf\u03c1\u03b9\u03c3\u03b8\u03b5\u03af \u03c3\u03b5 \u03c3\u03c5\u03b3\u03ba\u03b5\u03ba\u03c1\u03b9\u03bc\u03ad\u03bd\u03bf \u03b5\u03cd\u03c1\u03bf\u03c2 \u03b4\u03b5\u03b9\u03ba\u03c4\u03ce\u03bd \u03c3\u03c5\u03bc\u03b2\u03cc\u03bb\u03c9\u03bd \u03c4\u03b7\u03c2 \u03c3\u03c5\u03bc\u03b2\u03bf\u03bb\u03bf\u03c3\u03b5\u03b9\u03c1\u03ac\u03c2:\n",
      "print s.count('i', 15, 25)"
     ],
     "language": "python",
     "metadata": {},
     "outputs": [
      {
       "output_type": "stream",
       "stream": "stdout",
       "text": [
        "\n",
        "4\n",
        "0\n",
        "\n",
        "2\n"
       ]
      }
     ],
     "prompt_number": 40
    },
    {
     "cell_type": "heading",
     "level": 3,
     "metadata": {},
     "source": [
      "\u039c\u03b5\u03c4\u03b1\u03c4\u03c1\u03bf\u03c0\u03ae \u03c3\u03b5 \u03bc\u03b9\u03ba\u03c1\u03ac \u03ae \u03ba\u03b5\u03c6\u03b1\u03bb\u03b1\u03af\u03b1 \u03b3\u03c1\u03ac\u03bc\u03bc\u03b1\u03c4\u03b1 \u03bc\u03b5 \u03c4\u03b1 lower \u03ba\u03b1\u03b9 upper"
     ]
    },
    {
     "cell_type": "code",
     "collapsed": false,
     "input": [
      "s = 'H Python einai mia evkoli glwssa'\n",
      "print s.lower()\n",
      "print s.upper()"
     ],
     "language": "python",
     "metadata": {},
     "outputs": [
      {
       "output_type": "stream",
       "stream": "stdout",
       "text": [
        "h python einai mia evkoli glwssa\n",
        "H PYTHON EINAI MIA EVKOLI GLWSSA\n"
       ]
      }
     ],
     "prompt_number": 44
    },
    {
     "cell_type": "heading",
     "level": 3,
     "metadata": {},
     "source": [
      "\u03a3\u03c4\u03bf\u03af\u03c7\u03b9\u03c3\u03b7 \u03c3\u03c5\u03bc\u03b2\u03bf\u03bb\u03bf\u03c3\u03b5\u03b9\u03c1\u03ac\u03c2 \u03bc\u03b5 \u03c4\u03b1 ljust, rjust \u03ba\u03b1\u03b9 center"
     ]
    },
    {
     "cell_type": "code",
     "collapsed": false,
     "input": [
      "s = 'H Python einai mia evkoli glwssa'\n",
      "print s.ljust(40)\n",
      "print s.rjust(40)\n",
      "print s.center(40)"
     ],
     "language": "python",
     "metadata": {},
     "outputs": [
      {
       "output_type": "stream",
       "stream": "stdout",
       "text": [
        "H Python einai mia evkoli glwssa        \n",
        "        H Python einai mia evkoli glwssa\n",
        "    H Python einai mia evkoli glwssa    \n"
       ]
      }
     ],
     "prompt_number": 45
    },
    {
     "cell_type": "heading",
     "level": 3,
     "metadata": {},
     "source": [
      "\u0391\u03bd\u03c4\u03b9\u03ba\u03b1\u03c4\u03b1\u03c3\u03c4\u03ac\u03c3\u03b5\u03b9\u03c2 \u03c5\u03c0\u03bf\u03c3\u03c5\u03bc\u03b2\u03bf\u03bb\u03bf\u03c3\u03b5\u03b9\u03c1\u03ac\u03c2 \u03bc\u03b5 \u03c4\u03bf replace"
     ]
    },
    {
     "cell_type": "code",
     "collapsed": false,
     "input": [
      "s = 'H Python einai mia evkoli glwssa'\n",
      "print s.replace('P', 'An')\n",
      "print s.replace('mi', 'L')\n",
      "# \u0391\u03bd\u03c4\u03b9\u03ba\u03b1\u03c4\u03b1\u03c3\u03c4\u03ac\u03c3\u03b5\u03b9\u03c2 \u03bc\u03cc\u03bd\u03bf \u03b3\u03b9\u03b1 \u03c4\u03b9\u03c2 \u03c0\u03c1\u03ce\u03c4\u03b5\u03c2 k \u03b5\u03bc\u03c6\u03b1\u03bd\u03af\u03c3\u03b5\u03b9\u03c2 (\u03cc\u03c0\u03bf\u03c5 k \u03c0\u03b1\u03c1\u03ac\u03bc\u03b5\u03c4\u03c1\u03bf\u03c2):\n",
      "print s.replace('i', 'o', 3)"
     ],
     "language": "python",
     "metadata": {},
     "outputs": [
      {
       "output_type": "stream",
       "stream": "stdout",
       "text": [
        "H Anython einai mia evkoli glwssa\n",
        "H Python einai La evkoli glwssa\n",
        "H Python eonao moa evkoli glwssa\n"
       ]
      }
     ],
     "prompt_number": 47
    },
    {
     "cell_type": "heading",
     "level": 3,
     "metadata": {},
     "source": [
      "\u0395\u03be\u03b1\u03ba\u03c1\u03af\u03b2\u03c9\u03c3\u03b7 \u03c3\u03c5\u03bc\u03b2\u03cc\u03bb\u03bf\u03c5/\u03c9\u03bd \u03ad\u03bd\u03b1\u03c1\u03be\u03b7\u03c2 \u03ae \u03c4\u03b5\u03c1\u03bc\u03b1\u03c4\u03b9\u03c3\u03bc\u03bf\u03cd \u03c3\u03c5\u03bc\u03b2\u03bf\u03bb\u03bf\u03c3\u03b5\u03b9\u03c1\u03ac\u03c2 \u03bc\u03b5 \u03c4\u03b1 startswith \u03ba\u03b1\u03b9 endswith"
     ]
    },
    {
     "cell_type": "code",
     "collapsed": false,
     "input": [
      "s = 'H Python einai mia evkoli glwssa'\n",
      "print s.startswith('H')\n",
      "print s.startswith('e')\n",
      "print s.endswith('ssa')\n",
      "print s.endswith('b')"
     ],
     "language": "python",
     "metadata": {},
     "outputs": [
      {
       "output_type": "stream",
       "stream": "stdout",
       "text": [
        "True\n",
        "False\n",
        "True\n",
        "False\n"
       ]
      }
     ],
     "prompt_number": 49
    },
    {
     "cell_type": "heading",
     "level": 3,
     "metadata": {},
     "source": [
      "\u0395\u03be\u03b1\u03ba\u03c1\u03af\u03b2\u03c9\u03c3\u03b7 \u03b1\u03bd \u03c4\u03b1 \u03c3\u03cd\u03bc\u03b2\u03bf\u03bb\u03b1 \u03bc\u03b9\u03b1\u03c2 \u03c3\u03c5\u03bc\u03b2\u03bf\u03bb\u03bf\u03c3\u03b5\u03b9\u03c1\u03ac\u03c2 \u03b5\u03af\u03bd\u03b1\u03b9 \u03bc\u03cc\u03bd\u03bf \u03b3\u03c1\u03ac\u03bc\u03bc\u03b1\u03c4\u03b1 \u03bc\u03b5 \u03c4\u03bf isalpha"
     ]
    },
    {
     "cell_type": "code",
     "collapsed": false,
     "input": [
      "s = 'H Python einai mia evkoli glwssa'\n",
      "print s\n",
      "print s.isalpha()\n",
      "s = s.replace(' ', '')\n",
      "print s\n",
      "print s.isalpha()\n",
      "t = s.replace('glwssa', 'glwssa!')\n",
      "print t\n",
      "print t.isalpha()"
     ],
     "language": "python",
     "metadata": {},
     "outputs": [
      {
       "output_type": "stream",
       "stream": "stdout",
       "text": [
        "H Python einai mia evkoli glwssa\n",
        "False\n",
        "HPythoneinaimiaevkoliglwssa\n",
        "True\n",
        "HPythoneinaimiaevkoliglwssa!\n",
        "False\n"
       ]
      }
     ],
     "prompt_number": 52
    },
    {
     "cell_type": "heading",
     "level": 2,
     "metadata": {},
     "source": [
      "\u03a7\u03b5\u03b9\u03c1\u03b9\u03c3\u03bc\u03cc\u03c2 \u039a\u03b5\u03b9\u03bc\u03ad\u03bd\u03bf\u03c5"
     ]
    },
    {
     "cell_type": "heading",
     "level": 3,
     "metadata": {},
     "source": [
      "\u0395\u03b9\u03c3\u03b1\u03b3\u03c9\u03b3\u03ae-\u03b4\u03b9\u03ac\u03b2\u03b1\u03c3\u03bc\u03b1 \u03ba\u03b5\u03b9\u03bc\u03ad\u03bd\u03bf\u03c5 \u03b1\u03c0\u03cc \u03b1\u03c1\u03c7\u03b5\u03af\u03bf"
     ]
    },
    {
     "cell_type": "code",
     "collapsed": false,
     "input": [
      "fileName = 'test1.txt'\n",
      "f=open(fileName,'r')\n",
      "text=f.read()\n",
      "print text"
     ],
     "language": "python",
     "metadata": {},
     "outputs": [
      {
       "output_type": "stream",
       "stream": "stdout",
       "text": [
        "Second Life is an online virtual world, developed by San Francisco-based Linden Lab and launched on June 23, 2003; and which in 2014 had about 1 million regular users, according to Linden Lab, who owns Second Life. In many ways, Second Life is similar to MMORPGs (Massively Multiplayer Online Role Playing Games); however, Linden Lab is emphatic that their creation is not a game: \"There is no manufactured conflict, no set objective\".\n",
        "\n",
        "The virtual world can be accessed freely via Linden Lab's own client programs, or via alternative Third Party Viewers. Second Life users (also called Residents) create virtual representations of themselves, called avatars and are able to interact with other avatars, places or objects. They can explore the world (known as the grid), meet other residents, socialize, participate in individual and group activities, build, create, shop and trade virtual property and services with one another! It is a platform that principally features 3D-based user-generated content. Second Life also has its own virtual currency, the Linden Dollar, which is exchangeable with real world currency. Second Life is intended for people aged 16 and over, with the exception of 13\u201315-year-old users restricted to the Second Life region of a sponsoring institution (e.g. school).\n",
        "\n",
        "Built into the software is a three-dimensional modeling tool based on simple geometric shapes that allows residents to build virtual objects. There is also a procedural scripting language, Linden Scripting Language, which can be used to add interactivity to objects. Sculpted prims (sculpties), mesh, textures for clothing or other objects, animations, and gestures can be created using external software and imported. The Second Life terms of service provide that users retain copyright for any content they create, and the server and client provide simple digital rights management (DRM) functions. However, Linden Lab changed their terms of service in August 2013, to be able to use user-generated content for any purpose. The new terms of service prevents users from using textures from 3rd-party texture services, as some of them pointed out explicitly. Users can also photograph in Second Life with the camera technology the client programs have!\n",
        "\n",
        "\"If Second Life isn't a game, what is it? - Technology & science - Games - On the Level\". NBC News. 2007-12-03. Retrieved 2014-08-01. \"UPDATED Was Cory Linden fired, or did he quit?\". Massively. December 13, 2007. Retrieved February 19, 2010.\n"
       ]
      }
     ],
     "prompt_number": 55
    },
    {
     "cell_type": "heading",
     "level": 2,
     "metadata": {},
     "source": [
      "\u0395\u03bb\u03bb\u03b7\u03bd\u03b9\u03ba\u03cc \u03ba\u03b5\u03af\u03bc\u03b5\u03bd\u03bf"
     ]
    },
    {
     "cell_type": "code",
     "collapsed": false,
     "input": [
      "# -*- coding: utf-8 -*-\n",
      "\n",
      "fileName = 'test5greek.txt'\n",
      "f=open(fileName,'r')\n",
      "text=f.read()\n",
      "print text"
     ],
     "language": "python",
     "metadata": {},
     "outputs": [
      {
       "output_type": "stream",
       "stream": "stdout",
       "text": [
        "\u0391\u03b3\u03bd\u03c9\u03c3\u03c4\u03bf\u03c2 \u03b1\u03c1\u03b9\u03b8\u03bc\u03cc\u03c2 \u03ba\u03c1\u03b1\u03c4\u03bf\u03c5\u03bc\u03ad\u03bd\u03c9\u03bd \u03ba\u03b1\u03b9 \u03b1\u03c0\u03cc \u03c4\u03b9\u03c2 \u03c0\u03ad\u03bd\u03c4\u03b5 \u03c0\u03c4\u03ad\u03c1\u03c5\u03b3\u03b5\u03c2 \u03c4\u03c9\u03bd \u03c6\u03c5\u03bb\u03b1\u03ba\u03ce\u03bd \u039a\u03bf\u03c1\u03c5\u03b4\u03b1\u03bb\u03bf\u03cd \u03b1\u03c1\u03bd\u03bf\u03cd\u03bd\u03c4\u03b1\u03b9 \u03bd\u03b1 \u03bc\u03c0\u03bf\u03c5\u03bd \u03c3\u03c4\u03b1 \u03ba\u03b5\u03bb\u03b9\u03ac \u03c4\u03bf\u03c5\u03c2 \u03c4\u03bf \u03b2\u03c1\u03ac\u03b4\u03c5 \u03c4\u03bf\u03c5 \u03a3\u03b1\u03b2\u03b2\u03ac\u03c4\u03bf\u03c5 \u03b6\u03b7\u03c4\u03ce\u03bd\u03c4\u03b1\u03c2, \u03bc\u03b5 \u03bc\u03b7\u03bd\u03c5\u03bc\u03ac \u03c4\u03bf\u03c5\u03c2 \u03c3\u03c4\u03bf Indymedia, \u03c4\u03b7\u03bd \u03b1\u03c0\u03bf\u03c6\u03c5\u03bb\u03ac\u03ba\u03b9\u03c3\u03b7 \u03c4\u03b7\u03c2 \u03bc\u03b7\u03c4\u03ad\u03c1\u03b1\u03c2 \u03c4\u03c9\u03bd \u03b1\u03b4\u03b5\u03bb\u03c6\u03ce\u03bd \u03a4\u03c3\u03ac\u03ba\u03b1\u03bb\u03bf\u03c5, \u0391\u03b8\u03b7\u03bd\u03ac\u03c2, \u03ba\u03b1\u03b9 \u03c4\u03b7\u03c2 \u03c3\u03c5\u03bd\u03c4\u03c1\u03cc\u03c6\u03bf\u03c5 \u03c4\u03bf\u03c5\u03c2 \u03b5\u03bd\u03cc\u03c2 \u03b5\u03ba \u03c4\u03c9\u03bd \u03b4\u03cd\u03bf.\n",
        "\n",
        "\u0397 \u0391\u03b8\u03b7\u03bd\u03ac \u03a4\u03c3\u03ac\u03ba\u03b1\u03bb\u03bf\u03c5 \u03b5\u03af\u03c7\u03b5 \u03c3\u03c5\u03bb\u03bb\u03b7\u03c6\u03b8\u03b5\u03af \u03c0\u03c1\u03b9\u03bd \u03b1\u03c0\u03cc 20 \u03b7\u03bc\u03ad\u03c1\u03b5\u03c2 \u03ba\u03b1\u03b9 \u03ae\u03b4\u03b7 \u03bf \u03b5\u03b9\u03c3\u03b1\u03b3\u03b3\u03b5\u03bb\u03ad\u03b1\u03c2 \u0394\u03b7\u03bc\u03ae\u03c4\u03c1\u03b7\u03c2 \u0391\u03c3\u03c0\u03c1\u03bf\u03b3\u03ad\u03c1\u03b1\u03ba\u03b1\u03c2 \u03ad\u03c7\u03b5\u03b9 \u03c0\u03c1\u03bf\u03c4\u03b5\u03af\u03bd\u03b5\u03b9 \u03c4\u03b7\u03bd \u03b1\u03c0\u03bf\u03c6\u03c5\u03bb\u03ac\u03ba\u03b9\u03c3\u03ae \u03c4\u03b7\u03c2.\n",
        "\n",
        "\u03a3\u03cd\u03bc\u03c6\u03c9\u03bd\u03b1 \u03bc\u03b5 \u03c4\u03b9\u03c2 \u03c0\u03c1\u03ce\u03c4\u03b5\u03c2 \u03c0\u03bb\u03b7\u03c1\u03bf\u03c6\u03bf\u03c1\u03af\u03b5\u03c2, \u03b7 \u03ba\u03b1\u03c4\u03ac\u03c3\u03c4\u03b1\u03c3\u03b7 \u03c3\u03c4\u03b9\u03c2 \u03c6\u03c5\u03bb\u03b1\u03ba\u03ad\u03c2 \u03b5\u03af\u03bd\u03b1\u03b9 \u03b5\u03bb\u03b5\u03b3\u03c7\u03cc\u03bc\u03b5\u03bd\u03b7 \u03ba\u03b1\u03b9 \u03bc\u03ad\u03c7\u03c1\u03b9 \u03c3\u03c4\u03b9\u03b3\u03bc\u03ae\u03c2 \u03b4\u03b5\u03bd \u03ad\u03c7\u03b5\u03b9 \u03b6\u03b7\u03c4\u03b7\u03b8\u03b5\u03af \u03b7 \u03c3\u03c5\u03bd\u03b4\u03c1\u03bf\u03bc\u03ae \u03c4\u03b7\u03c2 \u03b1\u03c3\u03c4\u03c5\u03bd\u03bf\u03bc\u03af\u03b1\u03c2.\n",
        "\n",
        "\u03a3\u03c4\u03b7\u03bd \u03b1\u03bd\u03b1\u03ba\u03bf\u03af\u03bd\u03c9\u03c3\u03ae \u03c4\u03bf\u03c5\u03c2 \u03bf\u03b9 \u03ba\u03c1\u03b1\u03c4\u03bf\u03cd\u03bc\u03b5\u03bd\u03bf\u03b9 \u03c0\u03bf\u03c5 \u03b1\u03c1\u03bd\u03bf\u03cd\u03bd\u03c4\u03b1\u03b9 \u03bd\u03b1 \u03bc\u03c0\u03bf\u03c5\u03bd \u03c3\u03c4\u03b1 \u03ba\u03b5\u03bb\u03b9\u03ac \u03c4\u03bf\u03c5\u03c2 \u03b1\u03bd\u03b1\u03c6\u03ad\u03c1\u03bf\u03c5\u03bd:\n",
        "\n",
        "\u00ab\u0397 \u03c5\u03c0\u03bf\u03bc\u03bf\u03bd\u03ae \u03bc\u03b1\u03c2 \u03b5\u03be\u03b1\u03bd\u03c4\u03bb\u03ae\u03b8\u03b7\u03ba\u03b5, \u03c3\u03c4\u03bf \u03c0\u03c1\u03cc\u03c3\u03c9\u03c0\u03bf \u03c4\u03b7\u03c2 \u03c3\u03c5\u03b3\u03ba\u03b5\u03ba\u03c1\u03b9\u03bc\u03ad\u03bd\u03b7\u03c2 \u03bc\u03ac\u03bd\u03b1\u03c2 \u03b2\u03bb\u03ad\u03c0\u03bf\u03c5\u03bc\u03b5 \u03c4\u03b7 \u03b4\u03af\u03ba\u03b7 \u03bc\u03b1\u03c2 \u03bc\u03ac\u03bd\u03b1 \u03ba\u03b1\u03b9 \u03c3\u03c4\u03bf \u03c0\u03c1\u03cc\u03c3\u03c9\u03c0\u03bf \u03c4\u03b7\u03c2 \u03c3\u03c5\u03b6\u03cd\u03b3\u03bf\u03c5 \u03b2\u03bb\u03ad\u03c0\u03bf\u03c5\u03bc\u03b5 \u03c4\u03b7 \u03b4\u03b9\u03ba\u03ae \u03bc\u03b1\u03c2 \u03c3\u03cd\u03b6\u03c5\u03b3\u03bf. \u0391\u03c0\u03cc \u03c3\u03ae\u03bc\u03b5\u03c1\u03b1 \u03a3\u03ac\u03b2\u03b2\u03b1\u03c4\u03bf 28/03 \u03b1\u03c1\u03bd\u03bf\u03cd\u03bc\u03b1\u03c3\u03c4\u03b5 \u03bd\u03b1 \u03bc\u03c0\u03bf\u03cd\u03bc\u03b5 \u03c3\u03c4\u03b1 \u03ba\u03b5\u03bb\u03b9\u03ac \u03bc\u03b1\u03c2 \u03c4\u03bf \u03b2\u03c1\u03ac\u03b4\u03c5 \u03ba\u03b1\u03b9 \u03bf \u03ba\u03b1\u03b8\u03ad\u03bd\u03b1\u03c2 \u03b1\u03c2 \u03b1\u03bd\u03b1\u03bb\u03ac\u03b2\u03b5\u03b9 \u03c4\u03b9\u03c2 \u03b5\u03c5\u03b8\u03cd\u03bd\u03b5\u03c2 \u03c4\u03bf\u03c5. \u038c\u03c3\u03bf\u03b9 \u03c0\u03b1\u03af\u03b6\u03bf\u03c5\u03bd \u03c0\u03b1\u03b9\u03c7\u03bd\u03af\u03b4\u03b9\u03b1 \u03bc\u03b5 \u03c4\u03b7 \u03c6\u03c9\u03c4\u03b9\u03ac \u03b8\u03b1 \u03c4\u03b1 \u03b2\u03c1\u03bf\u03c5\u03bd \u03bc\u03c0\u03c1\u03bf\u03c3\u03c4\u03ac \u03c4\u03bf\u03c5\u03c2 \u03ba\u03b1\u03b9 \u03c4\u03bf \u03b4\u03af\u03ba\u03b9\u03bf \u03b8\u03b1 \u03b5\u03af\u03bd\u03b1\u03b9 \u03bc\u03b5 \u03c4\u03bf \u03bc\u03ad\u03c1\u03bf\u03c2 \u03bc\u03b1\u03c2. \u0391\u03bd \u03c0\u03ac\u03b8\u03b5\u03b9 \u03ba\u03ac\u03c4\u03b9 \u03ba\u03ac\u03c0\u03bf\u03b9\u03bf\u03c2 \u03b1\u03c0\u03b5\u03c1\u03b3\u03cc\u03c2 \u03c0\u03b5\u03af\u03bd\u03b1\u03c2, \u03bf\u03b9 \u03c5\u03c0\u03b5\u03cd\u03b8\u03c5\u03bd\u03bf\u03b9 \u03b8\u03b1 \u03bb\u03bf\u03b3\u03bf\u03b4\u03bf\u03c4\u03ae\u03c3\u03bf\u03c5\u03bd.\n",
        "\n",
        "\u00bb \u0395\u03bc\u03b5\u03af\u03c2 \u03bf\u03b9 \u03ba\u03c1\u03b1\u03c4\u03bf\u03cd\u03bc\u03b5\u03bd\u03bf\u03b9 \u03c4\u03c9\u03bd \u03c6\u03c5\u03bb\u03b1\u03ba\u03ce\u03bd \u039a\u03bf\u03c1\u03cd\u03b4\u03b1\u03bb\u03bb\u03bf\u03c5 \u03b1\u03c0\u03bf\u03c6\u03b1\u03c3\u03af\u03c3\u03b1\u03bc\u03b5 \u03bd\u03b1 \u03ba\u03bb\u03b9\u03bc\u03b1\u03ba\u03ce\u03c3\u03bf\u03c5\u03bc\u03b5 \u03c4\u03b9\u03c2 \u03b1\u03bd\u03c4\u03b9\u03b4\u03c1\u03ac\u03c3\u03b5\u03b9\u03c2 \u03bc\u03b1\u03c2 \u03bc\u03c0\u03c1\u03bf\u03c3\u03c4\u03ac \u03c3\u03c4\u03bf\u03bd \u03c0\u03b1\u03c1\u03b1\u03bb\u03bf\u03b3\u03b9\u03c3\u03bc\u03cc \u03ba\u03b1\u03b9 \u03c4\u03b7\u03bd \u03b1\u03b4\u03b9\u03ba\u03af\u03b1 \u03c0\u03bf\u03c5 \u03b5\u03be\u03b5\u03bb\u03af\u03c3\u03c3\u03b5\u03c4\u03b1\u03b9 \u03bc\u03c0\u03c1\u03bf\u03c3\u03c4\u03ac \u03c3\u03c4\u03b1 \u03bc\u03ac\u03c4\u03b9\u03b1 \u03bc\u03b1\u03c2.\n",
        "\u00bb \u0395\u03b4\u03ce \u03ba\u03b1\u03b9 \u03c3\u03c7\u03b5\u03b4\u03cc\u03bd \u03ad\u03bd\u03b1 \u03bc\u03ae\u03bd\u03b1 \u03c4\u03bf \u03b4\u03b9\u03ba\u03b1\u03c3\u03c4\u03b9\u03ba\u03cc \u03c3\u03c5\u03bc\u03b2\u03bf\u03cd\u03bb\u03b9\u03bf \u03c0\u03bf\u03c5 \u03b5\u03be\u03b5\u03c4\u03ac\u03b6\u03b5\u03b9 \u03c4\u03b7\u03bd \u03b1\u03c0\u03bf\u03c6\u03c5\u03bb\u03ac\u03ba\u03b9\u03c3\u03b7 \u03bc\u03b9\u03b1\u03c2 60\u03c7\u03c1\u03bf\u03bd\u03b7\u03c2 \u03bc\u03ac\u03bd\u03b1\u03c2 \u03ba\u03b1\u03b9 \u03c4\u03b7\u03c2 \u03b3\u03c5\u03bd\u03b1\u03af\u03ba\u03b1\u03c2 \u03c4\u03bf\u03c5 \u03c3\u03c5\u03b3\u03ba\u03c1\u03b1\u03c4\u03bf\u03cd\u03bc\u03b5\u03bd\u03bf\u03cd \u03bc\u03b1\u03c2 \u0393. \u03a4\u03c3\u03ac\u03ba\u03b1\u03bb\u03bf\u03c5 \u03b5\u03c0\u03b9\u03b4\u03b5\u03b9\u03ba\u03c4\u03b9\u03ba\u03ac \u03ba\u03c9\u03c6\u03b5\u03cd\u03b5\u03b9 \u03c0\u03b1\u03af\u03b6\u03bf\u03bd\u03c4\u03b1\u03c2 \u03bc\u03b5 \u03c4\u03b7 \u03b6\u03c9\u03ae \u03ba\u03b1\u03b9 \u03c4\u03b7\u03bd \u03c5\u03b3\u03b5\u03af\u03b1 \u03c4\u03c9\u03bd \u03b1\u03c0\u03b5\u03c1\u03b3\u03ce\u03bd \u03c0\u03b5\u03af\u03bd\u03b1\u03c2 \u03ba\u03b1\u03b9 \u03c4\u03b7\u03bd \u03af\u03b4\u03b9\u03b1 \u03c4\u03b1\u03ba\u03c4\u03b9\u03ba\u03ae \u03b1\u03ba\u03bf\u03bb\u03bf\u03c5\u03b8\u03b5\u03af \u03ba\u03b1\u03b9 \u03c4\u03bf \u03a5\u03c0. \u0394\u03b9\u03ba\u03b1\u03b9\u03bf\u03c3\u03cd\u03bd\u03b7\u03c2 \u03c0\u03bf\u03c5 \u03c0\u03b1\u03c1\u03b1\u03c4\u03b5\u03af\u03bd\u03b5\u03b9 \u03c4\u03b7\u03bd \u03c8\u03ae\u03c6\u03b9\u03c3\u03b7 \u03c4\u03bf\u03c5 \u03bd\u03bf\u03bc\u03bf\u03c3\u03c7\u03b5\u03b4\u03af\u03bf\u03c5 \u03b5\u03be\u03b1\u03bd\u03c4\u03bb\u03ce\u03bd\u03c4\u03b1\u03c2 \u03c4\u03bf\u03c5\u03c2 \u03c3\u03c5\u03b3\u03ba\u03c1\u03b1\u03c4\u03bf\u03cd\u03bc\u03b5\u03bd\u03bf\u03c5\u03c2 \u03b1\u03c0\u03b5\u03c1\u03b3\u03bf\u03cd\u03c2 \u03c0\u03b5\u03af\u03bd\u03b1\u03c2, \u03c4\u03b1 \u03b1\u03b9\u03c4\u03ae\u03bc\u03b1\u03c4\u03b1 \u03c4\u03c9\u03bd \u03bf\u03c0\u03bf\u03af\u03c9\u03bd \u03b1\u03c6\u03bf\u03c1\u03bf\u03cd\u03bd \u03cc\u03bb\u03bf\u03c5\u03c2 \u03c4\u03bf\u03c5\u03c2 \u03ba\u03c1\u03b1\u03c4\u03bf\u03cd\u03bc\u03b5\u03bd\u03bf\u03c5\u03c2 \u03ba\u03b1\u03b9 \u03c0\u03c1\u03ad\u03c0\u03b5\u03b9 \u03bd\u03b1 \u03b4\u03b9\u03ba\u03b1\u03b9\u03c9\u03b8\u03bf\u03cd\u03bd.\n",
        "\n",
        "\u00bb \u0395\u03b4\u03ce \u03b4\u03b5\u03bd \u03c4\u03af\u03b8\u03b5\u03c4\u03b1\u03b9 \u03b8\u03ad\u03bc\u03b1 \u03c3\u03c5\u03bc\u03c0\u03b1\u03c1\u03ac\u03c3\u03c4\u03b1\u03c3\u03b7\u03c2, \u03b5\u03b4\u03ce \u03c4\u03bf \u03c0\u03c1\u03cc\u03b2\u03bb\u03b7\u03bc\u03b1 \u03b5\u03af\u03bd\u03b1\u03b9 \u03cc\u03bb\u03c9\u03bd \u03c4\u03c9\u03bd \u03ba\u03c1\u03b1\u03c4\u03bf\u03c5\u03bc\u03ad\u03bd\u03c9\u03bd \u03c0\u03bf\u03c5 \u03ad\u03c7\u03bf\u03c5\u03bd \u03bc\u03b9\u03b1 \u03b3\u03c5\u03bd\u03b1\u03af\u03ba\u03b1 \u03ba\u03b1\u03b9 \u03bc\u03b9\u03b1 \u03bc\u03ac\u03bd\u03b1 \u03bd\u03b1 \u03c4\u03bf\u03c5\u03c2 \u03b5\u03c0\u03b9\u03c3\u03ba\u03ad\u03c0\u03c4\u03b5\u03c4\u03b1\u03b9 \u03c3\u03c4\u03b7 \u03c6\u03c5\u03bb\u03b1\u03ba\u03ae.\n",
        "\n",
        "\u00bb \u0395\u03af\u03bd\u03b1\u03b9 \u03c6\u03b1\u03c3\u03b9\u03c3\u03c4\u03b9\u03ba\u03cc \u03ba\u03b1\u03b9 \u03b1\u03bd\u03ad\u03bd\u03c4\u03b9\u03bc\u03bf \u03b7 \u03b1\u03c3\u03c4\u03c5\u03bd\u03bf\u03bc\u03af\u03b1 \u03ba\u03b1\u03b9 \u03bf\u03b9 \u03b4\u03b9\u03ba\u03b1\u03c3\u03c4\u03ad\u03c2 \u03bd\u03b1 \u03b5\u03ba\u03b4\u03b9\u03ba\u03bf\u03cd\u03bd\u03c4\u03b1\u03b9 \u03c4\u03bf\u03c5\u03c2 \u03c3\u03c5\u03b3\u03b3\u03b5\u03bd\u03b5\u03af\u03c2 \u03c4\u03c9\u03bd \u03ba\u03c1\u03b1\u03c4\u03bf\u03c5\u03bc\u03ad\u03bd\u03c9\u03bd \u03b5\u03c0\u03b5\u03b9\u03b4\u03ae \u03ad\u03c7\u03bf\u03c5\u03bd \u03c0\u03c1\u03cc\u03b2\u03bb\u03b7\u03bc\u03b1 \u03bc\u03b1\u03b6\u03af \u03c4\u03bf\u03c5\u03c2.\n",
        "\n",
        "\u00bb \u0394\u03b5 \u03b8\u03b1 \u03b1\u03bd\u03b5\u03c7\u03c4\u03bf\u03cd\u03bc\u03b5 \u03bd\u03b1 \u03c0\u03bb\u03b7\u03c1\u03ce\u03bd\u03bf\u03c5\u03bd \u03bf\u03b9 \u03bf\u03b9\u03ba\u03bf\u03b3\u03ad\u03bd\u03b5\u03b9\u03b5\u03c2 \u03bc\u03b1\u03c2 \u03b3\u03b9\u03b1 \u03c4\u03b9\u03c2 \u03b4\u03b9\u03ba\u03ad\u03c2 \u03bc\u03b1\u03c2 \u03b5\u03c0\u03b9\u03bb\u03bf\u03b3\u03ad\u03c2. \u0391\u03c1\u03ba\u03b5\u03c4\u03ac \u03c4\u03b1\u03bb\u03b1\u03b9\u03c0\u03c9\u03c1\u03bf\u03cd\u03bd\u03c4\u03b1\u03b9 \u03bc\u03b5 \u03c4\u03bf \u03c0\u03cc\u03bd\u03bf \u03c4\u03bf\u03c5\u03c2.\n",
        "\n",
        "\u00bb \u0397 \u03c5\u03c0\u03bf\u03bc\u03bf\u03bd\u03ae \u03bc\u03b1\u03c2 \u03b5\u03be\u03b1\u03bd\u03c4\u03bb\u03ae\u03b8\u03b7\u03ba\u03b5, \u03c3\u03c4\u03bf \u03c0\u03c1\u03cc\u03c3\u03c9\u03c0\u03bf \u03c4\u03b7\u03c2 \u03c3\u03c5\u03b3\u03ba\u03b5\u03ba\u03c1\u03b9\u03bc\u03ad\u03bd\u03b7\u03c2 \u03bc\u03ac\u03bd\u03b1\u03c2 \u03b2\u03bb\u03ad\u03c0\u03bf\u03c5\u03bc\u03b5 \u03c4\u03b7 \u03b4\u03af\u03ba\u03b7 \u03bc\u03b1\u03c2 \u03bc\u03ac\u03bd\u03b1 \u03ba\u03b1\u03b9 \u03c3\u03c4\u03bf \u03c0\u03c1\u03cc\u03c3\u03c9\u03c0\u03bf \u03c4\u03b7\u03c2 \u03c3\u03c5\u03b6\u03cd\u03b3\u03bf\u03c5 \u03b2\u03bb\u03ad\u03c0\u03bf\u03c5\u03bc\u03b5 \u03c4\u03b7 \u03b4\u03b9\u03ba\u03ae \u03bc\u03b1\u03c2 \u03c3\u03cd\u03b6\u03c5\u03b3\u03bf.\n",
        "\n",
        "\u00bb \u0391\u03c0\u03cc \u03c3\u03ae\u03bc\u03b5\u03c1\u03b1 \u03a3\u03ac\u03b2\u03b2\u03b1\u03c4\u03bf 28/03 \u03b1\u03c1\u03bd\u03bf\u03cd\u03bc\u03b1\u03c3\u03c4\u03b5 \u03bd\u03b1 \u03bc\u03c0\u03bf\u03cd\u03bc\u03b5 \u03c3\u03c4\u03b1 \u03ba\u03b5\u03bb\u03b9\u03ac \u03bc\u03b1\u03c2 \u03c4\u03bf \u03b2\u03c1\u03ac\u03b4\u03c5 \u03ba\u03b1\u03b9 \u03bf \u03ba\u03b1\u03b8\u03ad\u03bd\u03b1\u03c2 \u03b1\u03c2 \u03b1\u03bd\u03b1\u03bb\u03ac\u03b2\u03b5\u03b9 \u03c4\u03b9\u03c2 \u03b5\u03c5\u03b8\u03cd\u03bd\u03b5\u03c2 \u03c4\u03bf\u03c5.\n",
        "\n",
        "\u00bb \u038c\u03c3\u03bf\u03b9 \u03c0\u03b1\u03af\u03b6\u03bf\u03c5\u03bd \u03c0\u03b1\u03b9\u03c7\u03bd\u03af\u03b4\u03b9\u03b1 \u03bc\u03b5 \u03c4\u03b7 \u03c6\u03c9\u03c4\u03b9\u03ac \u03b8\u03b1 \u03c4\u03b1 \u03b2\u03c1\u03bf\u03c5\u03bd \u03bc\u03c0\u03c1\u03bf\u03c3\u03c4\u03ac \u03c4\u03bf\u03c5\u03c2 \u03ba\u03b1\u03b9 \u03c4\u03bf \u03b4\u03af\u03ba\u03b9\u03bf \u03b8\u03b1 \u03b5\u03af\u03bd\u03b1\u03b9 \u03bc\u03b5 \u03c4\u03bf \u03bc\u03ad\u03c1\u03bf\u03c2 \u03bc\u03b1\u03c2.\n",
        "\n",
        "\u00bb \u0391\u03bd \u03c0\u03ac\u03b8\u03b5\u03b9 \u03ba\u03ac\u03c4\u03b9 \u03ba\u03ac\u03c0\u03bf\u03b9\u03bf\u03c2 \u03b1\u03c0\u03b5\u03c1\u03b3\u03cc\u03c2 \u03c0\u03b5\u03af\u03bd\u03b1\u03c2 \u03bf\u03b9 \u03c5\u03c0\u03b5\u03cd\u03b8\u03c5\u03bd\u03bf\u03b9 \u03b8\u03b1 \u03bb\u03bf\u03b3\u03bf\u03b4\u03bf\u03c4\u03ae\u03c3\u03bf\u03c5\u03bd.\n",
        "\n",
        "\u00bb \u038c,\u03c4\u03b9 \u03b5\u03af\u03bd\u03b1\u03b9 \u03bd\u03b1 \u03b3\u03af\u03bd\u03b5\u03b9 \u03b1\u03c2 \u03b3\u03af\u03bd\u03b5\u03b9!\n",
        "\n",
        "\u00bb \u039d\u03af\u03ba\u03b7 \u03c3\u03c4\u03bf\u03bd \u03b1\u03b3\u03ce\u03bd\u03b1 \u03cc\u03bb\u03c9\u03bd \u03c4\u03c9\u03bd \u03c0\u03b1\u03b5\u03c1\u03b3\u03ce\u03bd \u03c0\u03b5\u03af\u03bd\u03b1\u03c2. \u0391\u03bc\u03b5\u03c3\u03b7 \u03b9\u03ba\u03b1\u03bd\u03bf\u03c0\u03bf\u03af\u03b7\u03c3\u03b7 \u03c4\u03c9\u03bd \u03b1\u03b9\u03c4\u03b7\u03bc\u03ac\u03c4\u03c9\u03bd \u03c4\u03bf\u03c5\u03c2.\n",
        "\n",
        "\u00bb \u039f\u03b9 \u03ba\u03c1\u03b1\u03c4\u03bf\u03cd\u03bc\u03b5\u03bd\u03bf\u03b9 \u03b1\u03c0\u03cc \u03c4\u03b7 \u03c6\u03c5\u03bb\u03b1\u03ba\u03ae \u039a\u03bf\u03c1\u03c5\u03b4\u03b1\u03bb\u03bb\u03bf\u03cd.\u00bb\n"
       ]
      }
     ],
     "prompt_number": 2
    },
    {
     "cell_type": "heading",
     "level": 3,
     "metadata": {},
     "source": [
      "\u0394\u03b9\u03ac\u03b2\u03b1\u03c3\u03bc\u03b1 \u03b5\u03c0\u03b9\u03bc\u03ad\u03c1\u03bf\u03c5\u03c2 \u03c3\u03c4\u03bf\u03b9\u03c7\u03b5\u03af\u03c9\u03bd \u03ba\u03b5\u03b9\u03bc\u03ad\u03bd\u03bf\u03c5 \u03c0\u03bf\u03c5 \u03b5\u03b9\u03c3\u03ae\u03c7\u03b8\u03b7\u03ba\u03b5 \u03b1\u03c0\u03cc \u03b1\u03c1\u03c7\u03b5\u03af\u03bf"
     ]
    },
    {
     "cell_type": "code",
     "collapsed": false,
     "input": [
      "fileName = 'test1.txt'\n",
      "f=open(fileName,'r')\n",
      "\n",
      "text1=f.read(10)\n",
      "text2=f.read(30)\n",
      "text3=f.read(70)\n",
      "\n",
      "print '\u03a4\u03cd\u03c0\u03c9\u03c3\u03b5 \u03c4\u03bf \u03b1\u03c1\u03c7\u03b5\u03af\u03bf test1.txt \u03b1\u03c0\u03cc \u03c4\u03bf \u03c0\u03c1\u03ce\u03c4\u03bf \u03c3\u03c4\u03bf\u03b9\u03c7\u03b5\u03af\u03bf \u03c9\u03c2 \u03c4\u03bf 10-\u03bf:' \n",
      "print text1\n",
      "print '\u03a4\u03cd\u03c0\u03c9\u03c3\u03b5 \u03c4\u03bf 10-\u03bf \u03c3\u03c4\u03bf\u03b9\u03c7\u03b5\u03af\u03bf \u03c4\u03bf\u03c5 \u03b1\u03c1\u03c7\u03b5\u03af\u03bf\u03c5 test1.txt:'\n",
      "print text1[-1]\n",
      "print '\u03a4\u03cd\u03c0\u03c9\u03c3\u03b5 \u03c4\u03bf \u03b1\u03c1\u03c7\u03b5\u03af\u03bf test1.txt \u03b1\u03c0\u03cc \u03c4\u03bf 11-\u03bf \u03c3\u03c4\u03bf\u03b9\u03c7\u03b5\u03af\u03bf \u03c9\u03c2 \u03c4\u03bf 30-\u03bf:' \n",
      "print text2\n",
      "print '\u03a4\u03cd\u03c0\u03c9\u03c3\u03b5 \u03c4\u03b1 19-\u03bf \u03c9\u03c2 24-\u03bf \u03c4\u03bf\u03c5 \u03b1\u03c1\u03c7\u03b5\u03af\u03bf\u03c5 test1.txt:'\n",
      "print text2[8:14]\n",
      "print '\u03a4\u03cd\u03c0\u03c9\u03c3\u03b5 \u03c4\u03bf \u03b1\u03c1\u03c7\u03b5\u03af\u03bf test1.txt \u03b1\u03c0\u03cc \u03c4\u03bf 31-\u03bf \u03c3\u03c4\u03bf\u03b9\u03c7\u03b5\u03af\u03bf \u03c9\u03c2 \u03c4\u03bf 70-\u03bf:' \n",
      "print text3\n",
      "print '\u03a4\u03cd\u03c0\u03c9\u03c3\u03b5 \u03c4\u03bf \u03b1\u03c1\u03c7\u03b5\u03af\u03bf test1.txt \u03b1\u03c0\u03cc \u03c4\u03bf 66-\u03bf \u03c3\u03c4\u03bf\u03b9\u03c7\u03b5\u03af\u03bf \u03c9\u03c2 \u03c4\u03bf 67-\u03bf:'\n",
      "print text3[-5:-3]"
     ],
     "language": "python",
     "metadata": {},
     "outputs": [
      {
       "output_type": "stream",
       "stream": "stdout",
       "text": [
        "\u03a4\u03cd\u03c0\u03c9\u03c3\u03b5 \u03c4\u03bf \u03b1\u03c1\u03c7\u03b5\u03af\u03bf test1.txt \u03b1\u03c0\u03cc \u03c4\u03bf \u03c0\u03c1\u03ce\u03c4\u03bf \u03c3\u03c4\u03bf\u03b9\u03c7\u03b5\u03af\u03bf \u03c9\u03c2 \u03c4\u03bf 10-\u03bf:\n",
        "Second Lif\n",
        "\u03a4\u03cd\u03c0\u03c9\u03c3\u03b5 \u03c4\u03bf 10-\u03bf \u03c3\u03c4\u03bf\u03b9\u03c7\u03b5\u03af\u03bf \u03c4\u03bf\u03c5 \u03b1\u03c1\u03c7\u03b5\u03af\u03bf\u03c5 test1.txt:\n",
        "f\n",
        "\u03a4\u03cd\u03c0\u03c9\u03c3\u03b5 \u03c4\u03bf \u03b1\u03c1\u03c7\u03b5\u03af\u03bf test1.txt \u03b1\u03c0\u03cc \u03c4\u03bf 11-\u03bf \u03c3\u03c4\u03bf\u03b9\u03c7\u03b5\u03af\u03bf \u03c9\u03c2 \u03c4\u03bf 30-\u03bf:\n",
        "e is an online virtual world, \n",
        "\u03a4\u03cd\u03c0\u03c9\u03c3\u03b5 \u03c4\u03b1 19-\u03bf \u03c9\u03c2 24-\u03bf \u03c4\u03bf\u03c5 \u03b1\u03c1\u03c7\u03b5\u03af\u03bf\u03c5 test1.txt:\n",
        "online\n",
        "\u03a4\u03cd\u03c0\u03c9\u03c3\u03b5 \u03c4\u03bf \u03b1\u03c1\u03c7\u03b5\u03af\u03bf test1.txt \u03b1\u03c0\u03cc \u03c4\u03bf 31-\u03bf \u03c3\u03c4\u03bf\u03b9\u03c7\u03b5\u03af\u03bf \u03c9\u03c2 \u03c4\u03bf 70-\u03bf:\n",
        "developed by San Francisco-based Linden Lab and launched on June 23, 2\n",
        "\u03a4\u03cd\u03c0\u03c9\u03c3\u03b5 \u03c4\u03bf \u03b1\u03c1\u03c7\u03b5\u03af\u03bf test1.txt \u03b1\u03c0\u03cc \u03c4\u03bf 66-\u03bf \u03c3\u03c4\u03bf\u03b9\u03c7\u03b5\u03af\u03bf \u03c9\u03c2 \u03c4\u03bf 67-\u03bf:\n",
        "23\n"
       ]
      }
     ],
     "prompt_number": 3
    },
    {
     "cell_type": "heading",
     "level": 3,
     "metadata": {},
     "source": [
      "\u0394\u03b9\u03ac\u03b2\u03b1\u03c3\u03bc\u03b1 \u03b3\u03c1\u03b1\u03bc\u03bc\u03ce\u03bd \u03ba\u03b5\u03b9\u03bc\u03ad\u03bd\u03bf\u03c5 \u03bc\u03ad\u03c3\u03c9 f.readline()"
     ]
    },
    {
     "cell_type": "code",
     "collapsed": false,
     "input": [
      "fileName = 'test1.txt'\n",
      "f=open(fileName,'r')\n",
      "\n",
      "'''\n",
      "\u03a3\u03c4\u03b7\u03bd Python \u03c4\u03bf \u03c4\u03ad\u03bb\u03bf\u03c2 \u03bc\u03b9\u03b1\u03c2 \u03b3\u03c1\u03b1\u03bc\u03bc\u03ae\u03c2 \u03c0\u03c1\u03bf\u03c3\u03b4\u03b9\u03bf\u03c1\u03af\u03b6\u03b5\u03c4\u03b1\u03b9 \u03b1\u03c0\u03cc \u03c4\u03bf \u03c3\u03cd\u03bc\u03b2\u03bf\u03bb\u03bf \"\\n\".\n",
      "\n",
      "\u03a4\u03b7\u03bd \u03c0\u03c1\u03ce\u03c4\u03b7 \u03c6\u03bf\u03c1\u03ac \u03c0\u03bf\u03c5 \u03c4\u03c1\u03ad\u03c7\u03bf\u03c5\u03bc\u03b5 \u03c4\u03b7\u03bd f.readline() \u03bc\u03b1\u03c2 \u03b5\u03c0\u03b9\u03c3\u03c4\u03c1\u03ad\u03c6\u03b5\u03b9 \u03cc,\u03c4\u03b9 \u03c5\u03c0\u03ac\u03c1\u03c7\u03b5\u03b9 \u03c9\u03c2 \u03c4\u03bf \u03c0\u03c1\u03ce\u03c4\u03bf \"\\n\" \u03c3\u03c4\u03bf \u03ba\u03b5\u03af\u03bc\u03b5\u03bd\u03bf, \n",
      "\u03b4\u03b7\u03bb\u03b1\u03b4\u03ae, \u03c4\u03b7\u03bd \u03c0\u03c1\u03ce\u03c4\u03b7 \u03b3\u03c1\u03b1\u03bc\u03bc\u03ae.\n",
      "\n",
      "\u03a3\u03c4\u03b7 \u03c3\u03c5\u03bd\u03ad\u03c7\u03b5\u03b9\u03b1, \u03b1\u03bd \u03b5\u03c0\u03b1\u03bd\u03b1\u03bb\u03b7\u03c6\u03b8\u03b5\u03af \u03b7 \u03b5\u03bd\u03c4\u03bf\u03bb\u03ae f.readline(), \u03c3\u03c5\u03bd\u03b5\u03c7\u03af\u03b6\u03b5\u03b9 \u03b1\u03c0\u03cc \u03c4\u03b7\u03bd \u03b3\u03c1\u03b1\u03bc\u03bc\u03ae \u03c0\u03bf\u03c5 \u03c4\u03cd\u03c0\u03c9\u03c3\u03b5 \u03c4\u03bf \u03c4\u03b5\u03bb\u03b5\u03c5\u03c4\u03b1\u03af\u03bf \n",
      "f.readline().\n",
      "\n",
      "\u0391\u03c0\u03cc \u03c4\u03bf\u03bd \u03ba\u03b1\u03bd\u03cc\u03bd\u03b1 \u03c4\u03bf\u03c5 \u03c4\u03b5\u03c1\u03bc\u03b1\u03c4\u03b9\u03c3\u03bc\u03bf\u03cd \u03bc\u03b9\u03b1\u03c2 \u03b3\u03c1\u03b1\u03bc\u03bc\u03ae\u03c2 \u03bc\u03b5 \u03c4\u03bf \"\\n\", \u03b4\u03b5\u03bd \u03b5\u03be\u03b1\u03b9\u03c1\u03b5\u03af\u03c4\u03b1\u03b9 \u03b7 \u03ba\u03b5\u03bd\u03ae \u03b3\u03c1\u03b1\u03bc\u03bc\u03ae. \u03a6\u03c5\u03c3\u03b9\u03ba\u03ac, \n",
      "\u03cc\u03c3\u03b5\u03c2 \u03c6\u03bf\u03c1\u03ad\u03c2 \u03c3\u03c5\u03bd\u03b1\u03bd\u03c4\u03ac \u03ba\u03b5\u03bd\u03ae \u03b3\u03c1\u03b1\u03bc\u03bc\u03ae, \u03c4\u03bf f.readline() \u03c4\u03c5\u03c0\u03ce\u03bd\u03b5\u03b9 \u03ba\u03b5\u03bd\u03ae \u03b3\u03c1\u03b1\u03bc\u03bc\u03ae \u03ba\u03ac\u03b8\u03b5 \u03c6\u03bf\u03c1\u03ac.\n",
      "'''\n",
      "\n",
      "print f.readline()\n",
      "print f.readline()\n",
      "print f.readline()\n",
      "print f.readline()\n",
      "print f.readline()\n",
      "print f.readline()\n",
      "print f.readline()\n",
      "print f.readline()\n",
      "print f.readline()\n",
      "print f.readline()"
     ],
     "language": "python",
     "metadata": {},
     "outputs": [
      {
       "output_type": "stream",
       "stream": "stdout",
       "text": [
        "Second Life is an online virtual world, developed by San Francisco-based Linden Lab and launched on June 23, 2003; and which in 2014 had about 1 million regular users, according to Linden Lab, who owns Second Life. In many ways, Second Life is similar to MMORPGs (Massively Multiplayer Online Role Playing Games); however, Linden Lab is emphatic that their creation is not a game: \"There is no manufactured conflict, no set objective\".\n",
        "\n",
        "\n",
        "\n",
        "The virtual world can be accessed freely via Linden Lab's own client programs, or via alternative Third Party Viewers. Second Life users (also called Residents) create virtual representations of themselves, called avatars and are able to interact with other avatars, places or objects. They can explore the world (known as the grid), meet other residents, socialize, participate in individual and group activities, build, create, shop and trade virtual property and services with one another! It is a platform that principally features 3D-based user-generated content. Second Life also has its own virtual currency, the Linden Dollar, which is exchangeable with real world currency. Second Life is intended for people aged 16 and over, with the exception of 13\u201315-year-old users restricted to the Second Life region of a sponsoring institution (e.g. school).\n",
        "\n",
        "\n",
        "\n",
        "Built into the software is a three-dimensional modeling tool based on simple geometric shapes that allows residents to build virtual objects. There is also a procedural scripting language, Linden Scripting Language, which can be used to add interactivity to objects. Sculpted prims (sculpties), mesh, textures for clothing or other objects, animations, and gestures can be created using external software and imported. The Second Life terms of service provide that users retain copyright for any content they create, and the server and client provide simple digital rights management (DRM) functions. However, Linden Lab changed their terms of service in August 2013, to be able to use user-generated content for any purpose. The new terms of service prevents users from using textures from 3rd-party texture services, as some of them pointed out explicitly. Users can also photograph in Second Life with the camera technology the client programs have!\n",
        "\n",
        "\n",
        "\n",
        "\"If Second Life isn't a game, what is it? - Technology & science - Games - On the Level\". NBC News. 2007-12-03. Retrieved 2014-08-01. \"UPDATED Was Cory Linden fired, or did he quit?\". Massively. December 13, 2007. Retrieved February 19, 2010.\n",
        "\n",
        "\n",
        "\n"
       ]
      }
     ],
     "prompt_number": 2
    },
    {
     "cell_type": "heading",
     "level": 3,
     "metadata": {},
     "source": [
      "\u0394\u03b9\u03ac\u03b2\u03b1\u03c3\u03bc\u03b1 \u03b3\u03c1\u03b1\u03bc\u03bc\u03ce\u03bd \u03ba\u03b5\u03b9\u03bc\u03ad\u03bd\u03bf\u03c5 \u03bc\u03ad\u03c3\u03c9 \u03b2\u03c1\u03cc\u03c7\u03bf\u03c5 \u03bc\u03b5 \u03c4\u03b7\u03bd \u03b5\u03bd\u03c4\u03bf\u03bb\u03ae f.readline()"
     ]
    },
    {
     "cell_type": "code",
     "collapsed": false,
     "input": [
      "fileName = 'test1.txt'\n",
      "f=open(fileName,'r')\n",
      "\n",
      "while True:\n",
      "    line = f.readline()\n",
      "    if line == \"\":\n",
      "        break\n",
      "    print line"
     ],
     "language": "python",
     "metadata": {},
     "outputs": [
      {
       "output_type": "stream",
       "stream": "stdout",
       "text": [
        "Second Life is an online virtual world, developed by San Francisco-based Linden Lab and launched on June 23, 2003; and which in 2014 had about 1 million regular users, according to Linden Lab, who owns Second Life. In many ways, Second Life is similar to MMORPGs (Massively Multiplayer Online Role Playing Games); however, Linden Lab is emphatic that their creation is not a game: \"There is no manufactured conflict, no set objective\".\n",
        "\n",
        "\n",
        "\n",
        "The virtual world can be accessed freely via Linden Lab's own client programs, or via alternative Third Party Viewers. Second Life users (also called Residents) create virtual representations of themselves, called avatars and are able to interact with other avatars, places or objects. They can explore the world (known as the grid), meet other residents, socialize, participate in individual and group activities, build, create, shop and trade virtual property and services with one another! It is a platform that principally features 3D-based user-generated content. Second Life also has its own virtual currency, the Linden Dollar, which is exchangeable with real world currency. Second Life is intended for people aged 16 and over, with the exception of 13\u201315-year-old users restricted to the Second Life region of a sponsoring institution (e.g. school).\n",
        "\n",
        "\n",
        "\n",
        "Built into the software is a three-dimensional modeling tool based on simple geometric shapes that allows residents to build virtual objects. There is also a procedural scripting language, Linden Scripting Language, which can be used to add interactivity to objects. Sculpted prims (sculpties), mesh, textures for clothing or other objects, animations, and gestures can be created using external software and imported. The Second Life terms of service provide that users retain copyright for any content they create, and the server and client provide simple digital rights management (DRM) functions. However, Linden Lab changed their terms of service in August 2013, to be able to use user-generated content for any purpose. The new terms of service prevents users from using textures from 3rd-party texture services, as some of them pointed out explicitly. Users can also photograph in Second Life with the camera technology the client programs have!\n",
        "\n",
        "\n",
        "\n",
        "\"If Second Life isn't a game, what is it? - Technology & science - Games - On the Level\". NBC News. 2007-12-03. Retrieved 2014-08-01. \"UPDATED Was Cory Linden fired, or did he quit?\". Massively. December 13, 2007. Retrieved February 19, 2010.\n"
       ]
      }
     ],
     "prompt_number": 25
    },
    {
     "cell_type": "heading",
     "level": 3,
     "metadata": {},
     "source": [
      "\u0394\u03b9\u03ac\u03b2\u03b1\u03c3\u03bc\u03b1 \u03b3\u03c1\u03b1\u03bc\u03bc\u03ce\u03bd \u03ba\u03b5\u03b9\u03bc\u03ad\u03bd\u03bf\u03c5 \u03bc\u03ad\u03c3\u03c9 \u03c4\u03b7\u03c2 \u03bb\u03af\u03c3\u03c4\u03b1\u03c2 f.readlines()"
     ]
    },
    {
     "cell_type": "code",
     "collapsed": false,
     "input": [
      "fileName = 'test1.txt'\n",
      "f=open(fileName,'r')\n",
      "\n",
      "'''\n",
      "\u0397 \u03b5\u03bd\u03c4\u03bf\u03bb\u03ae f.readlines() \u03b4\u03b7\u03bc\u03b9\u03bf\u03c5\u03c1\u03b3\u03b5\u03af \u03bc\u03b9\u03b1 \u03bb\u03af\u03c3\u03c4\u03b1 \u03c4\u03b7\u03c2 \u03bf\u03c0\u03bf\u03af\u03b1\u03c2 \u03c4\u03b1 \u03c3\u03c4\u03bf\u03b9\u03c7\u03b5\u03af\u03b1 \u03b5\u03af\u03bd\u03b1\u03b9 \u03bf\u03b9 \u03bc\u03b7 \u03ba\u03b5\u03bd\u03ad\u03c2 \u03b3\u03c1\u03b1\u03bc\u03bc\u03ad\u03c2 \u03c4\u03bf\u03c5 \u03ba\u03b5\u03b9\u03bc\u03ad\u03bd\u03bf\u03c5,\n",
      "\u03cc\u03c0\u03bf\u03c5 \u03ba\u03ac\u03b8\u03b5 \u03ba\u03b5\u03bd\u03ae \u03b3\u03c1\u03b1\u03bc\u03bc\u03ae \u03c0\u03c1\u03bf\u03c3\u03b1\u03c1\u03c4\u03ac\u03c4\u03b1\u03b9 \u03c3\u03c4\u03b7\u03bd \u03c0\u03c1\u03bf\u03b7\u03b3\u03bf\u03cd\u03bc\u03b5\u03bd\u03b7 \u03bc\u03b7 \u03ba\u03b5\u03bd\u03ae \u03b3\u03c1\u03b1\u03bc\u03bc\u03ae. \u0395\u03c0\u03bf\u03bc\u03ad\u03bd\u03c9\u03c2, \u03c3\u03c4\u03bf \u03c4\u03ad\u03bb\u03bf\u03c2 \u03ba\u03ac\u03b8\u03b5 \u03c3\u03c4\u03bf\u03b9\u03c7\u03b5\u03af\u03bf\u03c5 \n",
      "\u03c4\u03b7\u03c2 \u03bb\u03af\u03c3\u03c4\u03b1\u03c2 \u03b1\u03c5\u03c4\u03ae\u03c2, \u03c0\u03bb\u03b7\u03bd \u03c4\u03bf\u03c5 \u03c4\u03b5\u03bb\u03b5\u03c5\u03c4\u03b1\u03af\u03bf\u03c5, \u03c0\u03c1\u03ad\u03c0\u03b5\u03b9 \u03bf\u03c0\u03c9\u03c3\u03b4\u03ae\u03c0\u03bf\u03c4\u03b5 \u03bd\u03b1 \u03b5\u03bc\u03c6\u03b1\u03bd\u03af\u03b6\u03b5\u03c4\u03b1\u03b9 \u03c3\u03c4\u03bf \u03c3\u03cd\u03bc\u03b2\u03bf\u03bb\u03bf \"\\n\".\n",
      "'''\n",
      "\n",
      "print '\u039f \u03c4\u03cd\u03c0\u03bf\u03c2 \u03c4\u03bf\u03c5 \u03b1\u03c1\u03c7\u03b5\u03af\u03bf\u03c5 \u03ba\u03b5\u03b9\u03bc\u03ad\u03bd\u03bf\u03c5 f \u03b5\u03af\u03bd\u03b1\u03b9', type(f)\n",
      "\n",
      "ltext = f.readlines()\n",
      "\n",
      "print '\u039f \u03c4\u03cd\u03c0\u03bf\u03c2 \u03c4\u03bf\u03c5 f.readlines() \u03b5\u03af\u03bd\u03b1\u03b9', type(ltext)\n",
      "print\n",
      "print ltext"
     ],
     "language": "python",
     "metadata": {},
     "outputs": [
      {
       "output_type": "stream",
       "stream": "stdout",
       "text": [
        "\u039f \u03c4\u03cd\u03c0\u03bf\u03c2 \u03c4\u03bf\u03c5 \u03b1\u03c1\u03c7\u03b5\u03af\u03bf\u03c5 \u03ba\u03b5\u03b9\u03bc\u03ad\u03bd\u03bf\u03c5 f \u03b5\u03af\u03bd\u03b1\u03b9 <type 'file'>\n",
        "\u039f \u03c4\u03cd\u03c0\u03bf\u03c2 \u03c4\u03bf\u03c5 f.readlines() \u03b5\u03af\u03bd\u03b1\u03b9 <type 'list'>\n",
        "\n",
        "['Second Life is an online virtual world, developed by San Francisco-based Linden Lab and launched on June 23, 2003; and which in 2014 had about 1 million regular users, according to Linden Lab, who owns Second Life. In many ways, Second Life is similar to MMORPGs (Massively Multiplayer Online Role Playing Games); however, Linden Lab is emphatic that their creation is not a game: \"There is no manufactured conflict, no set objective\".\\n', '\\n', \"The virtual world can be accessed freely via Linden Lab's own client programs, or via alternative Third Party Viewers. Second Life users (also called Residents) create virtual representations of themselves, called avatars and are able to interact with other avatars, places or objects. They can explore the world (known as the grid), meet other residents, socialize, participate in individual and group activities, build, create, shop and trade virtual property and services with one another! It is a platform that principally features 3D-based user-generated content. Second Life also has its own virtual currency, the Linden Dollar, which is exchangeable with real world currency. Second Life is intended for people aged 16 and over, with the exception of 13\\xe2\\x80\\x9315-year-old users restricted to the Second Life region of a sponsoring institution (e.g. school).\\n\", '\\n', 'Built into the software is a three-dimensional modeling tool based on simple geometric shapes that allows residents to build virtual objects. There is also a procedural scripting language, Linden Scripting Language, which can be used to add interactivity to objects. Sculpted prims (sculpties), mesh, textures for clothing or other objects, animations, and gestures can be created using external software and imported. The Second Life terms of service provide that users retain copyright for any content they create, and the server and client provide simple digital rights management (DRM) functions. However, Linden Lab changed their terms of service in August 2013, to be able to use user-generated content for any purpose. The new terms of service prevents users from using textures from 3rd-party texture services, as some of them pointed out explicitly. Users can also photograph in Second Life with the camera technology the client programs have!\\n', '\\n', '\"If Second Life isn\\'t a game, what is it? - Technology & science - Games - On the Level\". NBC News. 2007-12-03. Retrieved 2014-08-01. \"UPDATED Was Cory Linden fired, or did he quit?\". Massively. December 13, 2007. Retrieved February 19, 2010.']\n"
       ]
      }
     ],
     "prompt_number": 13
    },
    {
     "cell_type": "heading",
     "level": 3,
     "metadata": {},
     "source": [
      "\u0394\u03b9\u03ac\u03b2\u03b1\u03c3\u03bc\u03b1 \u03ba\u03b5\u03b9\u03bc\u03ad\u03bd\u03bf\u03c5 \u03bc\u03ad\u03c3\u03c9 \u03b2\u03c1\u03cc\u03c7\u03bf\u03c5 \u03bc\u03b5 \u03c4\u03b7\u03bd \u03b5\u03bd\u03c4\u03bf\u03bb\u03ae f.readlines()"
     ]
    },
    {
     "cell_type": "code",
     "collapsed": false,
     "input": [
      "fileName = 'test1.txt'\n",
      "f=open(fileName,'r')\n",
      "\n",
      "ltext = f.readlines()\n",
      "\n",
      "print ltext[0]\n",
      "print\n",
      "print ltext[0].strip()\n",
      "print\n",
      "\n",
      "for i in ltext:\n",
      "    print i.strip()"
     ],
     "language": "python",
     "metadata": {},
     "outputs": [
      {
       "output_type": "stream",
       "stream": "stdout",
       "text": [
        "Second Life is an online virtual world, developed by San Francisco-based Linden Lab and launched on June 23, 2003; and which in 2014 had about 1 million regular users, according to Linden Lab, who owns Second Life. In many ways, Second Life is similar to MMORPGs (Massively Multiplayer Online Role Playing Games); however, Linden Lab is emphatic that their creation is not a game: \"There is no manufactured conflict, no set objective\".\n",
        "\n",
        "\n",
        "Second Life is an online virtual world, developed by San Francisco-based Linden Lab and launched on June 23, 2003; and which in 2014 had about 1 million regular users, according to Linden Lab, who owns Second Life. In many ways, Second Life is similar to MMORPGs (Massively Multiplayer Online Role Playing Games); however, Linden Lab is emphatic that their creation is not a game: \"There is no manufactured conflict, no set objective\".\n",
        "\n",
        "Second Life is an online virtual world, developed by San Francisco-based Linden Lab and launched on June 23, 2003; and which in 2014 had about 1 million regular users, according to Linden Lab, who owns Second Life. In many ways, Second Life is similar to MMORPGs (Massively Multiplayer Online Role Playing Games); however, Linden Lab is emphatic that their creation is not a game: \"There is no manufactured conflict, no set objective\".\n",
        "\n",
        "The virtual world can be accessed freely via Linden Lab's own client programs, or via alternative Third Party Viewers. Second Life users (also called Residents) create virtual representations of themselves, called avatars and are able to interact with other avatars, places or objects. They can explore the world (known as the grid), meet other residents, socialize, participate in individual and group activities, build, create, shop and trade virtual property and services with one another! It is a platform that principally features 3D-based user-generated content. Second Life also has its own virtual currency, the Linden Dollar, which is exchangeable with real world currency. Second Life is intended for people aged 16 and over, with the exception of 13\u201315-year-old users restricted to the Second Life region of a sponsoring institution (e.g. school).\n",
        "\n",
        "Built into the software is a three-dimensional modeling tool based on simple geometric shapes that allows residents to build virtual objects. There is also a procedural scripting language, Linden Scripting Language, which can be used to add interactivity to objects. Sculpted prims (sculpties), mesh, textures for clothing or other objects, animations, and gestures can be created using external software and imported. The Second Life terms of service provide that users retain copyright for any content they create, and the server and client provide simple digital rights management (DRM) functions. However, Linden Lab changed their terms of service in August 2013, to be able to use user-generated content for any purpose. The new terms of service prevents users from using textures from 3rd-party texture services, as some of them pointed out explicitly. Users can also photograph in Second Life with the camera technology the client programs have!\n",
        "\n",
        "\"If Second Life isn't a game, what is it? - Technology & science - Games - On the Level\". NBC News. 2007-12-03. Retrieved 2014-08-01. \"UPDATED Was Cory Linden fired, or did he quit?\". Massively. December 13, 2007. Retrieved February 19, 2010.\n"
       ]
      }
     ],
     "prompt_number": 12
    },
    {
     "cell_type": "heading",
     "level": 3,
     "metadata": {},
     "source": [
      "\u0391\u03c1\u03af\u03b8\u03bc\u03b7\u03c3\u03b7 \u03c0\u03b1\u03c1\u03b1\u03b3\u03c1\u03ac\u03c6\u03c9\u03bd \u03ba\u03b5\u03b9\u03bc\u03ad\u03bd\u03bf\u03c5 \u03bc\u03ad\u03c3\u03c9 \u03b2\u03c1\u03cc\u03c7\u03bf\u03c5 \u03bc\u03b5 \u03c4\u03b7\u03bd \u03b5\u03bd\u03c4\u03bf\u03bb\u03ae f.readlines()"
     ]
    },
    {
     "cell_type": "code",
     "collapsed": false,
     "input": [
      "fileName = 'test1.txt'\n",
      "f=open(fileName,'r')\n",
      "\n",
      "ltext = f.readlines()\n",
      "\n",
      "#\u0397 \u03c0\u03b1\u03c1\u03b1\u03ba\u03ac\u03c4\u03c9 \u03bc\u03b5\u03c4\u03b1\u03b2\u03bb\u03b7\u03c4\u03ae \u03bc\u03b5\u03c4\u03c1\u03ac \u03c0\u03cc\u03c3\u03b5\u03c2 \u03c6\u03bf\u03c1\u03ad\u03c2 \u03b1\u03bb\u03bb\u03ac\u03b6\u03b5\u03b9 \u03b3\u03c1\u03b1\u03bc\u03bc\u03ae \u03c3\u03c4\u03bf \u03ba\u03b5\u03af\u03bc\u03b5\u03bd\u03bf\n",
      "nl = 0\n",
      "for line in ltext:\n",
      "    if line=='\\n':\n",
      "        nl += 1\n",
      "print '\u03a4\u03bf \u03c0\u03bb\u03ae\u03b8\u03bf\u03c2 \u03c4\u03c9\u03bd \u03ba\u03b5\u03bd\u03ce\u03bd \u03c0\u03b1\u03c1\u03b1\u03b3\u03c1\u03ac\u03c6\u03c9\u03bd \u03c4\u03bf\u03c5 \u03b1\u03c1\u03c7\u03b5\u03af\u03bf\u03c5 \u03ba\u03b5\u03b9\u03bc\u03ad\u03bd\u03bf\u03c5 f \u03b5\u03af\u03bd\u03b1\u03b9:'\n",
      "print nl\n",
      "\n",
      "print \n",
      "\n",
      "print '\u03a4\u03bf \u03c0\u03bb\u03ae\u03b8\u03bf\u03c2 \u03c4\u03c9\u03bd (\u03bc\u03b7 \u03ba\u03b5\u03bd\u03ce\u03bd) \u03c0\u03b1\u03c1\u03b1\u03b3\u03c1\u03ac\u03c6\u03c9\u03bd \u03c4\u03bf\u03c5 \u03b1\u03c1\u03c7\u03b5\u03af\u03bf\u03c5 \u03ba\u03b5\u03b9\u03bc\u03ad\u03bd\u03bf\u03c5 f \u03b5\u03af\u03bd\u03b1\u03b9:'\n",
      "pars = len(ltext) - nl \n",
      "print pars"
     ],
     "language": "python",
     "metadata": {},
     "outputs": [
      {
       "output_type": "stream",
       "stream": "stdout",
       "text": [
        "\u03a4\u03bf \u03c0\u03bb\u03ae\u03b8\u03bf\u03c2 \u03c4\u03c9\u03bd \u03ba\u03b5\u03bd\u03ce\u03bd \u03c0\u03b1\u03c1\u03b1\u03b3\u03c1\u03ac\u03c6\u03c9\u03bd \u03c4\u03bf\u03c5 \u03b1\u03c1\u03c7\u03b5\u03af\u03bf\u03c5 \u03ba\u03b5\u03b9\u03bc\u03ad\u03bd\u03bf\u03c5 f \u03b5\u03af\u03bd\u03b1\u03b9:\n",
        "3\n",
        "\n",
        "\u03a4\u03bf \u03c0\u03bb\u03ae\u03b8\u03bf\u03c2 \u03c4\u03c9\u03bd (\u03bc\u03b7 \u03ba\u03b5\u03bd\u03ce\u03bd) \u03c0\u03b1\u03c1\u03b1\u03b3\u03c1\u03ac\u03c6\u03c9\u03bd \u03c4\u03bf\u03c5 \u03b1\u03c1\u03c7\u03b5\u03af\u03bf\u03c5 \u03ba\u03b5\u03b9\u03bc\u03ad\u03bd\u03bf\u03c5 f \u03b5\u03af\u03bd\u03b1\u03b9:\n",
        "4\n"
       ]
      }
     ],
     "prompt_number": 2
    },
    {
     "cell_type": "heading",
     "level": 3,
     "metadata": {},
     "source": [
      "\u039c\u03b5\u03c4\u03c1\u03ae\u03c3\u03b5\u03b9\u03c2 \u03bc\u03ad\u03c3\u03b1 \u03c3\u03b5 \u03ba\u03b5\u03af\u03bc\u03b5\u03bd\u03bf"
     ]
    },
    {
     "cell_type": "code",
     "collapsed": false,
     "input": [
      "fileName = 'test1.txt'\n",
      "f=open(fileName,'r')\n",
      "\n",
      "# \u039c\u03ad\u03c4\u03c1\u03b7\u03c3\u03b7 \u03c0\u03c1\u03bf\u03c4\u03ac\u03c3\u03b5\u03c9\u03bd\n",
      "sentences = text.count('.') + text.count('?') + text.count(':') + text.count(';') + text.count('!')\n",
      "print '\u03a3\u03c4\u03bf \u03b1\u03c1\u03c7\u03b5\u03af\u03bf \u03ba\u03b5\u03b9\u03bc\u03ad\u03bd\u03bf\u03c5', fileName, '\u03c5\u03c0\u03ac\u03c1\u03c7\u03bf\u03c5\u03bd', sentences, '\u03c0\u03c1\u03bf\u03c4\u03ac\u03c3\u03b5\u03b9\u03c2'\n",
      "\n",
      "# \u039c\u03ad\u03c4\u03c1\u03b7\u03c3\u03b7 \u03c3\u03c5\u03bd\u03bf\u03bb\u03b9\u03ba\u03ce\u03bd \u03bb\u03ad\u03be\u03b5\u03c9\u03bd\n",
      "words = len(text.split())\n",
      "print '\u03a3\u03c4\u03bf \u03b1\u03c1\u03c7\u03b5\u03af\u03bf \u03ba\u03b5\u03b9\u03bc\u03ad\u03bd\u03bf\u03c5', fileName, '\u03c5\u03c0\u03ac\u03c1\u03c7\u03bf\u03c5\u03bd', words, '\u03bb\u03ad\u03be\u03b5\u03b9\u03c2'\n",
      "\n",
      "# \u039c\u03ad\u03c4\u03c1\u03b7\u03c3\u03b7 \u03c3\u03c5\u03b3\u03ba\u03b5\u03ba\u03c1\u03b9\u03bc\u03ad\u03bd\u03c9\u03bd \u03bb\u03ad\u03be\u03b5\u03c9\u03bd\n",
      "lctext = text.lower()\n",
      "\n",
      "string1 = ' the '\n",
      "string1count = lctext.count(string1)\n",
      "print '\u0397 \u03bb\u03ad\u03be\u03b7 (\u03ac\u03c1\u03b8\u03c1\u03bf)', string1, '\u03b5\u03bc\u03c6\u03b1\u03bd\u03af\u03b6\u03b5\u03c4\u03b1\u03b9', string1count, '\u03c6\u03bf\u03c1\u03ad\u03c2'\n",
      "\n",
      "string2 = ' a '\n",
      "string2count = lctext.count(string2)\n",
      "print '\u0397 \u03bb\u03ad\u03be\u03b7 (\u03ac\u03c1\u03b8\u03c1\u03bf)', string2, '\u03b5\u03bc\u03c6\u03b1\u03bd\u03af\u03b6\u03b5\u03c4\u03b1\u03b9', string2count, '\u03c6\u03bf\u03c1\u03ad\u03c2'\n",
      "\n",
      "endings = ['s', 'ed', 'ing']\n",
      "endingscount = 0\n",
      "for word in text.split():\n",
      "    for i in endings:\n",
      "        if word.endswith(i):\n",
      "            endingscount += 1\n",
      "print '\u039f\u03b9 \u03ba\u03b1\u03c4\u03b1\u03bb\u03ae\u03be\u03b5\u03b9\u03c2', endings, '\u03b5\u03bc\u03c6\u03b1\u03bd\u03af\u03b6\u03bf\u03bd\u03c4\u03b1\u03b9', endingscount, '\u03c6\u03bf\u03c1\u03ad\u03c2'"
     ],
     "language": "python",
     "metadata": {},
     "outputs": [
      {
       "output_type": "stream",
       "stream": "stdout",
       "text": [
        "\u03a3\u03c4\u03bf \u03b1\u03c1\u03c7\u03b5\u03af\u03bf \u03ba\u03b5\u03b9\u03bc\u03ad\u03bd\u03bf\u03c5 test1.txt \u03c5\u03c0\u03ac\u03c1\u03c7\u03bf\u03c5\u03bd 6 \u03c0\u03c1\u03bf\u03c4\u03ac\u03c3\u03b5\u03b9\u03c2\n",
        "\u03a3\u03c4\u03bf \u03b1\u03c1\u03c7\u03b5\u03af\u03bf \u03ba\u03b5\u03b9\u03bc\u03ad\u03bd\u03bf\u03c5 test1.txt \u03c5\u03c0\u03ac\u03c1\u03c7\u03bf\u03c5\u03bd 14 \u03bb\u03ad\u03be\u03b5\u03b9\u03c2\n",
        "\u0397 \u03bb\u03ad\u03be\u03b7 (\u03ac\u03c1\u03b8\u03c1\u03bf)  the  \u03b5\u03bc\u03c6\u03b1\u03bd\u03af\u03b6\u03b5\u03c4\u03b1\u03b9 1 \u03c6\u03bf\u03c1\u03ad\u03c2\n",
        "\u0397 \u03bb\u03ad\u03be\u03b7 (\u03ac\u03c1\u03b8\u03c1\u03bf)  a  \u03b5\u03bc\u03c6\u03b1\u03bd\u03af\u03b6\u03b5\u03c4\u03b1\u03b9 0 \u03c6\u03bf\u03c1\u03ad\u03c2\n",
        "\u039f\u03b9 \u03ba\u03b1\u03c4\u03b1\u03bb\u03ae\u03be\u03b5\u03b9\u03c2 ['s', 'ed', 'ing'] \u03b5\u03bc\u03c6\u03b1\u03bd\u03af\u03b6\u03bf\u03bd\u03c4\u03b1\u03b9 2 \u03c6\u03bf\u03c1\u03ad\u03c2\n"
       ]
      }
     ],
     "prompt_number": 29
    },
    {
     "cell_type": "heading",
     "level": 3,
     "metadata": {},
     "source": [
      "\u0393\u03c1\u03ac\u03c8\u03b9\u03bc\u03bf \u03b1\u03c1\u03c7\u03b5\u03af\u03bf\u03c5 \u03ba\u03b5\u03b9\u03bc\u03ad\u03bd\u03bf\u03c5"
     ]
    },
    {
     "cell_type": "code",
     "collapsed": false,
     "input": [
      "mf = open(\"myfile.txt\", 'w')\n",
      "\n",
      "mf.write(\"First line: Hello world! \\nSecond line: What's up? \\nThird line: Here is the end. \\n\")\n",
      "mf.close()\n",
      "\n",
      "mf=open(\"myfile.txt\",'r')\n",
      "print mf.read()"
     ],
     "language": "python",
     "metadata": {},
     "outputs": [
      {
       "output_type": "stream",
       "stream": "stdout",
       "text": [
        "First line: Hello world! \n",
        "Second line: What's up? \n",
        "Third line: Here is the end. \n",
        "\n"
       ]
      }
     ],
     "prompt_number": 15
    },
    {
     "cell_type": "heading",
     "level": 3,
     "metadata": {},
     "source": [
      "\u0393\u03c1\u03ac\u03c8\u03b9\u03bc\u03bf \u03c4\u03c5\u03c7\u03b1\u03af\u03c9\u03bd \u03b1\u03c1\u03b9\u03b8\u03bc\u03ce\u03bd \u03c3\u03b5 \u03b1\u03c1\u03c7\u03b5\u03af\u03bf \u03ba\u03b5\u03b9\u03bc\u03ad\u03bd\u03bf\u03c5 \u03bc\u03ad\u03c3\u03c9 \u03b5\u03bd\u03cc\u03c2 \u03b2\u03c1\u03cc\u03c7\u03bf\u03c5"
     ]
    },
    {
     "cell_type": "code",
     "collapsed": false,
     "input": [
      "import random\n",
      "\n",
      "nf = open(\"numbers.txt\", 'w')\n",
      "for i in xrange(10):\n",
      "    number = random.randint(1, 1000)\n",
      "    nf.write(str(number) + '\\n')\n",
      "nf.close()\n",
      "\n",
      "nf=open(\"numbers.txt\",'r')\n",
      "sum = 0\n",
      "for line in nf:\n",
      "    line = line.strip()\n",
      "    number = int(line)\n",
      "    print number\n",
      "    sum += number\n",
      "print '\u03a4\u03bf \u03ac\u03b8\u03c1\u03bf\u03b9\u03c3\u03bc\u03b1 \u03c4\u03c9\u03bd \u03b1\u03c1\u03b9\u03b8\u03bc\u03ce\u03bd \u03c3\u03c4\u03bf \u03b1\u03c1\u03c7\u03b5\u03af\u03bf numbers.txt \u03b5\u03af\u03bd\u03b1\u03b9', sum"
     ],
     "language": "python",
     "metadata": {},
     "outputs": [
      {
       "output_type": "stream",
       "stream": "stdout",
       "text": [
        "478\n",
        "427\n",
        "98\n",
        "552\n",
        "586\n",
        "265\n",
        "302\n",
        "90\n",
        "375\n",
        "249\n",
        "\u03a4\u03bf \u03ac\u03b8\u03c1\u03bf\u03b9\u03c3\u03bc\u03b1 \u03c4\u03c9\u03bd \u03b1\u03c1\u03b9\u03b8\u03bc\u03ce\u03bd \u03c3\u03c4\u03bf \u03b1\u03c1\u03c7\u03b5\u03af\u03bf numbers.txt \u03b5\u03af\u03bd\u03b1\u03b9 3422\n"
       ]
      }
     ],
     "prompt_number": 28
    },
    {
     "cell_type": "heading",
     "level": 3,
     "metadata": {},
     "source": [
      "\u03a0\u03c1\u03cc\u03c3\u03b2\u03b1\u03c3\u03b7 \u03ba\u03b1\u03b9 \u03b4\u03b9\u03b1\u03c7\u03b5\u03af\u03c1\u03b9\u03c3\u03b7 \u03b1\u03c1\u03c7\u03b5\u03af\u03c9\u03bd \u03ba\u03b1\u03b9 \u03ba\u03b1\u03c4\u03b1\u03bb\u03cc\u03b3\u03c9\u03bd \u03c3\u03c4\u03bf\u03bd \u03b4\u03af\u03c3\u03ba\u03bf \u03c4\u03bf\u03c5 \u03c5\u03c0\u03bf\u03bb\u03bf\u03b3\u03b9\u03c3\u03c4\u03bf\u03cd \u03bc\u03ad\u03c3\u03b1 \u03b1\u03c0\u03cc \u03c4\u03b7\u03bd Python"
     ]
    },
    {
     "cell_type": "code",
     "collapsed": false,
     "input": [
      "import os\n",
      "\n",
      "currentDirectoryPath = os.getcwd()\n",
      "print 'The current directory path is:', currentDirectoryPath\n",
      "\n",
      "listOfFileNames = os.listdir(currentDirectoryPath)\n",
      "for name in listOfFileNames:\n",
      "    if (\".py\" in name) or (\".ipynb\" in name):\n",
      "        print name\n",
      "\n",
      "print\n",
      "        \n",
      "os.chdir(\"/Users/mosesboudourides/Dropbox/Python Projects/Fractals\")\n",
      "\n",
      "currentDirectoryPath = os.getcwd()\n",
      "print 'The current directory path is:', currentDirectoryPath\n",
      "\n",
      "listOfFileNames = os.listdir(currentDirectoryPath)\n",
      "for name in listOfFileNames:\n",
      "    if (\".py\" in name) or (\".ipynb\" in name):\n",
      "        print name\n",
      "\n",
      "print\n",
      "\n",
      "os.chdir(\"/Users/mosesboudourides/Dropbox/Courses Related/ProgrammatismosMePython/Scripts and iPython Notebooks\")\n",
      "\n",
      "currentDirectoryPath = os.getcwd()\n",
      "print 'The current directory path is:', currentDirectoryPath"
     ],
     "language": "python",
     "metadata": {},
     "outputs": [
      {
       "output_type": "stream",
       "stream": "stdout",
       "text": [
        "The current directory path is: /Users/mosesboudourides/Dropbox/Courses Related/ProgrammatismosMePython/Scripts and iPython Notebooks\n",
        ".ipynb_checkpoints\n",
        "1_numbers_and_text.ipynb\n",
        "1_numbers_and_text_FIRST.ipynb\n",
        "1HW_2015.ipynb\n",
        "Caesar_cipher.py\n",
        "Caesar_cipher_greek.py\n",
        "conversions-10-2-8-16.py\n",
        "Mandelbrot Set.ipynb\n",
        "PythonCrashCourseInGreek.ipynb\n",
        "PythonCrashCourseInGreek.py\n",
        "texthw.ipynb\n",
        "texthw.py\n",
        "Untitled0.ipynb\n",
        "\n",
        "The current directory path is: /Users/mosesboudourides/Dropbox/Python Projects/Fractals\n",
        "BerniesLSystem.py\n",
        "ChaosLyapunov.py\n",
        "dragonIFS.py\n",
        "fern1.py\n",
        "fractalgraph.py\n",
        "fractals1.py\n",
        "fractals2.py\n",
        "fractals3.py\n",
        "IFS1.py\n",
        "IterateLogistic.py\n",
        "IterateLogistic.pyc\n",
        "julia.py\n",
        "julia1.py\n",
        "kocht1.py\n",
        "kocht2.py\n",
        "kocht3.py\n",
        "kocht4.py\n",
        "mandelbrot.py\n",
        "mandelbrot1.py\n",
        "Mandelbrot2.py\n",
        "Mandelbrot3.py\n",
        "Mandelbrot4.py\n",
        "newtonfr.py\n",
        "RandomSpiralFractals.py\n",
        "sierpinskyt1.py\n",
        "sierpinskyt2.py\n",
        "sierpinskyt3.py\n",
        "sierpinskyt4.py\n",
        "sierpinskyt5.py\n",
        "snowflake.py\n",
        "turtle1.py\n",
        "turtle2.py\n",
        "\n",
        "The current directory path is: /Users/mosesboudourides/Dropbox/Courses Related/ProgrammatismosMePython/Scripts and iPython Notebooks\n"
       ]
      }
     ],
     "prompt_number": 41
    }
   ],
   "metadata": {}
  }
 ]
}